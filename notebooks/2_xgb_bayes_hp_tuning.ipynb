{
 "cells": [
  {
   "cell_type": "code",
   "execution_count": 3,
   "id": "57cedf00-1d18-4f2f-a6df-7244c86070af",
   "metadata": {},
   "outputs": [
    {
     "data": {
      "text/plain": [
       "'0.9.0'"
      ]
     },
     "execution_count": 3,
     "metadata": {},
     "output_type": "execute_result"
    }
   ],
   "source": [
    "import numpy as np\n",
    "import pandas as pd\n",
    "import sys\n",
    "if '../source' not in sys.path: sys.path.insert(0, '../source')\n",
    "from utils import *\n",
    "from xgboost import XGBRegressor\n",
    "from sklearn.model_selection import train_test_split\n",
    "from sklearn.metrics import r2_score, mean_absolute_error, mean_squared_error\n",
    "import skopt\n",
    "from skopt import BayesSearchCV\n",
    "from skopt.space import Integer, Real\n",
    "\n",
    "skopt.__version__"
   ]
  },
  {
   "cell_type": "markdown",
   "id": "332d7b55-e899-4055-856e-209539ad81d8",
   "metadata": {},
   "source": [
    "## Data import \n",
    "![green-divider](https://user-images.githubusercontent.com/7065401/52071924-c003ad80-2562-11e9-8297-1c6595f8a7ff.png)"
   ]
  },
  {
   "cell_type": "code",
   "execution_count": 4,
   "id": "7facc390-713f-4094-84ff-92281f135c69",
   "metadata": {},
   "outputs": [
    {
     "data": {
      "text/html": [
       "<div>\n",
       "<style scoped>\n",
       "    .dataframe tbody tr th:only-of-type {\n",
       "        vertical-align: middle;\n",
       "    }\n",
       "\n",
       "    .dataframe tbody tr th {\n",
       "        vertical-align: top;\n",
       "    }\n",
       "\n",
       "    .dataframe thead th {\n",
       "        text-align: right;\n",
       "    }\n",
       "</style>\n",
       "<table border=\"1\" class=\"dataframe\">\n",
       "  <thead>\n",
       "    <tr style=\"text-align: right;\">\n",
       "      <th></th>\n",
       "      <th>GTI</th>\n",
       "      <th>GHI</th>\n",
       "      <th>DNI</th>\n",
       "      <th>DHI</th>\n",
       "      <th>Air_Temp</th>\n",
       "      <th>RH</th>\n",
       "      <th>Pressure</th>\n",
       "      <th>Wind_speed</th>\n",
       "      <th>Wind_dir</th>\n",
       "      <th>Wind_gust</th>\n",
       "      <th>Rain</th>\n",
       "      <th>P_DC</th>\n",
       "      <th>Imputation</th>\n",
       "    </tr>\n",
       "    <tr>\n",
       "      <th>Time</th>\n",
       "      <th></th>\n",
       "      <th></th>\n",
       "      <th></th>\n",
       "      <th></th>\n",
       "      <th></th>\n",
       "      <th></th>\n",
       "      <th></th>\n",
       "      <th></th>\n",
       "      <th></th>\n",
       "      <th></th>\n",
       "      <th></th>\n",
       "      <th></th>\n",
       "      <th></th>\n",
       "    </tr>\n",
       "  </thead>\n",
       "  <tbody>\n",
       "    <tr>\n",
       "      <th>2022-01-01 00:00:00</th>\n",
       "      <td>0.0</td>\n",
       "      <td>0.0</td>\n",
       "      <td>0.0</td>\n",
       "      <td>0.0</td>\n",
       "      <td>10.170313</td>\n",
       "      <td>77.0750</td>\n",
       "      <td>969.5</td>\n",
       "      <td>0.0</td>\n",
       "      <td>0.0</td>\n",
       "      <td>0.0</td>\n",
       "      <td>0.0</td>\n",
       "      <td>0.0</td>\n",
       "      <td>NaN</td>\n",
       "    </tr>\n",
       "    <tr>\n",
       "      <th>2022-01-01 00:10:00</th>\n",
       "      <td>0.0</td>\n",
       "      <td>0.0</td>\n",
       "      <td>0.0</td>\n",
       "      <td>0.0</td>\n",
       "      <td>10.050000</td>\n",
       "      <td>78.3500</td>\n",
       "      <td>969.5</td>\n",
       "      <td>0.0</td>\n",
       "      <td>0.0</td>\n",
       "      <td>0.0</td>\n",
       "      <td>0.0</td>\n",
       "      <td>0.0</td>\n",
       "      <td>NaN</td>\n",
       "    </tr>\n",
       "    <tr>\n",
       "      <th>2022-01-01 00:20:00</th>\n",
       "      <td>0.0</td>\n",
       "      <td>0.0</td>\n",
       "      <td>0.0</td>\n",
       "      <td>0.0</td>\n",
       "      <td>9.731250</td>\n",
       "      <td>79.0375</td>\n",
       "      <td>969.5</td>\n",
       "      <td>0.0</td>\n",
       "      <td>0.0</td>\n",
       "      <td>0.0</td>\n",
       "      <td>0.0</td>\n",
       "      <td>0.0</td>\n",
       "      <td>NaN</td>\n",
       "    </tr>\n",
       "    <tr>\n",
       "      <th>2022-01-01 00:30:00</th>\n",
       "      <td>0.0</td>\n",
       "      <td>0.0</td>\n",
       "      <td>0.0</td>\n",
       "      <td>0.0</td>\n",
       "      <td>9.560938</td>\n",
       "      <td>80.2750</td>\n",
       "      <td>969.5</td>\n",
       "      <td>0.0</td>\n",
       "      <td>0.0</td>\n",
       "      <td>0.0</td>\n",
       "      <td>0.0</td>\n",
       "      <td>0.0</td>\n",
       "      <td>NaN</td>\n",
       "    </tr>\n",
       "    <tr>\n",
       "      <th>2022-01-01 00:40:00</th>\n",
       "      <td>0.0</td>\n",
       "      <td>0.0</td>\n",
       "      <td>0.0</td>\n",
       "      <td>0.0</td>\n",
       "      <td>9.790625</td>\n",
       "      <td>79.6625</td>\n",
       "      <td>969.5</td>\n",
       "      <td>0.0</td>\n",
       "      <td>0.0</td>\n",
       "      <td>0.0</td>\n",
       "      <td>0.0</td>\n",
       "      <td>0.0</td>\n",
       "      <td>NaN</td>\n",
       "    </tr>\n",
       "  </tbody>\n",
       "</table>\n",
       "</div>"
      ],
      "text/plain": [
       "                     GTI  GHI  DNI  DHI   Air_Temp       RH  Pressure  \\\n",
       "Time                                                                    \n",
       "2022-01-01 00:00:00  0.0  0.0  0.0  0.0  10.170313  77.0750     969.5   \n",
       "2022-01-01 00:10:00  0.0  0.0  0.0  0.0  10.050000  78.3500     969.5   \n",
       "2022-01-01 00:20:00  0.0  0.0  0.0  0.0   9.731250  79.0375     969.5   \n",
       "2022-01-01 00:30:00  0.0  0.0  0.0  0.0   9.560938  80.2750     969.5   \n",
       "2022-01-01 00:40:00  0.0  0.0  0.0  0.0   9.790625  79.6625     969.5   \n",
       "\n",
       "                     Wind_speed  Wind_dir  Wind_gust  Rain  P_DC  Imputation  \n",
       "Time                                                                          \n",
       "2022-01-01 00:00:00         0.0       0.0        0.0   0.0   0.0         NaN  \n",
       "2022-01-01 00:10:00         0.0       0.0        0.0   0.0   0.0         NaN  \n",
       "2022-01-01 00:20:00         0.0       0.0        0.0   0.0   0.0         NaN  \n",
       "2022-01-01 00:30:00         0.0       0.0        0.0   0.0   0.0         NaN  \n",
       "2022-01-01 00:40:00         0.0       0.0        0.0   0.0   0.0         NaN  "
      ]
     },
     "execution_count": 4,
     "metadata": {},
     "output_type": "execute_result"
    }
   ],
   "source": [
    "# Read the data, convert the 'Time' column to datetime format, set it as the index, and display the first few rows.\n",
    "df = pd.read_csv('../saves/meteo_p_dc_22_init_impute.csv')\n",
    "df['Time'] = pd.to_datetime(df['Time'], format='%Y-%m-%d %H:%M:%S')\n",
    "df.set_index('Time', inplace=True)\n",
    "df.head()"
   ]
  },
  {
   "cell_type": "markdown",
   "id": "21db63ed-5b4a-450c-8a0f-c6878e9bdbc8",
   "metadata": {},
   "source": [
    "## Data preparation \n",
    "![green-divider](https://user-images.githubusercontent.com/7065401/52071924-c003ad80-2562-11e9-8297-1c6595f8a7ff.png)"
   ]
  },
  {
   "cell_type": "code",
   "execution_count": 55,
   "id": "6bdcbef3-a965-4158-a61f-210c440d823d",
   "metadata": {},
   "outputs": [],
   "source": [
    "df_lags = df[['GTI', 'GHI', 'DNI', 'DHI', 'Air_Temp', 'RH', 'P_DC']].copy(deep=True)\n",
    "\n",
    "# Define the lag order as 12 * 6, (12 hours assuming data is sampled at 10-minute intervals).\n",
    "lag_order = 12 * 6  # 12 hours\n",
    "# Create lag features for the 'P_DC' column by shifting it forward in time up to 12 hours\n",
    "for lag in range(1, lag_order + 1):\n",
    "    df_lags[f'P_DC_Lag{lag}'] = df_lags['P_DC'].shift(lag)\n",
    "# remove rows with missing values.\n",
    "df_lags.dropna(inplace=True) "
   ]
  },
  {
   "cell_type": "code",
   "execution_count": 56,
   "id": "e45dbf51-a3b1-4340-ba81-b231c21da0c7",
   "metadata": {},
   "outputs": [],
   "source": [
    "X, y = df_lags.drop(columns=['P_DC']).values, df_lags['P_DC'].values\n",
    "\n",
    "# Split the data\n",
    "X_train, X_test, y_train, y_test = train_test_split(X, y, test_size=0.15, shuffle=False)\n",
    "X_train, X_val, y_train, y_val = train_test_split(X_train, y_train, test_size=0.1, shuffle=True)"
   ]
  },
  {
   "cell_type": "markdown",
   "id": "0694c633-b5ff-4f1a-89af-094cc18b1c06",
   "metadata": {},
   "source": [
    "## Training and Bayesian Hyperparameter Optimization \n",
    "![green-divider](https://user-images.githubusercontent.com/7065401/52071924-c003ad80-2562-11e9-8297-1c6595f8a7ff.png)"
   ]
  },
  {
   "cell_type": "code",
   "execution_count": 57,
   "id": "eb52aafe-b08d-4f1a-8eaf-2d03a670f782",
   "metadata": {},
   "outputs": [
    {
     "data": {
      "text/plain": [
       "16"
      ]
     },
     "execution_count": 57,
     "metadata": {},
     "output_type": "execute_result"
    }
   ],
   "source": [
    "import warnings\n",
    "warnings.filterwarnings('ignore')\n",
    "import multiprocessing\n",
    "multiprocessing.cpu_count()"
   ]
  },
  {
   "cell_type": "code",
   "execution_count": 58,
   "id": "8195dd6f-41b5-422e-af70-0343c70d8b9a",
   "metadata": {},
   "outputs": [
    {
     "name": "stderr",
     "output_type": "stream",
     "text": [
      "C:\\Users\\oussa\\miniconda3\\envs\\gep-intern\\Lib\\site-packages\\skopt\\optimizer\\optimizer.py:449: UserWarning:\n",
      "\n",
      "The objective has been evaluated at this point before.\n",
      "\n",
      "C:\\Users\\oussa\\miniconda3\\envs\\gep-intern\\Lib\\site-packages\\skopt\\optimizer\\optimizer.py:449: UserWarning:\n",
      "\n",
      "The objective has been evaluated at this point before.\n",
      "\n",
      "C:\\Users\\oussa\\miniconda3\\envs\\gep-intern\\Lib\\site-packages\\skopt\\optimizer\\optimizer.py:449: UserWarning:\n",
      "\n",
      "The objective has been evaluated at this point before.\n",
      "\n",
      "C:\\Users\\oussa\\miniconda3\\envs\\gep-intern\\Lib\\site-packages\\skopt\\optimizer\\optimizer.py:449: UserWarning:\n",
      "\n",
      "The objective has been evaluated at this point before.\n",
      "\n",
      "C:\\Users\\oussa\\miniconda3\\envs\\gep-intern\\Lib\\site-packages\\skopt\\optimizer\\optimizer.py:449: UserWarning:\n",
      "\n",
      "The objective has been evaluated at this point before.\n",
      "\n",
      "C:\\Users\\oussa\\miniconda3\\envs\\gep-intern\\Lib\\site-packages\\skopt\\optimizer\\optimizer.py:449: UserWarning:\n",
      "\n",
      "The objective has been evaluated at this point before.\n",
      "\n",
      "C:\\Users\\oussa\\miniconda3\\envs\\gep-intern\\Lib\\site-packages\\skopt\\optimizer\\optimizer.py:449: UserWarning:\n",
      "\n",
      "The objective has been evaluated at this point before.\n",
      "\n",
      "C:\\Users\\oussa\\miniconda3\\envs\\gep-intern\\Lib\\site-packages\\skopt\\optimizer\\optimizer.py:449: UserWarning:\n",
      "\n",
      "The objective has been evaluated at this point before.\n",
      "\n",
      "C:\\Users\\oussa\\miniconda3\\envs\\gep-intern\\Lib\\site-packages\\skopt\\optimizer\\optimizer.py:449: UserWarning:\n",
      "\n",
      "The objective has been evaluated at this point before.\n",
      "\n",
      "C:\\Users\\oussa\\miniconda3\\envs\\gep-intern\\Lib\\site-packages\\skopt\\optimizer\\optimizer.py:449: UserWarning:\n",
      "\n",
      "The objective has been evaluated at this point before.\n",
      "\n",
      "C:\\Users\\oussa\\miniconda3\\envs\\gep-intern\\Lib\\site-packages\\skopt\\optimizer\\optimizer.py:449: UserWarning:\n",
      "\n",
      "The objective has been evaluated at this point before.\n",
      "\n",
      "C:\\Users\\oussa\\miniconda3\\envs\\gep-intern\\Lib\\site-packages\\skopt\\optimizer\\optimizer.py:449: UserWarning:\n",
      "\n",
      "The objective has been evaluated at this point before.\n",
      "\n",
      "C:\\Users\\oussa\\miniconda3\\envs\\gep-intern\\Lib\\site-packages\\skopt\\optimizer\\optimizer.py:449: UserWarning:\n",
      "\n",
      "The objective has been evaluated at this point before.\n",
      "\n",
      "C:\\Users\\oussa\\miniconda3\\envs\\gep-intern\\Lib\\site-packages\\skopt\\optimizer\\optimizer.py:449: UserWarning:\n",
      "\n",
      "The objective has been evaluated at this point before.\n",
      "\n",
      "C:\\Users\\oussa\\miniconda3\\envs\\gep-intern\\Lib\\site-packages\\skopt\\optimizer\\optimizer.py:449: UserWarning:\n",
      "\n",
      "The objective has been evaluated at this point before.\n",
      "\n",
      "C:\\Users\\oussa\\miniconda3\\envs\\gep-intern\\Lib\\site-packages\\skopt\\optimizer\\optimizer.py:449: UserWarning:\n",
      "\n",
      "The objective has been evaluated at this point before.\n",
      "\n",
      "C:\\Users\\oussa\\miniconda3\\envs\\gep-intern\\Lib\\site-packages\\skopt\\optimizer\\optimizer.py:449: UserWarning:\n",
      "\n",
      "The objective has been evaluated at this point before.\n",
      "\n",
      "C:\\Users\\oussa\\miniconda3\\envs\\gep-intern\\Lib\\site-packages\\skopt\\optimizer\\optimizer.py:449: UserWarning:\n",
      "\n",
      "The objective has been evaluated at this point before.\n",
      "\n",
      "C:\\Users\\oussa\\miniconda3\\envs\\gep-intern\\Lib\\site-packages\\skopt\\optimizer\\optimizer.py:449: UserWarning:\n",
      "\n",
      "The objective has been evaluated at this point before.\n",
      "\n"
     ]
    },
    {
     "data": {
      "text/html": [
       "<style>#sk-container-id-1 {color: black;}#sk-container-id-1 pre{padding: 0;}#sk-container-id-1 div.sk-toggleable {background-color: white;}#sk-container-id-1 label.sk-toggleable__label {cursor: pointer;display: block;width: 100%;margin-bottom: 0;padding: 0.3em;box-sizing: border-box;text-align: center;}#sk-container-id-1 label.sk-toggleable__label-arrow:before {content: \"▸\";float: left;margin-right: 0.25em;color: #696969;}#sk-container-id-1 label.sk-toggleable__label-arrow:hover:before {color: black;}#sk-container-id-1 div.sk-estimator:hover label.sk-toggleable__label-arrow:before {color: black;}#sk-container-id-1 div.sk-toggleable__content {max-height: 0;max-width: 0;overflow: hidden;text-align: left;background-color: #f0f8ff;}#sk-container-id-1 div.sk-toggleable__content pre {margin: 0.2em;color: black;border-radius: 0.25em;background-color: #f0f8ff;}#sk-container-id-1 input.sk-toggleable__control:checked~div.sk-toggleable__content {max-height: 200px;max-width: 100%;overflow: auto;}#sk-container-id-1 input.sk-toggleable__control:checked~label.sk-toggleable__label-arrow:before {content: \"▾\";}#sk-container-id-1 div.sk-estimator input.sk-toggleable__control:checked~label.sk-toggleable__label {background-color: #d4ebff;}#sk-container-id-1 div.sk-label input.sk-toggleable__control:checked~label.sk-toggleable__label {background-color: #d4ebff;}#sk-container-id-1 input.sk-hidden--visually {border: 0;clip: rect(1px 1px 1px 1px);clip: rect(1px, 1px, 1px, 1px);height: 1px;margin: -1px;overflow: hidden;padding: 0;position: absolute;width: 1px;}#sk-container-id-1 div.sk-estimator {font-family: monospace;background-color: #f0f8ff;border: 1px dotted black;border-radius: 0.25em;box-sizing: border-box;margin-bottom: 0.5em;}#sk-container-id-1 div.sk-estimator:hover {background-color: #d4ebff;}#sk-container-id-1 div.sk-parallel-item::after {content: \"\";width: 100%;border-bottom: 1px solid gray;flex-grow: 1;}#sk-container-id-1 div.sk-label:hover label.sk-toggleable__label {background-color: #d4ebff;}#sk-container-id-1 div.sk-serial::before {content: \"\";position: absolute;border-left: 1px solid gray;box-sizing: border-box;top: 0;bottom: 0;left: 50%;z-index: 0;}#sk-container-id-1 div.sk-serial {display: flex;flex-direction: column;align-items: center;background-color: white;padding-right: 0.2em;padding-left: 0.2em;position: relative;}#sk-container-id-1 div.sk-item {position: relative;z-index: 1;}#sk-container-id-1 div.sk-parallel {display: flex;align-items: stretch;justify-content: center;background-color: white;position: relative;}#sk-container-id-1 div.sk-item::before, #sk-container-id-1 div.sk-parallel-item::before {content: \"\";position: absolute;border-left: 1px solid gray;box-sizing: border-box;top: 0;bottom: 0;left: 50%;z-index: -1;}#sk-container-id-1 div.sk-parallel-item {display: flex;flex-direction: column;z-index: 1;position: relative;background-color: white;}#sk-container-id-1 div.sk-parallel-item:first-child::after {align-self: flex-end;width: 50%;}#sk-container-id-1 div.sk-parallel-item:last-child::after {align-self: flex-start;width: 50%;}#sk-container-id-1 div.sk-parallel-item:only-child::after {width: 0;}#sk-container-id-1 div.sk-dashed-wrapped {border: 1px dashed gray;margin: 0 0.4em 0.5em 0.4em;box-sizing: border-box;padding-bottom: 0.4em;background-color: white;}#sk-container-id-1 div.sk-label label {font-family: monospace;font-weight: bold;display: inline-block;line-height: 1.2em;}#sk-container-id-1 div.sk-label-container {text-align: center;}#sk-container-id-1 div.sk-container {/* jupyter's `normalize.less` sets `[hidden] { display: none; }` but bootstrap.min.css set `[hidden] { display: none !important; }` so we also need the `!important` here to be able to override the default hidden behavior on the sphinx rendered scikit-learn.org. See: https://github.com/scikit-learn/scikit-learn/issues/21755 */display: inline-block !important;position: relative;}#sk-container-id-1 div.sk-text-repr-fallback {display: none;}</style><div id=\"sk-container-id-1\" class=\"sk-top-container\"><div class=\"sk-text-repr-fallback\"><pre>BayesSearchCV(cv=3,\n",
       "              estimator=XGBRegressor(base_score=None, booster=None,\n",
       "                                     callbacks=None, colsample_bylevel=None,\n",
       "                                     colsample_bynode=None,\n",
       "                                     colsample_bytree=None,\n",
       "                                     early_stopping_rounds=None,\n",
       "                                     enable_categorical=False, eval_metric=None,\n",
       "                                     feature_types=None, gamma=None, gpu_id=0,\n",
       "                                     grow_policy=None, importance_type=None,\n",
       "                                     interaction_constraints=None,\n",
       "                                     learning_rate=None, max...\n",
       "              scoring=&#x27;neg_mean_squared_error&#x27;,\n",
       "              search_spaces={&#x27;gamma&#x27;: Real(low=1e-09, high=0.5, prior=&#x27;log-uniform&#x27;, transform=&#x27;normalize&#x27;),\n",
       "                             &#x27;learning_rate&#x27;: Real(low=0.01, high=0.3, prior=&#x27;log-uniform&#x27;, transform=&#x27;normalize&#x27;),\n",
       "                             &#x27;max_depth&#x27;: Integer(low=3, high=6, prior=&#x27;uniform&#x27;, transform=&#x27;normalize&#x27;),\n",
       "                             &#x27;n_estimators&#x27;: Integer(low=200, high=1500, prior=&#x27;uniform&#x27;, transform=&#x27;normalize&#x27;)})</pre><b>In a Jupyter environment, please rerun this cell to show the HTML representation or trust the notebook. <br />On GitHub, the HTML representation is unable to render, please try loading this page with nbviewer.org.</b></div><div class=\"sk-container\" hidden><div class=\"sk-item sk-dashed-wrapped\"><div class=\"sk-label-container\"><div class=\"sk-label sk-toggleable\"><input class=\"sk-toggleable__control sk-hidden--visually\" id=\"sk-estimator-id-1\" type=\"checkbox\" ><label for=\"sk-estimator-id-1\" class=\"sk-toggleable__label sk-toggleable__label-arrow\">BayesSearchCV</label><div class=\"sk-toggleable__content\"><pre>BayesSearchCV(cv=3,\n",
       "              estimator=XGBRegressor(base_score=None, booster=None,\n",
       "                                     callbacks=None, colsample_bylevel=None,\n",
       "                                     colsample_bynode=None,\n",
       "                                     colsample_bytree=None,\n",
       "                                     early_stopping_rounds=None,\n",
       "                                     enable_categorical=False, eval_metric=None,\n",
       "                                     feature_types=None, gamma=None, gpu_id=0,\n",
       "                                     grow_policy=None, importance_type=None,\n",
       "                                     interaction_constraints=None,\n",
       "                                     learning_rate=None, max...\n",
       "              scoring=&#x27;neg_mean_squared_error&#x27;,\n",
       "              search_spaces={&#x27;gamma&#x27;: Real(low=1e-09, high=0.5, prior=&#x27;log-uniform&#x27;, transform=&#x27;normalize&#x27;),\n",
       "                             &#x27;learning_rate&#x27;: Real(low=0.01, high=0.3, prior=&#x27;log-uniform&#x27;, transform=&#x27;normalize&#x27;),\n",
       "                             &#x27;max_depth&#x27;: Integer(low=3, high=6, prior=&#x27;uniform&#x27;, transform=&#x27;normalize&#x27;),\n",
       "                             &#x27;n_estimators&#x27;: Integer(low=200, high=1500, prior=&#x27;uniform&#x27;, transform=&#x27;normalize&#x27;)})</pre></div></div></div><div class=\"sk-parallel\"><div class=\"sk-parallel-item\"><div class=\"sk-item\"><div class=\"sk-label-container\"><div class=\"sk-label sk-toggleable\"><input class=\"sk-toggleable__control sk-hidden--visually\" id=\"sk-estimator-id-2\" type=\"checkbox\" ><label for=\"sk-estimator-id-2\" class=\"sk-toggleable__label sk-toggleable__label-arrow\">estimator: XGBRegressor</label><div class=\"sk-toggleable__content\"><pre>XGBRegressor(base_score=None, booster=None, callbacks=None,\n",
       "             colsample_bylevel=None, colsample_bynode=None,\n",
       "             colsample_bytree=None, early_stopping_rounds=None,\n",
       "             enable_categorical=False, eval_metric=None, feature_types=None,\n",
       "             gamma=None, gpu_id=0, grow_policy=None, importance_type=None,\n",
       "             interaction_constraints=None, learning_rate=None, max_bin=None,\n",
       "             max_cat_threshold=None, max_cat_to_onehot=None,\n",
       "             max_delta_step=None, max_depth=None, max_leaves=None,\n",
       "             min_child_weight=None, missing=nan, monotone_constraints=None,\n",
       "             n_estimators=100, n_jobs=None, num_parallel_tree=None,\n",
       "             predictor=None, random_state=None, ...)</pre></div></div></div><div class=\"sk-serial\"><div class=\"sk-item\"><div class=\"sk-estimator sk-toggleable\"><input class=\"sk-toggleable__control sk-hidden--visually\" id=\"sk-estimator-id-3\" type=\"checkbox\" ><label for=\"sk-estimator-id-3\" class=\"sk-toggleable__label sk-toggleable__label-arrow\">XGBRegressor</label><div class=\"sk-toggleable__content\"><pre>XGBRegressor(base_score=None, booster=None, callbacks=None,\n",
       "             colsample_bylevel=None, colsample_bynode=None,\n",
       "             colsample_bytree=None, early_stopping_rounds=None,\n",
       "             enable_categorical=False, eval_metric=None, feature_types=None,\n",
       "             gamma=None, gpu_id=0, grow_policy=None, importance_type=None,\n",
       "             interaction_constraints=None, learning_rate=None, max_bin=None,\n",
       "             max_cat_threshold=None, max_cat_to_onehot=None,\n",
       "             max_delta_step=None, max_depth=None, max_leaves=None,\n",
       "             min_child_weight=None, missing=nan, monotone_constraints=None,\n",
       "             n_estimators=100, n_jobs=None, num_parallel_tree=None,\n",
       "             predictor=None, random_state=None, ...)</pre></div></div></div></div></div></div></div></div></div></div>"
      ],
      "text/plain": [
       "BayesSearchCV(cv=3,\n",
       "              estimator=XGBRegressor(base_score=None, booster=None,\n",
       "                                     callbacks=None, colsample_bylevel=None,\n",
       "                                     colsample_bynode=None,\n",
       "                                     colsample_bytree=None,\n",
       "                                     early_stopping_rounds=None,\n",
       "                                     enable_categorical=False, eval_metric=None,\n",
       "                                     feature_types=None, gamma=None, gpu_id=0,\n",
       "                                     grow_policy=None, importance_type=None,\n",
       "                                     interaction_constraints=None,\n",
       "                                     learning_rate=None, max...\n",
       "              scoring='neg_mean_squared_error',\n",
       "              search_spaces={'gamma': Real(low=1e-09, high=0.5, prior='log-uniform', transform='normalize'),\n",
       "                             'learning_rate': Real(low=0.01, high=0.3, prior='log-uniform', transform='normalize'),\n",
       "                             'max_depth': Integer(low=3, high=6, prior='uniform', transform='normalize'),\n",
       "                             'n_estimators': Integer(low=200, high=1500, prior='uniform', transform='normalize')})"
      ]
     },
     "execution_count": 58,
     "metadata": {},
     "output_type": "execute_result"
    }
   ],
   "source": [
    "# Create an XGBoost regressor with the squared error as the objective function and GPU acceleration enabled.\n",
    "estimator = XGBRegressor(objective='reg:squarederror', tree_method=\"gpu_hist\", gpu_id=0)\n",
    "\n",
    "# Define regressor fitting parameters\n",
    "fit_params = {\n",
    "    'early_stopping_rounds': 10,\n",
    "    'eval_set':[(X_val, y_val)],\n",
    "    'verbose': True,\n",
    "}\n",
    "\n",
    "# Define a search space for hyperparameter optimization.\n",
    "search_space = {\n",
    "    'max_depth': Integer(3, 6),\n",
    "    'n_estimators': Integer(200, 1500),\n",
    "    'learning_rate': Real(0.01, 0.3, 'log-uniform'),\n",
    "    'gamma': Real(1e-9, 0.5, 'log-uniform'),\n",
    "}\n",
    "\n",
    "# Create a Bayesian hyperparameter search using BayesSearchCV with the XGBoost estimator, the defined search space, cross-validation with 3 folds, \n",
    "# using negative mean squared error as the scoring metric, and parallel processing with 3 jobs.\n",
    "\n",
    "opt = BayesSearchCV(\n",
    "    estimator=estimator,\n",
    "    search_spaces=search_space,\n",
    "    fit_params=fit_params,\n",
    "    cv=3,\n",
    "    scoring=\"neg_mean_squared_error\",\n",
    "    random_state=42,\n",
    "    n_iter=50,\n",
    "    n_points=2,\n",
    "    n_jobs=3,\n",
    "    verbose=0,\n",
    ")\n",
    "\n",
    "# Lunching the search (n_iter iterations) to find the best hyperparameters using the training data.\n",
    "opt.fit(X_train, y_train)"
   ]
  },
  {
   "cell_type": "code",
   "execution_count": 259,
   "id": "7351c83d-1d9d-43dc-8bd2-876af7c2bd51",
   "metadata": {},
   "outputs": [
    {
     "data": {
      "text/plain": [
       "OrderedDict([('gamma', 0.49999999999999994),\n",
       "             ('learning_rate', 0.01),\n",
       "             ('max_depth', 6),\n",
       "             ('n_estimators', 674)])"
      ]
     },
     "execution_count": 259,
     "metadata": {},
     "output_type": "execute_result"
    }
   ],
   "source": [
    "opt.best_params_"
   ]
  },
  {
   "cell_type": "code",
   "execution_count": 260,
   "id": "ba9b836d-37a9-41ab-8015-db46f82ee672",
   "metadata": {},
   "outputs": [
    {
     "data": {
      "application/vnd.plotly.v1+json": {
       "config": {
        "plotlyServerURL": "https://plot.ly"
       },
       "data": [
        {
         "type": "bar",
         "x": [
          "P_DC_Lag1",
          "GTI",
          "P_DC_Lag64",
          "P_DC_Lag51",
          "P_DC_Lag61",
          "P_DC_Lag60",
          "P_DC_Lag70",
          "P_DC_Lag52",
          "P_DC_Lag69",
          "P_DC_Lag63",
          "P_DC_Lag57",
          "P_DC_Lag58",
          "P_DC_Lag62",
          "P_DC_Lag66",
          "P_DC_Lag50",
          "P_DC_Lag4",
          "P_DC_Lag53",
          "P_DC_Lag46",
          "P_DC_Lag59",
          "P_DC_Lag48"
         ],
         "y": [
          0.8087232112884521,
          0.06467169523239136,
          0.004496670328080654,
          0.004255655687302351,
          0.004012045916169882,
          0.003686031326651573,
          0.003671246115118265,
          0.003533878130838275,
          0.003147616982460022,
          0.0028886692598462105,
          0.0028187769930809736,
          0.0026756112929433584,
          0.0025942460633814335,
          0.002578389598056674,
          0.0024118025321513414,
          0.0021555188577622175,
          0.002126046223565936,
          0.0020782288629561663,
          0.0020252743270248175,
          0.0018860596464946866
         ]
        }
       ],
       "layout": {
        "autosize": true,
        "template": {
         "data": {
          "bar": [
           {
            "error_x": {
             "color": "#2a3f5f"
            },
            "error_y": {
             "color": "#2a3f5f"
            },
            "marker": {
             "line": {
              "color": "#E5ECF6",
              "width": 0.5
             },
             "pattern": {
              "fillmode": "overlay",
              "size": 10,
              "solidity": 0.2
             }
            },
            "type": "bar"
           }
          ],
          "barpolar": [
           {
            "marker": {
             "line": {
              "color": "#E5ECF6",
              "width": 0.5
             },
             "pattern": {
              "fillmode": "overlay",
              "size": 10,
              "solidity": 0.2
             }
            },
            "type": "barpolar"
           }
          ],
          "carpet": [
           {
            "aaxis": {
             "endlinecolor": "#2a3f5f",
             "gridcolor": "white",
             "linecolor": "white",
             "minorgridcolor": "white",
             "startlinecolor": "#2a3f5f"
            },
            "baxis": {
             "endlinecolor": "#2a3f5f",
             "gridcolor": "white",
             "linecolor": "white",
             "minorgridcolor": "white",
             "startlinecolor": "#2a3f5f"
            },
            "type": "carpet"
           }
          ],
          "choropleth": [
           {
            "colorbar": {
             "outlinewidth": 0,
             "ticks": ""
            },
            "type": "choropleth"
           }
          ],
          "contour": [
           {
            "colorbar": {
             "outlinewidth": 0,
             "ticks": ""
            },
            "colorscale": [
             [
              0,
              "#0d0887"
             ],
             [
              0.1111111111111111,
              "#46039f"
             ],
             [
              0.2222222222222222,
              "#7201a8"
             ],
             [
              0.3333333333333333,
              "#9c179e"
             ],
             [
              0.4444444444444444,
              "#bd3786"
             ],
             [
              0.5555555555555556,
              "#d8576b"
             ],
             [
              0.6666666666666666,
              "#ed7953"
             ],
             [
              0.7777777777777778,
              "#fb9f3a"
             ],
             [
              0.8888888888888888,
              "#fdca26"
             ],
             [
              1,
              "#f0f921"
             ]
            ],
            "type": "contour"
           }
          ],
          "contourcarpet": [
           {
            "colorbar": {
             "outlinewidth": 0,
             "ticks": ""
            },
            "type": "contourcarpet"
           }
          ],
          "heatmap": [
           {
            "colorbar": {
             "outlinewidth": 0,
             "ticks": ""
            },
            "colorscale": [
             [
              0,
              "#0d0887"
             ],
             [
              0.1111111111111111,
              "#46039f"
             ],
             [
              0.2222222222222222,
              "#7201a8"
             ],
             [
              0.3333333333333333,
              "#9c179e"
             ],
             [
              0.4444444444444444,
              "#bd3786"
             ],
             [
              0.5555555555555556,
              "#d8576b"
             ],
             [
              0.6666666666666666,
              "#ed7953"
             ],
             [
              0.7777777777777778,
              "#fb9f3a"
             ],
             [
              0.8888888888888888,
              "#fdca26"
             ],
             [
              1,
              "#f0f921"
             ]
            ],
            "type": "heatmap"
           }
          ],
          "heatmapgl": [
           {
            "colorbar": {
             "outlinewidth": 0,
             "ticks": ""
            },
            "colorscale": [
             [
              0,
              "#0d0887"
             ],
             [
              0.1111111111111111,
              "#46039f"
             ],
             [
              0.2222222222222222,
              "#7201a8"
             ],
             [
              0.3333333333333333,
              "#9c179e"
             ],
             [
              0.4444444444444444,
              "#bd3786"
             ],
             [
              0.5555555555555556,
              "#d8576b"
             ],
             [
              0.6666666666666666,
              "#ed7953"
             ],
             [
              0.7777777777777778,
              "#fb9f3a"
             ],
             [
              0.8888888888888888,
              "#fdca26"
             ],
             [
              1,
              "#f0f921"
             ]
            ],
            "type": "heatmapgl"
           }
          ],
          "histogram": [
           {
            "marker": {
             "pattern": {
              "fillmode": "overlay",
              "size": 10,
              "solidity": 0.2
             }
            },
            "type": "histogram"
           }
          ],
          "histogram2d": [
           {
            "colorbar": {
             "outlinewidth": 0,
             "ticks": ""
            },
            "colorscale": [
             [
              0,
              "#0d0887"
             ],
             [
              0.1111111111111111,
              "#46039f"
             ],
             [
              0.2222222222222222,
              "#7201a8"
             ],
             [
              0.3333333333333333,
              "#9c179e"
             ],
             [
              0.4444444444444444,
              "#bd3786"
             ],
             [
              0.5555555555555556,
              "#d8576b"
             ],
             [
              0.6666666666666666,
              "#ed7953"
             ],
             [
              0.7777777777777778,
              "#fb9f3a"
             ],
             [
              0.8888888888888888,
              "#fdca26"
             ],
             [
              1,
              "#f0f921"
             ]
            ],
            "type": "histogram2d"
           }
          ],
          "histogram2dcontour": [
           {
            "colorbar": {
             "outlinewidth": 0,
             "ticks": ""
            },
            "colorscale": [
             [
              0,
              "#0d0887"
             ],
             [
              0.1111111111111111,
              "#46039f"
             ],
             [
              0.2222222222222222,
              "#7201a8"
             ],
             [
              0.3333333333333333,
              "#9c179e"
             ],
             [
              0.4444444444444444,
              "#bd3786"
             ],
             [
              0.5555555555555556,
              "#d8576b"
             ],
             [
              0.6666666666666666,
              "#ed7953"
             ],
             [
              0.7777777777777778,
              "#fb9f3a"
             ],
             [
              0.8888888888888888,
              "#fdca26"
             ],
             [
              1,
              "#f0f921"
             ]
            ],
            "type": "histogram2dcontour"
           }
          ],
          "mesh3d": [
           {
            "colorbar": {
             "outlinewidth": 0,
             "ticks": ""
            },
            "type": "mesh3d"
           }
          ],
          "parcoords": [
           {
            "line": {
             "colorbar": {
              "outlinewidth": 0,
              "ticks": ""
             }
            },
            "type": "parcoords"
           }
          ],
          "pie": [
           {
            "automargin": true,
            "type": "pie"
           }
          ],
          "scatter": [
           {
            "fillpattern": {
             "fillmode": "overlay",
             "size": 10,
             "solidity": 0.2
            },
            "type": "scatter"
           }
          ],
          "scatter3d": [
           {
            "line": {
             "colorbar": {
              "outlinewidth": 0,
              "ticks": ""
             }
            },
            "marker": {
             "colorbar": {
              "outlinewidth": 0,
              "ticks": ""
             }
            },
            "type": "scatter3d"
           }
          ],
          "scattercarpet": [
           {
            "marker": {
             "colorbar": {
              "outlinewidth": 0,
              "ticks": ""
             }
            },
            "type": "scattercarpet"
           }
          ],
          "scattergeo": [
           {
            "marker": {
             "colorbar": {
              "outlinewidth": 0,
              "ticks": ""
             }
            },
            "type": "scattergeo"
           }
          ],
          "scattergl": [
           {
            "marker": {
             "colorbar": {
              "outlinewidth": 0,
              "ticks": ""
             }
            },
            "type": "scattergl"
           }
          ],
          "scattermapbox": [
           {
            "marker": {
             "colorbar": {
              "outlinewidth": 0,
              "ticks": ""
             }
            },
            "type": "scattermapbox"
           }
          ],
          "scatterpolar": [
           {
            "marker": {
             "colorbar": {
              "outlinewidth": 0,
              "ticks": ""
             }
            },
            "type": "scatterpolar"
           }
          ],
          "scatterpolargl": [
           {
            "marker": {
             "colorbar": {
              "outlinewidth": 0,
              "ticks": ""
             }
            },
            "type": "scatterpolargl"
           }
          ],
          "scatterternary": [
           {
            "marker": {
             "colorbar": {
              "outlinewidth": 0,
              "ticks": ""
             }
            },
            "type": "scatterternary"
           }
          ],
          "surface": [
           {
            "colorbar": {
             "outlinewidth": 0,
             "ticks": ""
            },
            "colorscale": [
             [
              0,
              "#0d0887"
             ],
             [
              0.1111111111111111,
              "#46039f"
             ],
             [
              0.2222222222222222,
              "#7201a8"
             ],
             [
              0.3333333333333333,
              "#9c179e"
             ],
             [
              0.4444444444444444,
              "#bd3786"
             ],
             [
              0.5555555555555556,
              "#d8576b"
             ],
             [
              0.6666666666666666,
              "#ed7953"
             ],
             [
              0.7777777777777778,
              "#fb9f3a"
             ],
             [
              0.8888888888888888,
              "#fdca26"
             ],
             [
              1,
              "#f0f921"
             ]
            ],
            "type": "surface"
           }
          ],
          "table": [
           {
            "cells": {
             "fill": {
              "color": "#EBF0F8"
             },
             "line": {
              "color": "white"
             }
            },
            "header": {
             "fill": {
              "color": "#C8D4E3"
             },
             "line": {
              "color": "white"
             }
            },
            "type": "table"
           }
          ]
         },
         "layout": {
          "annotationdefaults": {
           "arrowcolor": "#2a3f5f",
           "arrowhead": 0,
           "arrowwidth": 1
          },
          "autotypenumbers": "strict",
          "coloraxis": {
           "colorbar": {
            "outlinewidth": 0,
            "ticks": ""
           }
          },
          "colorscale": {
           "diverging": [
            [
             0,
             "#8e0152"
            ],
            [
             0.1,
             "#c51b7d"
            ],
            [
             0.2,
             "#de77ae"
            ],
            [
             0.3,
             "#f1b6da"
            ],
            [
             0.4,
             "#fde0ef"
            ],
            [
             0.5,
             "#f7f7f7"
            ],
            [
             0.6,
             "#e6f5d0"
            ],
            [
             0.7,
             "#b8e186"
            ],
            [
             0.8,
             "#7fbc41"
            ],
            [
             0.9,
             "#4d9221"
            ],
            [
             1,
             "#276419"
            ]
           ],
           "sequential": [
            [
             0,
             "#0d0887"
            ],
            [
             0.1111111111111111,
             "#46039f"
            ],
            [
             0.2222222222222222,
             "#7201a8"
            ],
            [
             0.3333333333333333,
             "#9c179e"
            ],
            [
             0.4444444444444444,
             "#bd3786"
            ],
            [
             0.5555555555555556,
             "#d8576b"
            ],
            [
             0.6666666666666666,
             "#ed7953"
            ],
            [
             0.7777777777777778,
             "#fb9f3a"
            ],
            [
             0.8888888888888888,
             "#fdca26"
            ],
            [
             1,
             "#f0f921"
            ]
           ],
           "sequentialminus": [
            [
             0,
             "#0d0887"
            ],
            [
             0.1111111111111111,
             "#46039f"
            ],
            [
             0.2222222222222222,
             "#7201a8"
            ],
            [
             0.3333333333333333,
             "#9c179e"
            ],
            [
             0.4444444444444444,
             "#bd3786"
            ],
            [
             0.5555555555555556,
             "#d8576b"
            ],
            [
             0.6666666666666666,
             "#ed7953"
            ],
            [
             0.7777777777777778,
             "#fb9f3a"
            ],
            [
             0.8888888888888888,
             "#fdca26"
            ],
            [
             1,
             "#f0f921"
            ]
           ]
          },
          "colorway": [
           "#636efa",
           "#EF553B",
           "#00cc96",
           "#ab63fa",
           "#FFA15A",
           "#19d3f3",
           "#FF6692",
           "#B6E880",
           "#FF97FF",
           "#FECB52"
          ],
          "font": {
           "color": "#2a3f5f"
          },
          "geo": {
           "bgcolor": "white",
           "lakecolor": "white",
           "landcolor": "#E5ECF6",
           "showlakes": true,
           "showland": true,
           "subunitcolor": "white"
          },
          "hoverlabel": {
           "align": "left"
          },
          "hovermode": "closest",
          "mapbox": {
           "style": "light"
          },
          "paper_bgcolor": "white",
          "plot_bgcolor": "#E5ECF6",
          "polar": {
           "angularaxis": {
            "gridcolor": "white",
            "linecolor": "white",
            "ticks": ""
           },
           "bgcolor": "#E5ECF6",
           "radialaxis": {
            "gridcolor": "white",
            "linecolor": "white",
            "ticks": ""
           }
          },
          "scene": {
           "xaxis": {
            "backgroundcolor": "#E5ECF6",
            "gridcolor": "white",
            "gridwidth": 2,
            "linecolor": "white",
            "showbackground": true,
            "ticks": "",
            "zerolinecolor": "white"
           },
           "yaxis": {
            "backgroundcolor": "#E5ECF6",
            "gridcolor": "white",
            "gridwidth": 2,
            "linecolor": "white",
            "showbackground": true,
            "ticks": "",
            "zerolinecolor": "white"
           },
           "zaxis": {
            "backgroundcolor": "#E5ECF6",
            "gridcolor": "white",
            "gridwidth": 2,
            "linecolor": "white",
            "showbackground": true,
            "ticks": "",
            "zerolinecolor": "white"
           }
          },
          "shapedefaults": {
           "line": {
            "color": "#2a3f5f"
           }
          },
          "ternary": {
           "aaxis": {
            "gridcolor": "white",
            "linecolor": "white",
            "ticks": ""
           },
           "baxis": {
            "gridcolor": "white",
            "linecolor": "white",
            "ticks": ""
           },
           "bgcolor": "#E5ECF6",
           "caxis": {
            "gridcolor": "white",
            "linecolor": "white",
            "ticks": ""
           }
          },
          "title": {
           "x": 0.05
          },
          "xaxis": {
           "automargin": true,
           "gridcolor": "white",
           "linecolor": "white",
           "ticks": "",
           "title": {
            "standoff": 15
           },
           "zerolinecolor": "white",
           "zerolinewidth": 2
          },
          "yaxis": {
           "automargin": true,
           "gridcolor": "white",
           "linecolor": "white",
           "ticks": "",
           "title": {
            "standoff": 15
           },
           "zerolinecolor": "white",
           "zerolinewidth": 2
          }
         }
        },
        "xaxis": {
         "autorange": true,
         "range": [
          -0.5,
          19.5
         ],
         "type": "category"
        },
        "yaxis": {
         "autorange": true,
         "range": [
          0,
          0.8512875908299496
         ],
         "type": "linear"
        }
       }
      },
      "text/html": [
       "<div>                            <div id=\"12fa4768-53bb-45a5-9c7c-eb045adbd3d9\" class=\"plotly-graph-div\" style=\"height:525px; width:100%;\"></div>            <script type=\"text/javascript\">                require([\"plotly\"], function(Plotly) {                    window.PLOTLYENV=window.PLOTLYENV || {};                                    if (document.getElementById(\"12fa4768-53bb-45a5-9c7c-eb045adbd3d9\")) {                    Plotly.newPlot(                        \"12fa4768-53bb-45a5-9c7c-eb045adbd3d9\",                        [{\"x\":[\"P_DC_Lag1\",\"GTI\",\"P_DC_Lag64\",\"P_DC_Lag51\",\"P_DC_Lag61\",\"P_DC_Lag60\",\"P_DC_Lag70\",\"P_DC_Lag52\",\"P_DC_Lag69\",\"P_DC_Lag63\",\"P_DC_Lag57\",\"P_DC_Lag58\",\"P_DC_Lag62\",\"P_DC_Lag66\",\"P_DC_Lag50\",\"P_DC_Lag4\",\"P_DC_Lag53\",\"P_DC_Lag46\",\"P_DC_Lag59\",\"P_DC_Lag48\"],\"y\":[0.8087232112884521,0.06467169523239136,0.004496670328080654,0.004255655687302351,0.004012045916169882,0.003686031326651573,0.003671246115118265,0.003533878130838275,0.003147616982460022,0.0028886692598462105,0.0028187769930809736,0.0026756112929433584,0.0025942460633814335,0.002578389598056674,0.0024118025321513414,0.0021555188577622175,0.002126046223565936,0.0020782288629561663,0.0020252743270248175,0.0018860596464946866],\"type\":\"bar\"}],                        {\"template\":{\"data\":{\"histogram2dcontour\":[{\"type\":\"histogram2dcontour\",\"colorbar\":{\"outlinewidth\":0,\"ticks\":\"\"},\"colorscale\":[[0.0,\"#0d0887\"],[0.1111111111111111,\"#46039f\"],[0.2222222222222222,\"#7201a8\"],[0.3333333333333333,\"#9c179e\"],[0.4444444444444444,\"#bd3786\"],[0.5555555555555556,\"#d8576b\"],[0.6666666666666666,\"#ed7953\"],[0.7777777777777778,\"#fb9f3a\"],[0.8888888888888888,\"#fdca26\"],[1.0,\"#f0f921\"]]}],\"choropleth\":[{\"type\":\"choropleth\",\"colorbar\":{\"outlinewidth\":0,\"ticks\":\"\"}}],\"histogram2d\":[{\"type\":\"histogram2d\",\"colorbar\":{\"outlinewidth\":0,\"ticks\":\"\"},\"colorscale\":[[0.0,\"#0d0887\"],[0.1111111111111111,\"#46039f\"],[0.2222222222222222,\"#7201a8\"],[0.3333333333333333,\"#9c179e\"],[0.4444444444444444,\"#bd3786\"],[0.5555555555555556,\"#d8576b\"],[0.6666666666666666,\"#ed7953\"],[0.7777777777777778,\"#fb9f3a\"],[0.8888888888888888,\"#fdca26\"],[1.0,\"#f0f921\"]]}],\"heatmap\":[{\"type\":\"heatmap\",\"colorbar\":{\"outlinewidth\":0,\"ticks\":\"\"},\"colorscale\":[[0.0,\"#0d0887\"],[0.1111111111111111,\"#46039f\"],[0.2222222222222222,\"#7201a8\"],[0.3333333333333333,\"#9c179e\"],[0.4444444444444444,\"#bd3786\"],[0.5555555555555556,\"#d8576b\"],[0.6666666666666666,\"#ed7953\"],[0.7777777777777778,\"#fb9f3a\"],[0.8888888888888888,\"#fdca26\"],[1.0,\"#f0f921\"]]}],\"heatmapgl\":[{\"type\":\"heatmapgl\",\"colorbar\":{\"outlinewidth\":0,\"ticks\":\"\"},\"colorscale\":[[0.0,\"#0d0887\"],[0.1111111111111111,\"#46039f\"],[0.2222222222222222,\"#7201a8\"],[0.3333333333333333,\"#9c179e\"],[0.4444444444444444,\"#bd3786\"],[0.5555555555555556,\"#d8576b\"],[0.6666666666666666,\"#ed7953\"],[0.7777777777777778,\"#fb9f3a\"],[0.8888888888888888,\"#fdca26\"],[1.0,\"#f0f921\"]]}],\"contourcarpet\":[{\"type\":\"contourcarpet\",\"colorbar\":{\"outlinewidth\":0,\"ticks\":\"\"}}],\"contour\":[{\"type\":\"contour\",\"colorbar\":{\"outlinewidth\":0,\"ticks\":\"\"},\"colorscale\":[[0.0,\"#0d0887\"],[0.1111111111111111,\"#46039f\"],[0.2222222222222222,\"#7201a8\"],[0.3333333333333333,\"#9c179e\"],[0.4444444444444444,\"#bd3786\"],[0.5555555555555556,\"#d8576b\"],[0.6666666666666666,\"#ed7953\"],[0.7777777777777778,\"#fb9f3a\"],[0.8888888888888888,\"#fdca26\"],[1.0,\"#f0f921\"]]}],\"surface\":[{\"type\":\"surface\",\"colorbar\":{\"outlinewidth\":0,\"ticks\":\"\"},\"colorscale\":[[0.0,\"#0d0887\"],[0.1111111111111111,\"#46039f\"],[0.2222222222222222,\"#7201a8\"],[0.3333333333333333,\"#9c179e\"],[0.4444444444444444,\"#bd3786\"],[0.5555555555555556,\"#d8576b\"],[0.6666666666666666,\"#ed7953\"],[0.7777777777777778,\"#fb9f3a\"],[0.8888888888888888,\"#fdca26\"],[1.0,\"#f0f921\"]]}],\"mesh3d\":[{\"type\":\"mesh3d\",\"colorbar\":{\"outlinewidth\":0,\"ticks\":\"\"}}],\"scatter\":[{\"fillpattern\":{\"fillmode\":\"overlay\",\"size\":10,\"solidity\":0.2},\"type\":\"scatter\"}],\"parcoords\":[{\"type\":\"parcoords\",\"line\":{\"colorbar\":{\"outlinewidth\":0,\"ticks\":\"\"}}}],\"scatterpolargl\":[{\"type\":\"scatterpolargl\",\"marker\":{\"colorbar\":{\"outlinewidth\":0,\"ticks\":\"\"}}}],\"bar\":[{\"error_x\":{\"color\":\"#2a3f5f\"},\"error_y\":{\"color\":\"#2a3f5f\"},\"marker\":{\"line\":{\"color\":\"#E5ECF6\",\"width\":0.5},\"pattern\":{\"fillmode\":\"overlay\",\"size\":10,\"solidity\":0.2}},\"type\":\"bar\"}],\"scattergeo\":[{\"type\":\"scattergeo\",\"marker\":{\"colorbar\":{\"outlinewidth\":0,\"ticks\":\"\"}}}],\"scatterpolar\":[{\"type\":\"scatterpolar\",\"marker\":{\"colorbar\":{\"outlinewidth\":0,\"ticks\":\"\"}}}],\"histogram\":[{\"marker\":{\"pattern\":{\"fillmode\":\"overlay\",\"size\":10,\"solidity\":0.2}},\"type\":\"histogram\"}],\"scattergl\":[{\"type\":\"scattergl\",\"marker\":{\"colorbar\":{\"outlinewidth\":0,\"ticks\":\"\"}}}],\"scatter3d\":[{\"type\":\"scatter3d\",\"line\":{\"colorbar\":{\"outlinewidth\":0,\"ticks\":\"\"}},\"marker\":{\"colorbar\":{\"outlinewidth\":0,\"ticks\":\"\"}}}],\"scattermapbox\":[{\"type\":\"scattermapbox\",\"marker\":{\"colorbar\":{\"outlinewidth\":0,\"ticks\":\"\"}}}],\"scatterternary\":[{\"type\":\"scatterternary\",\"marker\":{\"colorbar\":{\"outlinewidth\":0,\"ticks\":\"\"}}}],\"scattercarpet\":[{\"type\":\"scattercarpet\",\"marker\":{\"colorbar\":{\"outlinewidth\":0,\"ticks\":\"\"}}}],\"carpet\":[{\"aaxis\":{\"endlinecolor\":\"#2a3f5f\",\"gridcolor\":\"white\",\"linecolor\":\"white\",\"minorgridcolor\":\"white\",\"startlinecolor\":\"#2a3f5f\"},\"baxis\":{\"endlinecolor\":\"#2a3f5f\",\"gridcolor\":\"white\",\"linecolor\":\"white\",\"minorgridcolor\":\"white\",\"startlinecolor\":\"#2a3f5f\"},\"type\":\"carpet\"}],\"table\":[{\"cells\":{\"fill\":{\"color\":\"#EBF0F8\"},\"line\":{\"color\":\"white\"}},\"header\":{\"fill\":{\"color\":\"#C8D4E3\"},\"line\":{\"color\":\"white\"}},\"type\":\"table\"}],\"barpolar\":[{\"marker\":{\"line\":{\"color\":\"#E5ECF6\",\"width\":0.5},\"pattern\":{\"fillmode\":\"overlay\",\"size\":10,\"solidity\":0.2}},\"type\":\"barpolar\"}],\"pie\":[{\"automargin\":true,\"type\":\"pie\"}]},\"layout\":{\"autotypenumbers\":\"strict\",\"colorway\":[\"#636efa\",\"#EF553B\",\"#00cc96\",\"#ab63fa\",\"#FFA15A\",\"#19d3f3\",\"#FF6692\",\"#B6E880\",\"#FF97FF\",\"#FECB52\"],\"font\":{\"color\":\"#2a3f5f\"},\"hovermode\":\"closest\",\"hoverlabel\":{\"align\":\"left\"},\"paper_bgcolor\":\"white\",\"plot_bgcolor\":\"#E5ECF6\",\"polar\":{\"bgcolor\":\"#E5ECF6\",\"angularaxis\":{\"gridcolor\":\"white\",\"linecolor\":\"white\",\"ticks\":\"\"},\"radialaxis\":{\"gridcolor\":\"white\",\"linecolor\":\"white\",\"ticks\":\"\"}},\"ternary\":{\"bgcolor\":\"#E5ECF6\",\"aaxis\":{\"gridcolor\":\"white\",\"linecolor\":\"white\",\"ticks\":\"\"},\"baxis\":{\"gridcolor\":\"white\",\"linecolor\":\"white\",\"ticks\":\"\"},\"caxis\":{\"gridcolor\":\"white\",\"linecolor\":\"white\",\"ticks\":\"\"}},\"coloraxis\":{\"colorbar\":{\"outlinewidth\":0,\"ticks\":\"\"}},\"colorscale\":{\"sequential\":[[0.0,\"#0d0887\"],[0.1111111111111111,\"#46039f\"],[0.2222222222222222,\"#7201a8\"],[0.3333333333333333,\"#9c179e\"],[0.4444444444444444,\"#bd3786\"],[0.5555555555555556,\"#d8576b\"],[0.6666666666666666,\"#ed7953\"],[0.7777777777777778,\"#fb9f3a\"],[0.8888888888888888,\"#fdca26\"],[1.0,\"#f0f921\"]],\"sequentialminus\":[[0.0,\"#0d0887\"],[0.1111111111111111,\"#46039f\"],[0.2222222222222222,\"#7201a8\"],[0.3333333333333333,\"#9c179e\"],[0.4444444444444444,\"#bd3786\"],[0.5555555555555556,\"#d8576b\"],[0.6666666666666666,\"#ed7953\"],[0.7777777777777778,\"#fb9f3a\"],[0.8888888888888888,\"#fdca26\"],[1.0,\"#f0f921\"]],\"diverging\":[[0,\"#8e0152\"],[0.1,\"#c51b7d\"],[0.2,\"#de77ae\"],[0.3,\"#f1b6da\"],[0.4,\"#fde0ef\"],[0.5,\"#f7f7f7\"],[0.6,\"#e6f5d0\"],[0.7,\"#b8e186\"],[0.8,\"#7fbc41\"],[0.9,\"#4d9221\"],[1,\"#276419\"]]},\"xaxis\":{\"gridcolor\":\"white\",\"linecolor\":\"white\",\"ticks\":\"\",\"title\":{\"standoff\":15},\"zerolinecolor\":\"white\",\"automargin\":true,\"zerolinewidth\":2},\"yaxis\":{\"gridcolor\":\"white\",\"linecolor\":\"white\",\"ticks\":\"\",\"title\":{\"standoff\":15},\"zerolinecolor\":\"white\",\"automargin\":true,\"zerolinewidth\":2},\"scene\":{\"xaxis\":{\"backgroundcolor\":\"#E5ECF6\",\"gridcolor\":\"white\",\"linecolor\":\"white\",\"showbackground\":true,\"ticks\":\"\",\"zerolinecolor\":\"white\",\"gridwidth\":2},\"yaxis\":{\"backgroundcolor\":\"#E5ECF6\",\"gridcolor\":\"white\",\"linecolor\":\"white\",\"showbackground\":true,\"ticks\":\"\",\"zerolinecolor\":\"white\",\"gridwidth\":2},\"zaxis\":{\"backgroundcolor\":\"#E5ECF6\",\"gridcolor\":\"white\",\"linecolor\":\"white\",\"showbackground\":true,\"ticks\":\"\",\"zerolinecolor\":\"white\",\"gridwidth\":2}},\"shapedefaults\":{\"line\":{\"color\":\"#2a3f5f\"}},\"annotationdefaults\":{\"arrowcolor\":\"#2a3f5f\",\"arrowhead\":0,\"arrowwidth\":1},\"geo\":{\"bgcolor\":\"white\",\"landcolor\":\"#E5ECF6\",\"subunitcolor\":\"white\",\"showland\":true,\"showlakes\":true,\"lakecolor\":\"white\"},\"title\":{\"x\":0.05},\"mapbox\":{\"style\":\"light\"}}}},                        {\"responsive\": true}                    ).then(function(){\n",
       "                            \n",
       "var gd = document.getElementById('12fa4768-53bb-45a5-9c7c-eb045adbd3d9');\n",
       "var x = new MutationObserver(function (mutations, observer) {{\n",
       "        var display = window.getComputedStyle(gd).display;\n",
       "        if (!display || display === 'none') {{\n",
       "            console.log([gd, 'removed!']);\n",
       "            Plotly.purge(gd);\n",
       "            observer.disconnect();\n",
       "        }}\n",
       "}});\n",
       "\n",
       "// Listen for the removal of the full notebook cells\n",
       "var notebookContainer = gd.closest('#notebook-container');\n",
       "if (notebookContainer) {{\n",
       "    x.observe(notebookContainer, {childList: true});\n",
       "}}\n",
       "\n",
       "// Listen for the clearing of the current output cell\n",
       "var outputEl = gd.closest('.output');\n",
       "if (outputEl) {{\n",
       "    x.observe(outputEl, {childList: true});\n",
       "}}\n",
       "\n",
       "                        })                };                });            </script>        </div>"
      ]
     },
     "metadata": {},
     "output_type": "display_data"
    }
   ],
   "source": [
    "# Generate a bar chart of the top 20 most important features and their coefficients\n",
    "\n",
    "names = df_lags.columns.to_list()\n",
    "names.remove('P_DC')\n",
    "most_important_features = sorted(zip(names, opt.best_estimator_.feature_importances_), key=lambda x: x[1], reverse=True)\n",
    "names = [name for name, _ in most_important_features]\n",
    "coefficients = [coefficient for _, coefficient in most_important_features]\n",
    "\n",
    "fig = go.Figure([go.Bar(x=names[:20], y=coefficients[:20])])\n",
    "fig.show()"
   ]
  },
  {
   "cell_type": "code",
   "execution_count": 70,
   "id": "00cb1262-50d1-4142-970f-40cff9914a83",
   "metadata": {},
   "outputs": [],
   "source": [
    "import json\n",
    "\n",
    "# Save the best parameters\n",
    "with open('../saves/opt_params_31_08_23.json', 'w') as f:\n",
    "    json.dump(dict(opt.best_params_), f)\n",
    "\n",
    "# Save the best model \n",
    "opt.best_estimator_.save_model('../saves/opt_model_31_08_23.json')"
   ]
  },
  {
   "cell_type": "markdown",
   "id": "c63ed5ee-ef67-49e2-97cc-fee1ad9958b1",
   "metadata": {},
   "source": [
    "## Evaluation\n",
    "![green-divider](https://user-images.githubusercontent.com/7065401/52071924-c003ad80-2562-11e9-8297-1c6595f8a7ff.png)"
   ]
  },
  {
   "cell_type": "code",
   "execution_count": 71,
   "id": "13c2dcb4-a2ea-4e1d-962e-4f39dfa12b89",
   "metadata": {},
   "outputs": [
    {
     "name": "stdout",
     "output_type": "stream",
     "text": [
      "Train Results:\n",
      "Mean Squared Error (MSE): 46993.178\n",
      "Root Mean Squared Error (RMSE): 216.779\n",
      "Mean Absolute Error (MAE): 78.575\n",
      "R-squared (R2): 0.993\n",
      "\n",
      "Test Results:\n",
      "Mean Squared Error (MSE): 58864.128\n",
      "Root Mean Squared Error (RMSE): 242.619\n",
      "Mean Absolute Error (MAE): 90.375\n",
      "R-squared (R2): 0.990\n"
     ]
    }
   ],
   "source": [
    "# Perform prediction using the best model\n",
    "y_train_pred = opt.best_estimator_.predict(X_train)\n",
    "y_test_pred = opt.best_estimator_.predict(X_test)\n",
    "\n",
    "# evaluation metrics\n",
    "train_mse = mean_squared_error(y_train, y_train_pred)\n",
    "test_mse = mean_squared_error(y_test, y_test_pred)\n",
    "\n",
    "train_mae = mean_absolute_error(y_train, y_train_pred)\n",
    "test_mae = mean_absolute_error(y_test, y_test_pred)\n",
    "\n",
    "train_r2 = r2_score(y_train, y_train_pred)\n",
    "test_r2 = r2_score(y_test, y_test_pred)\n",
    "\n",
    "print(\"Train Results:\")\n",
    "print(f\"Mean Squared Error (MSE): {train_mse:.3f}\")\n",
    "print(f\"Root Mean Squared Error (RMSE): {np.sqrt(train_mse):.3f}\")\n",
    "print(f\"Mean Absolute Error (MAE): {train_mae:.3f}\")\n",
    "print(f\"R-squared (R2): {train_r2:.3f}\")\n",
    "\n",
    "print(\"\\nTest Results:\")\n",
    "print(f\"Mean Squared Error (MSE): {test_mse:.3f}\")\n",
    "print(f\"Root Mean Squared Error (RMSE): {np.sqrt(test_mse):.3f}\")\n",
    "print(f\"Mean Absolute Error (MAE): {test_mae:.3f}\")\n",
    "print(f\"R-squared (R2): {test_r2:.3f}\")"
   ]
  },
  {
   "cell_type": "code",
   "execution_count": 68,
   "id": "941556ef-5723-4e6b-b65c-a73fd4b5862e",
   "metadata": {},
   "outputs": [],
   "source": [
    "def multi_step_forecast(model, X_meteo, X_p_dc, num_forecast_steps=1):\n",
    "    \n",
    "    # Initialize an array to store the forecasts\n",
    "    forecasts = []\n",
    "\n",
    "    current_p_dc = X_p_dc\n",
    "\n",
    "    # Perform multi-step forecasting\n",
    "    for i in range(min(num_forecast_steps, X_meteo.shape[0])):\n",
    "        \n",
    "        # Prepare the input by stacking meteo data and power data\n",
    "        current_features = np.hstack((X_meteo[i], current_p_dc))\n",
    "        \n",
    "        # Predict the next step\n",
    "        next_step_forecast = model.predict(current_features.reshape(1, -1))\n",
    "\n",
    "        # Append the forecast to the list\n",
    "        forecasts.append(next_step_forecast[0])\n",
    "\n",
    "        # Update the current features for the next iteration\n",
    "        current_p_dc = np.roll(current_p_dc, 1)\n",
    "        current_p_dc[0] = next_step_forecast\n",
    "\n",
    "    return forecasts"
   ]
  },
  {
   "cell_type": "code",
   "execution_count": 869,
   "id": "93f9d2bc-1c02-47a8-a49b-536b67a82330",
   "metadata": {},
   "outputs": [],
   "source": [
    "gap_lengths = [24*i for i in range(1, 7)]\n",
    "results = {}\n",
    "evaluation_metrics = {\n",
    "    'mse' : mean_squared_error,\n",
    "    'rmse': lambda y_true, y_pred: mean_squared_error(y_true, y_pred, squared=False),\n",
    "    'mae' : mean_absolute_error,\n",
    "    'r2' : r2_score\n",
    "}\n",
    "\n",
    "for gap_len in gap_lengths:\n",
    "    results[gap_len] = {metric:[] for metric in evaluation_metrics.keys()}\n",
    "\n",
    "    for i in range(df_lags.shape[0] // lag_order):\n",
    "        X_meteo = df_lags.iloc[i*lag_order:(i+1)*lag_order, :6].values\n",
    "        X_p_dc = df_lags.iloc[i*lag_order, 7:].values\n",
    "        y_true = df_lags.iloc[i*lag_order:(i+1)*lag_order, 6].values\n",
    "    \n",
    "        forcasts = multi_step_forecast(opt, X_meteo, X_p_dc, lag_order)\n",
    "        \n",
    "        for metric, metric_func in evaluation_metrics.items():\n",
    "            results[gap_len][metric].append(metric_func(y_true[:gap_len], forcasts[:gap_len]))\n",
    "    \n",
    "    results[gap_len] = {metric:np.mean(mesures) for metric, mesures in results[gap_len].items()}"
   ]
  },
  {
   "cell_type": "code",
   "execution_count": 871,
   "id": "52d685b9-b056-49d3-b9b3-472400e30758",
   "metadata": {},
   "outputs": [
    {
     "name": "stdout",
     "output_type": "stream",
     "text": [
      "{24: {'mae': 171.2927,\n",
      "      'mse': 121979.04,\n",
      "      'r2': -7396.130906123588,\n",
      "      'rmse': 233.80052},\n",
      " 48: {'mae': 190.40318,\n",
      "      'mse': 234548.22,\n",
      "      'r2': -195.23714264502644,\n",
      "      'rmse': 280.40802},\n",
      " 72: {'mae': 205.51892,\n",
      "      'mse': 288678.03,\n",
      "      'r2': -188.6925800951791,\n",
      "      'rmse': 316.73227},\n",
      " 96: {'mae': 205.51892,\n",
      "      'mse': 288678.03,\n",
      "      'r2': -188.6925800951791,\n",
      "      'rmse': 316.73227},\n",
      " 120: {'mae': 205.51892,\n",
      "       'mse': 288678.03,\n",
      "       'r2': -188.6925800951791,\n",
      "       'rmse': 316.73227},\n",
      " 144: {'mae': 205.51892,\n",
      "       'mse': 288678.03,\n",
      "       'r2': -188.6925800951791,\n",
      "       'rmse': 316.73227}}\n"
     ]
    }
   ],
   "source": [
    "import pprint\n",
    "\n",
    "pprint.pprint(results)"
   ]
  },
  {
   "cell_type": "markdown",
   "id": "4725c1e4-3a86-40ff-a601-83fb35261545",
   "metadata": {},
   "source": [
    "## Visualization of test samples\n",
    "![green-divider](https://user-images.githubusercontent.com/7065401/52071924-c003ad80-2562-11e9-8297-1c6595f8a7ff.png)"
   ]
  },
  {
   "cell_type": "code",
   "execution_count": 262,
   "id": "2453aeea-acfd-4a98-9253-c8db03b88bd9",
   "metadata": {},
   "outputs": [],
   "source": [
    "# Load XGB regressor\n",
    "xgb_model = XGBRegressor()\n",
    "xgb_model.load_model('../saves/opt_model_31_08_23.json')"
   ]
  },
  {
   "cell_type": "code",
   "execution_count": 283,
   "id": "e22d53ac-fa0c-46a3-864e-362996cb0404",
   "metadata": {},
   "outputs": [
    {
     "data": {
      "application/vnd.plotly.v1+json": {
       "config": {
        "plotlyServerURL": "https://plot.ly"
       },
       "data": [
        {
         "line": {
          "color": "LightSkyBlue",
          "width": 2
         },
         "mode": "lines",
         "name": "Real",
         "type": "scatter",
         "xaxis": "x",
         "y": [
          1188.1,
          960.9,
          839.7,
          1121,
          1087.6,
          637,
          202.3125,
          49.44375,
          0,
          0,
          0,
          0,
          0,
          0,
          0,
          0,
          0,
          0,
          0,
          0,
          0,
          0,
          0,
          0,
          0,
          0,
          0,
          0,
          0,
          0,
          0,
          0,
          0,
          0,
          0,
          0,
          0,
          0,
          0,
          0,
          0,
          0,
          0,
          0,
          0,
          0,
          0,
          0,
          0,
          0,
          0,
          0,
          0,
          0,
          0,
          0,
          0,
          0,
          0,
          0,
          0,
          0,
          0,
          0,
          0,
          0,
          0,
          0,
          0,
          0,
          0,
          0,
          0,
          0,
          0,
          0,
          0,
          0,
          0,
          0,
          0,
          0,
          0,
          0,
          0,
          0,
          0,
          0,
          0,
          0.9320313,
          104.475,
          332.025,
          377.85,
          483.4,
          607.4,
          808.9,
          933.5,
          1094.2,
          1249,
          1547.8,
          1602.2,
          1398.2,
          1389.2,
          1557.8,
          2300.6,
          2788,
          2679.6,
          3328.4,
          3852.4,
          3815.6,
          3971.6,
          4370.4,
          4875.2,
          5224,
          3405,
          5028,
          4077.2,
          3911.6,
          5789.6,
          4868.4,
          4120,
          3701.6,
          3567.6,
          3726,
          5646.4,
          6813.6,
          6622.4,
          6534.6665,
          6104.8,
          6257.6,
          6148.8,
          5720,
          5026.8,
          5008.8,
          4256.5,
          4508.4,
          5403,
          5000,
          4616,
          4322.4,
          3348.4,
          3453.2,
          3127.2,
          2990
         ],
         "yaxis": "y"
        },
        {
         "line": {
          "color": "red",
          "width": 2
         },
         "mode": "lines",
         "name": "Forecasts",
         "type": "scatter",
         "xaxis": "x",
         "y": [
          1188.1,
          960.9,
          839.7,
          1121,
          1087.6,
          637,
          202.3125,
          49.44375,
          0,
          0,
          0,
          0,
          0,
          0,
          0,
          0,
          0,
          0,
          0,
          0,
          0,
          0,
          0,
          0,
          0,
          0,
          0,
          0,
          0,
          0,
          0,
          0,
          0,
          0,
          0,
          0,
          0,
          0,
          0,
          0,
          0,
          0,
          0,
          0,
          0,
          0,
          0,
          0,
          0,
          0,
          0,
          0,
          0,
          0,
          0,
          0,
          0,
          0,
          0,
          0,
          0,
          0,
          0,
          0,
          0,
          0,
          0,
          0,
          0,
          0,
          0,
          0,
          1.1954988241195679,
          1.206799864768982,
          1.206799864768982,
          1.3053311109542847,
          1.3053311109542847,
          1.3053311109542847,
          1.3053311109542847,
          1.3053311109542847,
          1.3053311109542847,
          1.3053311109542847,
          1.3053311109542847,
          1.3053311109542847,
          1.3053311109542847,
          1.3053311109542847,
          1.3053311109542847,
          1.3053311109542847,
          1.3053311109542847,
          3.510821580886841,
          50.558448791503906,
          159.3080596923828,
          304.43231201171875,
          458.2989196777344,
          674.8021850585938,
          913.686767578125,
          1033.8001708984375,
          1268.554443359375,
          1369.9644775390625,
          1652.2718505859375,
          1776.2899169921875,
          1749.443115234375,
          1766.0657958984375,
          1877.9259033203125,
          2314.377685546875,
          2674.98193359375,
          2792.799072265625,
          3146.621337890625,
          3585.76318359375,
          3735.781982421875,
          3919.032470703125,
          4289.421875,
          4770.6962890625,
          5241.70166015625,
          5204.32568359375,
          5193.49462890625,
          4312.10498046875,
          4451.07080078125,
          5879.96875,
          4914.720703125,
          4828.33740234375,
          4104.3076171875,
          3793.8525390625,
          3671.9580078125,
          5639.38427734375,
          6768.6748046875,
          6664.7041015625,
          6580.4736328125,
          6541.8876953125,
          6488.7529296875,
          6326.19482421875,
          6219.7412109375,
          5330.9150390625,
          5119.31640625,
          5029.59765625,
          4576.3720703125,
          4676.54443359375,
          4581.9755859375,
          4343.30224609375,
          4199.70068359375,
          3871.968505859375,
          3640.2412109375,
          3273.984375,
          2935.2890625
         ],
         "yaxis": "y"
        },
        {
         "line": {
          "width": 1
         },
         "marker": {
          "color": "green",
          "size": 1
         },
         "mode": "lines",
         "name": "GTI",
         "type": "scatter",
         "xaxis": "x",
         "y": [
          190.5,
          150.35,
          127.75,
          153.375,
          120.7875,
          62.89375,
          20.698437,
          1.5193726,
          0,
          0,
          0,
          0,
          0,
          0,
          0,
          0,
          0,
          0,
          0,
          0,
          0,
          0,
          0,
          0,
          0,
          0,
          0,
          0,
          0,
          0,
          0,
          0,
          0,
          0,
          0,
          0,
          0,
          0,
          0,
          0,
          0,
          0,
          0,
          0,
          0,
          0,
          0,
          0,
          0,
          0,
          0,
          0,
          0,
          0,
          0,
          0,
          0,
          0,
          0,
          0,
          0,
          0,
          0,
          0,
          0,
          0,
          0,
          0,
          0,
          0,
          0,
          0,
          0,
          0,
          0,
          0,
          0,
          0,
          0,
          0,
          0,
          0,
          0,
          0,
          0,
          0,
          0,
          0,
          0,
          2.2879395,
          19.359375,
          46.79375,
          71.9875,
          97.875,
          126.175,
          158.225,
          176.325,
          198.525,
          228.625,
          278.1,
          277.3,
          263.3,
          266.65,
          298.9,
          404.4,
          435.5,
          428.4,
          505.4,
          566.5,
          545.2,
          585.3,
          649.5,
          726.9,
          796.5,
          723.1,
          742.6,
          563.15,
          669.8,
          905.3,
          669.7,
          709.5,
          569.6,
          592.1,
          566.2,
          882.8,
          980.7,
          969,
          948.5,
          886.7,
          889.6,
          843.3,
          820.4,
          692.1,
          672.4,
          674.6,
          562,
          702.3,
          648,
          595.9,
          557.7,
          437.6,
          428.05,
          400.15,
          366.8
         ],
         "yaxis": "y"
        },
        {
         "line": {
          "color": "LightSkyBlue",
          "width": 2
         },
         "mode": "lines",
         "name": "Real",
         "type": "scatter",
         "xaxis": "x2",
         "y": [
          3911.6,
          5789.6,
          4868.4,
          4120,
          3701.6,
          3567.6,
          3726,
          5646.4,
          6813.6,
          6622.4,
          6534.6665,
          6104.8,
          6257.6,
          6148.8,
          5720,
          5026.8,
          5008.8,
          4256.5,
          4508.4,
          5403,
          5000,
          4616,
          4322.4,
          3348.4,
          3453.2,
          3127.2,
          2990,
          2433.2,
          1832.6,
          1461.8,
          1225.8,
          809.5,
          476.3,
          256.4375,
          56.1875,
          0,
          0,
          0,
          0,
          0,
          0,
          0,
          0,
          0,
          0,
          0,
          0,
          0,
          0,
          0,
          0,
          0,
          0,
          0,
          0,
          0,
          0,
          0,
          0,
          0,
          0,
          0,
          0,
          0,
          0,
          0,
          0,
          0,
          0,
          0,
          0,
          0,
          0,
          0,
          0,
          0,
          0,
          0,
          0,
          0,
          0,
          0,
          0,
          0,
          0,
          0,
          0,
          0,
          0,
          0,
          0,
          0,
          0,
          0,
          0,
          0,
          0,
          0,
          0,
          0,
          0,
          0,
          0,
          0,
          0,
          0,
          0,
          0,
          0,
          0,
          0,
          0,
          0,
          0,
          0,
          0,
          0,
          65.7625,
          342.55,
          799,
          1319.2,
          1733.4,
          2164,
          2533.2,
          2887.2,
          1679,
          1032.1,
          1663.75,
          2289.5,
          3725.6,
          4996,
          4969.6,
          5245.6,
          5437,
          5632,
          5787.2,
          5958.4,
          6116,
          6287.2,
          6373.6,
          6530.4,
          6618.4,
          6702,
          6776
         ],
         "yaxis": "y2"
        },
        {
         "line": {
          "color": "red",
          "width": 2
         },
         "mode": "lines",
         "name": "Forecasts",
         "type": "scatter",
         "xaxis": "x2",
         "y": [
          3911.6,
          5789.6,
          4868.4,
          4120,
          3701.6,
          3567.6,
          3726,
          5646.4,
          6813.6,
          6622.4,
          6534.6665,
          6104.8,
          6257.6,
          6148.8,
          5720,
          5026.8,
          5008.8,
          4256.5,
          4508.4,
          5403,
          5000,
          4616,
          4322.4,
          3348.4,
          3453.2,
          3127.2,
          2990,
          2433.2,
          1832.6,
          1461.8,
          1225.8,
          809.5,
          476.3,
          256.4375,
          56.1875,
          0,
          0,
          0,
          0,
          0,
          0,
          0,
          0,
          0,
          0,
          0,
          0,
          0,
          0,
          0,
          0,
          0,
          0,
          0,
          0,
          0,
          0,
          0,
          0,
          0,
          0,
          0,
          0,
          0,
          0,
          0,
          0,
          0,
          0,
          0,
          0,
          0,
          1.194311261177063,
          1.194311261177063,
          1.194311261177063,
          1.194311261177063,
          1.194311261177063,
          1.194311261177063,
          1.194311261177063,
          1.194311261177063,
          1.194311261177063,
          1.194311261177063,
          1.194311261177063,
          1.194311261177063,
          1.194311261177063,
          1.194311261177063,
          1.194311261177063,
          1.194311261177063,
          1.194311261177063,
          1.194311261177063,
          1.194311261177063,
          1.194311261177063,
          1.194311261177063,
          1.194311261177063,
          1.194311261177063,
          1.194311261177063,
          1.194311261177063,
          1.194311261177063,
          1.194311261177063,
          1.1954988241195679,
          1.206799864768982,
          1.206799864768982,
          1.3053311109542847,
          1.3053311109542847,
          1.3053311109542847,
          1.3053311109542847,
          1.3053311109542847,
          1.3053311109542847,
          1.3053311109542847,
          1.3053311109542847,
          1.3053311109542847,
          1.3053311109542847,
          1.3053311109542847,
          1.3053311109542847,
          1.3053311109542847,
          1.3053311109542847,
          1.4623669385910034,
          25.543298721313477,
          130.10296630859375,
          305.1280517578125,
          561.0469360351562,
          856.1217041015625,
          1262.987060546875,
          1614.379638671875,
          2075.659423828125,
          1898.4195556640625,
          1735.67822265625,
          1949.3177490234375,
          2431.91015625,
          3159.490234375,
          3861.757080078125,
          4369.515625,
          4631.5,
          5115.85400390625,
          5505.18310546875,
          5737.69384765625,
          6036.24951171875,
          6315.74853515625,
          6515.39013671875,
          6639.1806640625,
          6774.546875,
          6869.76123046875,
          6938.671875,
          7022.474609375
         ],
         "yaxis": "y2"
        },
        {
         "line": {
          "width": 1
         },
         "marker": {
          "color": "green",
          "size": 1
         },
         "mode": "lines",
         "name": "GTI",
         "type": "scatter",
         "xaxis": "x2",
         "y": [
          669.8,
          905.3,
          669.7,
          709.5,
          569.6,
          592.1,
          566.2,
          882.8,
          980.7,
          969,
          948.5,
          886.7,
          889.6,
          843.3,
          820.4,
          692.1,
          672.4,
          674.6,
          562,
          702.3,
          648,
          595.9,
          557.7,
          437.6,
          428.05,
          400.15,
          366.8,
          292.5,
          221.25,
          174.45,
          142.1375,
          93.4375,
          54.16875,
          27.084375,
          3.6225953,
          0,
          0,
          0,
          0,
          0,
          0,
          0,
          0,
          0,
          0,
          0,
          0,
          0,
          0,
          0,
          0,
          0,
          0,
          0,
          0,
          0,
          0,
          0,
          0,
          0,
          0,
          0,
          0,
          0,
          0,
          0,
          0,
          0,
          0,
          0,
          0,
          0,
          0,
          0,
          0,
          0,
          0,
          0,
          0,
          0,
          0,
          0,
          0,
          0,
          0,
          0,
          0,
          0,
          0,
          0,
          0,
          0,
          0,
          0,
          0,
          0,
          0,
          0,
          0,
          0,
          0,
          0,
          0,
          0,
          0,
          0,
          0,
          0,
          0,
          0,
          0,
          0,
          0,
          0,
          0,
          0,
          2.525952,
          15.373438,
          30.553125,
          82.675,
          128,
          170,
          222,
          272.575,
          331.65,
          226.175,
          222.35,
          325.5,
          421.1,
          545.05,
          624,
          633.4,
          676.7,
          718.3,
          748.8,
          778.8,
          809.4,
          839.3,
          865,
          891.2,
          916,
          929.8,
          948.7,
          963.8
         ],
         "yaxis": "y2"
        },
        {
         "line": {
          "color": "LightSkyBlue",
          "width": 2
         },
         "mode": "lines",
         "name": "Real",
         "type": "scatter",
         "xaxis": "x3",
         "y": [
          65.7625,
          342.55,
          799,
          1319.2,
          1733.4,
          2164,
          2533.2,
          2887.2,
          1679,
          1032.1,
          1663.75,
          2289.5,
          3725.6,
          4996,
          4969.6,
          5245.6,
          5437,
          5632,
          5787.2,
          5958.4,
          6116,
          6287.2,
          6373.6,
          6530.4,
          6618.4,
          6702,
          6776,
          6772,
          6904,
          6950,
          6938.4,
          6951.2,
          6960.8,
          6952,
          6883.2,
          6812,
          6692.8,
          6634,
          6517.6,
          6370.4,
          6262,
          6058,
          5934.4,
          5740.8,
          5532,
          5315.2,
          5093.3335,
          4836,
          4593.6,
          4313.6,
          4010,
          3712,
          3393,
          3072,
          2709.6,
          2320,
          1961,
          1612.25,
          1207.2,
          826.1,
          345.55,
          47.49375,
          0,
          0,
          0,
          0,
          0,
          0,
          0,
          0,
          0,
          0,
          0,
          0,
          0,
          0,
          0,
          0,
          0,
          0,
          0,
          0,
          0,
          0,
          0,
          0,
          0,
          0,
          0,
          0,
          0,
          0,
          0,
          0,
          0,
          0,
          0,
          0,
          0,
          0,
          0,
          0,
          0,
          0,
          0,
          0,
          0,
          0,
          0,
          0,
          0,
          0,
          0,
          0,
          0,
          0,
          0,
          0,
          0,
          0,
          0,
          0,
          0,
          0,
          0,
          0,
          0,
          0,
          0,
          0,
          0,
          0,
          0,
          0,
          0,
          0,
          0,
          0,
          0,
          0,
          0,
          0,
          0,
          0
         ],
         "yaxis": "y3"
        },
        {
         "line": {
          "color": "red",
          "width": 2
         },
         "mode": "lines",
         "name": "Forecasts",
         "type": "scatter",
         "xaxis": "x3",
         "y": [
          65.7625,
          342.55,
          799,
          1319.2,
          1733.4,
          2164,
          2533.2,
          2887.2,
          1679,
          1032.1,
          1663.75,
          2289.5,
          3725.6,
          4996,
          4969.6,
          5245.6,
          5437,
          5632,
          5787.2,
          5958.4,
          6116,
          6287.2,
          6373.6,
          6530.4,
          6618.4,
          6702,
          6776,
          6772,
          6904,
          6950,
          6938.4,
          6951.2,
          6960.8,
          6952,
          6883.2,
          6812,
          6692.8,
          6634,
          6517.6,
          6370.4,
          6262,
          6058,
          5934.4,
          5740.8,
          5532,
          5315.2,
          5093.3335,
          4836,
          4593.6,
          4313.6,
          4010,
          3712,
          3393,
          3072,
          2709.6,
          2320,
          1961,
          1612.25,
          1207.2,
          826.1,
          345.55,
          47.49375,
          0,
          0,
          0,
          0,
          0,
          0,
          0,
          0,
          0,
          0,
          1.194311261177063,
          1.194311261177063,
          1.194311261177063,
          1.194311261177063,
          1.194311261177063,
          1.194311261177063,
          1.194311261177063,
          1.194311261177063,
          1.194311261177063,
          1.194311261177063,
          1.194311261177063,
          1.194311261177063,
          1.194311261177063,
          1.194311261177063,
          1.194311261177063,
          1.194311261177063,
          1.194311261177063,
          1.194311261177063,
          1.194311261177063,
          1.194311261177063,
          1.194311261177063,
          1.194311261177063,
          1.194311261177063,
          1.194311261177063,
          1.194311261177063,
          1.194311261177063,
          1.194311261177063,
          1.194311261177063,
          1.194311261177063,
          1.194311261177063,
          1.194311261177063,
          1.194311261177063,
          1.194311261177063,
          1.194311261177063,
          1.194311261177063,
          1.194311261177063,
          1.194311261177063,
          1.194311261177063,
          1.194311261177063,
          1.194311261177063,
          1.194311261177063,
          1.194311261177063,
          1.194311261177063,
          1.194311261177063,
          1.194311261177063,
          1.194311261177063,
          1.194311261177063,
          1.194311261177063,
          1.194311261177063,
          1.194311261177063,
          1.194311261177063,
          1.194311261177063,
          1.194311261177063,
          1.194311261177063,
          1.1954988241195679,
          1.206799864768982,
          1.206799864768982,
          1.3053311109542847,
          1.3053311109542847,
          1.3053311109542847,
          1.3053311109542847,
          1.3053311109542847,
          1.3053311109542847,
          1.3053311109542847,
          1.3053311109542847,
          1.3053311109542847,
          1.3053311109542847,
          1.3053311109542847,
          1.3053311109542847,
          1.3053311109542847,
          1.3053311109542847,
          1.3053311109542847
         ],
         "yaxis": "y3"
        },
        {
         "line": {
          "width": 1
         },
         "marker": {
          "color": "green",
          "size": 1
         },
         "mode": "lines",
         "name": "GTI",
         "type": "scatter",
         "xaxis": "x3",
         "y": [
          15.373438,
          30.553125,
          82.675,
          128,
          170,
          222,
          272.575,
          331.65,
          226.175,
          222.35,
          325.5,
          421.1,
          545.05,
          624,
          633.4,
          676.7,
          718.3,
          748.8,
          778.8,
          809.4,
          839.3,
          865,
          891.2,
          916,
          929.8,
          948.7,
          963.8,
          969.3,
          982.6,
          989.3,
          991.4,
          991.2,
          990.7,
          982.9,
          973.5,
          961.3,
          945.4,
          927.9,
          908.3,
          882.2,
          856,
          826.9,
          798,
          766.2,
          732.3,
          696.4,
          660.3,
          618.8,
          575.9,
          531.4,
          487.65,
          438.75,
          390.55,
          342.4,
          292.25,
          241.625,
          194.45,
          146.675,
          100.525,
          59.69375,
          25.065624,
          1.10625,
          0,
          0,
          0,
          0,
          0,
          0,
          0,
          0,
          0,
          0,
          0,
          0,
          0,
          0,
          0,
          0,
          0,
          0,
          0,
          0,
          0,
          0,
          0,
          0,
          0,
          0,
          0,
          0,
          0,
          0,
          0,
          0,
          0,
          0,
          0,
          0,
          0,
          0,
          0,
          0,
          0,
          0,
          0,
          0,
          0,
          0,
          0,
          0,
          0,
          0,
          0,
          0,
          0,
          0,
          0,
          0,
          0,
          0,
          0,
          0,
          0,
          0,
          0,
          0,
          0,
          0,
          0,
          0,
          0,
          0,
          0,
          0,
          0,
          0,
          0,
          0,
          0,
          0,
          0,
          0,
          0,
          0
         ],
         "yaxis": "y3"
        },
        {
         "line": {
          "color": "LightSkyBlue",
          "width": 2
         },
         "mode": "lines",
         "name": "Real",
         "type": "scatter",
         "xaxis": "x4",
         "y": [
          0,
          0,
          0,
          0,
          0,
          0,
          0,
          0,
          0,
          0,
          0,
          0,
          0,
          0,
          0,
          0,
          0,
          0,
          0,
          0,
          0,
          0,
          0,
          0,
          0,
          0,
          0,
          0,
          39.096874,
          137.6125,
          368.9,
          355.75,
          676,
          2012.2,
          1675.2,
          1081,
          895.375,
          670.4,
          547.05,
          617.7,
          841.8,
          920.6,
          710.8,
          671.5,
          843.4,
          1227.4,
          3418.8,
          4432,
          5407.2,
          6886.4,
          7077.6,
          7076,
          6933.6,
          7160,
          5947,
          6636,
          6214.8,
          6843.2,
          5360,
          4883.2,
          3775.6,
          2973.2,
          1543.2,
          2065.8,
          1868.2,
          1139.8,
          1282.5,
          879.7,
          547.55,
          646.5,
          417.8,
          396.59375,
          178.7875,
          405.2,
          666.3,
          718.2,
          704,
          589.3,
          517.15,
          377.6,
          230.75,
          193.575,
          212.325,
          340.35,
          379.95,
          145.025,
          171.7,
          72.45937,
          2.4484375,
          0,
          0,
          0,
          0,
          0,
          0,
          0,
          0,
          0,
          0,
          0,
          0,
          0,
          0,
          0,
          0,
          0,
          0,
          0,
          0,
          0,
          0,
          0,
          0,
          0,
          0,
          0,
          0,
          0,
          0,
          0,
          0,
          0,
          0,
          0,
          0,
          0,
          0,
          0,
          0,
          0,
          0,
          0,
          0,
          0,
          0,
          0,
          0,
          0,
          0,
          0,
          0,
          0,
          0,
          0
         ],
         "yaxis": "y4"
        },
        {
         "line": {
          "color": "red",
          "width": 2
         },
         "mode": "lines",
         "name": "Forecasts",
         "type": "scatter",
         "xaxis": "x4",
         "y": [
          0,
          0,
          0,
          0,
          0,
          0,
          0,
          0,
          0,
          0,
          0,
          0,
          0,
          0,
          0,
          0,
          0,
          0,
          0,
          0,
          0,
          0,
          0,
          0,
          0,
          0,
          0,
          0,
          39.096874,
          137.6125,
          368.9,
          355.75,
          676,
          2012.2,
          1675.2,
          1081,
          895.375,
          670.4,
          547.05,
          617.7,
          841.8,
          920.6,
          710.8,
          671.5,
          843.4,
          1227.4,
          3418.8,
          4432,
          5407.2,
          6886.4,
          7077.6,
          7076,
          6933.6,
          7160,
          5947,
          6636,
          6214.8,
          6843.2,
          5360,
          4883.2,
          3775.6,
          2973.2,
          1543.2,
          2065.8,
          1868.2,
          1139.8,
          1282.5,
          879.7,
          547.55,
          646.5,
          417.8,
          396.59375,
          347.9581604003906,
          502.3954162597656,
          676.1158447265625,
          890.3238525390625,
          779.2584228515625,
          801.3024291992188,
          706.5983276367188,
          460.2573547363281,
          336.4696350097656,
          312.7179870605469,
          339.74169921875,
          405.7859802246094,
          415.93182373046875,
          265.7496032714844,
          279.1660461425781,
          161.5142059326172,
          57.561649322509766,
          6.022937297821045,
          3.6562535762786865,
          1.3053311109542847,
          1.3041437864303589,
          1.2928427457809448,
          1.2928427457809448,
          1.194311261177063,
          1.194311261177063,
          1.194311261177063,
          1.194311261177063,
          1.194311261177063,
          1.194311261177063,
          1.194311261177063,
          1.194311261177063,
          1.194311261177063,
          1.194311261177063,
          1.194311261177063,
          1.194311261177063,
          1.194311261177063,
          1.194311261177063,
          1.194311261177063,
          1.194311261177063,
          1.194311261177063,
          1.194311261177063,
          1.194311261177063,
          1.194311261177063,
          1.194311261177063,
          1.194311261177063,
          1.194311261177063,
          1.194311261177063,
          1.194311261177063,
          1.194311261177063,
          1.194311261177063,
          1.194311261177063,
          1.194311261177063,
          1.194311261177063,
          1.194311261177063,
          1.194311261177063,
          1.194311261177063,
          1.194311261177063,
          1.194311261177063,
          1.194311261177063,
          1.194311261177063,
          1.194311261177063,
          1.194311261177063,
          1.194311261177063,
          1.194311261177063,
          1.194311261177063,
          1.194311261177063,
          1.194311261177063,
          1.194311261177063,
          1.194311261177063,
          1.194311261177063,
          1.194311261177063,
          1.194311261177063
         ],
         "yaxis": "y4"
        },
        {
         "line": {
          "width": 1
         },
         "marker": {
          "color": "green",
          "size": 1
         },
         "mode": "lines",
         "name": "GTI",
         "type": "scatter",
         "xaxis": "x4",
         "y": [
          0,
          0,
          0,
          0,
          0,
          0,
          0,
          0,
          0,
          0,
          0,
          0,
          0,
          0,
          0,
          0,
          0,
          0,
          0,
          0,
          0,
          0,
          0,
          0,
          0,
          0,
          0,
          4.513379,
          17.260937,
          38.48125,
          73.1,
          89.475,
          158.1375,
          313.1,
          222.4,
          203.7,
          161.25,
          125.6,
          124.2625,
          116.9875,
          171.9,
          172.45,
          126.5,
          150.25,
          206.6,
          317.25,
          494.3,
          616.05,
          817.5,
          898.9,
          866.3,
          967.8,
          1002.6,
          1004,
          719.5,
          1003.6,
          889.8,
          986,
          794.4,
          688.2,
          654.8,
          455.85,
          316.25,
          425.75,
          302.125,
          223.725,
          243.15,
          169.525,
          121.2375,
          119.7625,
          90.6875,
          41.18125,
          51.184376,
          104.85,
          145.8375,
          184.3625,
          136.35,
          131.675,
          110.1875,
          70.675,
          53.775,
          48.075,
          62.1875,
          78.95,
          73.55,
          33.140625,
          38.346874,
          17.271875,
          4.1625,
          0.4629883,
          0,
          0,
          0,
          0,
          0,
          0,
          0,
          0,
          0,
          0,
          0,
          0,
          0,
          0,
          0,
          0,
          0,
          0,
          0,
          0,
          0,
          0,
          0,
          0,
          0,
          0,
          0,
          0,
          0,
          0,
          0,
          0,
          0,
          0,
          0,
          0,
          0,
          0,
          0,
          0,
          0,
          0,
          0,
          0,
          0,
          0,
          0,
          0,
          0,
          0,
          0,
          0,
          0,
          0
         ],
         "yaxis": "y4"
        },
        {
         "line": {
          "color": "LightSkyBlue",
          "width": 2
         },
         "mode": "lines",
         "name": "Real",
         "type": "scatter",
         "xaxis": "x5",
         "y": [
          0,
          0,
          0,
          0,
          0,
          0,
          0,
          0,
          0,
          0,
          0,
          0,
          0,
          0,
          0,
          0,
          0,
          0,
          0,
          0,
          0,
          0,
          0,
          0,
          0,
          0,
          0,
          0,
          0,
          0,
          0,
          0,
          0,
          0,
          0,
          0,
          0,
          0,
          0,
          0,
          0,
          0,
          0,
          0,
          0,
          0,
          0,
          0,
          0,
          0,
          0,
          0,
          0,
          0,
          42.896873,
          394.775,
          981.7,
          1516.8,
          2050.8,
          2502.5,
          2898.8,
          3272,
          3658,
          4025.5,
          4336.8,
          4663.2,
          4960,
          5267.2,
          5546.4,
          5811.2,
          6009.6,
          6208,
          6390,
          6568,
          6750.4,
          6892,
          7015.2,
          7139.2,
          7275.2,
          7342.4,
          7422.4,
          7452,
          7507,
          7582.4,
          7622.4,
          7612,
          7593.6,
          7560,
          7516.8,
          7460.8,
          7313.6,
          7215.2,
          7067.2,
          6925,
          6777.6,
          6669.6,
          6464,
          6218,
          6009.6,
          5760.8,
          5553.6,
          5285.6,
          4977.6,
          4701.6,
          4356.8,
          4003.6,
          3664.5,
          3292,
          2935.2,
          2544,
          2132.8,
          1691.25,
          1292.2,
          826.8,
          310.25,
          44.430077,
          0.78164065,
          0,
          0,
          0,
          0,
          0,
          0,
          0,
          0,
          0,
          0,
          0,
          0,
          0,
          0,
          0,
          0,
          0,
          0,
          0,
          0,
          0,
          0,
          0,
          0,
          0,
          0,
          0
         ],
         "yaxis": "y5"
        },
        {
         "line": {
          "color": "red",
          "width": 2
         },
         "mode": "lines",
         "name": "Forecasts",
         "type": "scatter",
         "xaxis": "x5",
         "y": [
          0,
          0,
          0,
          0,
          0,
          0,
          0,
          0,
          0,
          0,
          0,
          0,
          0,
          0,
          0,
          0,
          0,
          0,
          0,
          0,
          0,
          0,
          0,
          0,
          0,
          0,
          0,
          0,
          0,
          0,
          0,
          0,
          0,
          0,
          0,
          0,
          0,
          0,
          0,
          0,
          0,
          0,
          0,
          0,
          0,
          0,
          0,
          0,
          0,
          0,
          0,
          0,
          0,
          0,
          42.896873,
          394.775,
          981.7,
          1516.8,
          2050.8,
          2502.5,
          2898.8,
          3272,
          3658,
          4025.5,
          4336.8,
          4663.2,
          4960,
          5267.2,
          5546.4,
          5811.2,
          6009.6,
          6208,
          6327.51513671875,
          6478.2197265625,
          6620.23388671875,
          6756.61962890625,
          6905.1162109375,
          7009.294921875,
          7155.572265625,
          7269.826171875,
          7399.18408203125,
          7469.4755859375,
          7479.87841796875,
          7514.20703125,
          7527.74462890625,
          7527.21728515625,
          7513.7978515625,
          7513.7978515625,
          7512.6875,
          7485.35546875,
          7376.1376953125,
          7291.61474609375,
          7232.84814453125,
          7093.28076171875,
          6945.26953125,
          6764.7529296875,
          6577.2529296875,
          6230.78515625,
          6072.7216796875,
          5709.8251953125,
          5572.1455078125,
          5410.8388671875,
          5070.1669921875,
          4873.52587890625,
          4425.79150390625,
          4126.81982421875,
          3817.945068359375,
          3425.679443359375,
          2951.651123046875,
          2599.217041015625,
          2154.678955078125,
          1665.6502685546875,
          1269.5625,
          860.9390869140625,
          492.7956237792969,
          212.02357482910156,
          60.00588607788086,
          6.022937297821045,
          3.6550660133361816,
          1.2928427457809448,
          1.2928427457809448,
          1.194311261177063,
          1.194311261177063,
          1.194311261177063,
          1.194311261177063,
          1.194311261177063,
          1.194311261177063,
          1.194311261177063,
          1.194311261177063,
          1.194311261177063,
          1.194311261177063,
          1.194311261177063,
          1.194311261177063,
          1.194311261177063,
          1.194311261177063,
          1.194311261177063,
          1.194311261177063,
          1.194311261177063,
          1.194311261177063,
          1.194311261177063,
          1.194311261177063,
          1.194311261177063,
          1.194311261177063,
          1.194311261177063
         ],
         "yaxis": "y5"
        },
        {
         "line": {
          "width": 1
         },
         "marker": {
          "color": "green",
          "size": 1
         },
         "mode": "lines",
         "name": "GTI",
         "type": "scatter",
         "xaxis": "x5",
         "y": [
          0,
          0,
          0,
          0,
          0,
          0,
          0,
          0,
          0,
          0,
          0,
          0,
          0,
          0,
          0,
          0,
          0,
          0,
          0,
          0,
          0,
          0,
          0,
          0,
          0,
          0,
          0,
          0,
          0,
          0,
          0,
          0,
          0,
          0,
          0,
          0,
          0,
          0,
          0,
          0,
          0,
          0,
          0,
          0,
          0,
          0,
          0,
          0,
          0,
          0,
          0,
          0,
          0,
          0.570166,
          8.739062,
          20.15,
          82.9125,
          135.175,
          185.05,
          235.575,
          286.1,
          334.15,
          384.15,
          432.65,
          479.7,
          525.95,
          571.5,
          616.6,
          660.1,
          699.4,
          736.6,
          772.3,
          805.5,
          837.7,
          868.4,
          893.6,
          914.5,
          937.3,
          956.9,
          975.2,
          988.2,
          998.4,
          1009.9,
          1013.5,
          1015.2,
          1016.4,
          1012.2,
          1008.6,
          999.3,
          987,
          961.5,
          950.9,
          922.9,
          903.3,
          874.6,
          854.9,
          820.1,
          785,
          747.3,
          707.7,
          673.1,
          629.6,
          585.3,
          539.8,
          492.95,
          442.8,
          393.25,
          346.65,
          298.7,
          248.975,
          199.55,
          151.075,
          104.35,
          62.18125,
          27.76875,
          6.1585937,
          0.20703125,
          0,
          0,
          0,
          0,
          0,
          0,
          0,
          0,
          0,
          0,
          0,
          0,
          0,
          0,
          0,
          0,
          0,
          0,
          0,
          0,
          0,
          0,
          0,
          0,
          0,
          0,
          0
         ],
         "yaxis": "y5"
        },
        {
         "line": {
          "color": "LightSkyBlue",
          "width": 2
         },
         "mode": "lines",
         "name": "Real",
         "type": "scatter",
         "xaxis": "x6",
         "y": [
          0,
          0,
          0,
          0,
          0,
          0,
          0,
          0,
          0,
          0,
          0,
          0,
          0,
          0,
          0,
          0,
          0,
          0,
          0,
          0,
          0,
          0,
          0,
          0,
          0,
          0,
          0,
          0,
          0,
          0,
          0,
          0,
          0,
          0,
          0,
          0,
          0,
          0,
          0,
          0,
          0,
          0,
          0,
          0,
          0,
          0,
          0,
          0,
          0,
          0,
          0,
          0,
          0,
          0,
          0,
          0,
          0,
          0,
          0,
          0,
          0,
          0,
          0,
          0,
          0,
          0,
          0,
          0,
          0,
          0,
          0,
          0,
          0,
          0,
          0,
          0,
          0,
          0,
          0,
          0,
          0,
          0.58125,
          288.725,
          911.7,
          1468,
          2026.4,
          2443.6,
          2873.6,
          3274.8,
          3651.6,
          3998.8,
          4323.2,
          4615.2,
          4910,
          5216,
          5468,
          5732.8,
          5939.2,
          6136.8,
          6369.6,
          6534.4,
          6677.6,
          6853.6,
          7000.8,
          7120.8,
          7248,
          7307.2,
          7333.6,
          7412,
          7434.4,
          7455.2,
          7434.4,
          7424.8,
          7394.4,
          7326.4,
          7264.8,
          7163.2,
          7113.6,
          7000,
          6873,
          6661,
          6568,
          6411.2,
          6323,
          5979.2,
          5820.8,
          5679.2,
          5392,
          4858.4,
          4758.4,
          4418,
          4118.6665,
          3400,
          3593.6,
          2470.2,
          2938.4,
          1765,
          2190.4,
          1838.25,
          820,
          513.25,
          312.3875,
          53.729687,
          0
         ],
         "yaxis": "y6"
        },
        {
         "line": {
          "color": "red",
          "width": 2
         },
         "mode": "lines",
         "name": "Forecasts",
         "type": "scatter",
         "xaxis": "x6",
         "y": [
          0,
          0,
          0,
          0,
          0,
          0,
          0,
          0,
          0,
          0,
          0,
          0,
          0,
          0,
          0,
          0,
          0,
          0,
          0,
          0,
          0,
          0,
          0,
          0,
          0,
          0,
          0,
          0,
          0,
          0,
          0,
          0,
          0,
          0,
          0,
          0,
          0,
          0,
          0,
          0,
          0,
          0,
          0,
          0,
          0,
          0,
          0,
          0,
          0,
          0,
          0,
          0,
          0,
          0,
          0,
          0,
          0,
          0,
          0,
          0,
          0,
          0,
          0,
          0,
          0,
          0,
          0,
          0,
          0,
          0,
          0,
          0,
          1.3053311109542847,
          1.3053311109542847,
          1.3053311109542847,
          1.3053311109542847,
          1.3053311109542847,
          1.3053311109542847,
          1.3053311109542847,
          1.3053311109542847,
          1.3053311109542847,
          8.012428283691406,
          79.3394775390625,
          217.54904174804688,
          439.3823547363281,
          837.1203002929688,
          1293.7083740234375,
          1666.01123046875,
          2088.0302734375,
          2589.54443359375,
          2978.517333984375,
          3431.320556640625,
          3890.537109375,
          4258.552734375,
          4583.4765625,
          4991.39794921875,
          5389.91259765625,
          5767.27001953125,
          6047.58349609375,
          6291.18603515625,
          6450.962890625,
          6587.84130859375,
          6728.9130859375,
          6853.53955078125,
          6988.740234375,
          7098.86376953125,
          7184.4873046875,
          7250.03564453125,
          7367.16015625,
          7417.13671875,
          7482.28515625,
          7516.61376953125,
          7508.07568359375,
          7475.28271484375,
          7466.5888671875,
          7390.88037109375,
          7339.46630859375,
          7271.0498046875,
          7247.1552734375,
          7168.7783203125,
          7004.451171875,
          6841.35986328125,
          6652.38525390625,
          6539.97900390625,
          6223.45654296875,
          6029.4921875,
          5810.81982421875,
          5526.03857421875,
          5001.60009765625,
          4828.9853515625,
          4521.1796875,
          4268.900390625,
          4035.546142578125,
          3732.48291015625,
          3325.705322265625,
          2996.712158203125,
          2439.962158203125,
          2031.3720703125,
          1679.1318359375,
          1302.8865966796875,
          838.8565063476562,
          492.9156494140625,
          220.4527587890625,
          76.45121002197266
         ],
         "yaxis": "y6"
        },
        {
         "line": {
          "width": 1
         },
         "marker": {
          "color": "green",
          "size": 1
         },
         "mode": "lines",
         "name": "GTI",
         "type": "scatter",
         "xaxis": "x6",
         "y": [
          0,
          0,
          0,
          0,
          0,
          0,
          0,
          0,
          0,
          0,
          0,
          0,
          0,
          0,
          0,
          0,
          0,
          0,
          0,
          0,
          0,
          0,
          0,
          0,
          0,
          0,
          0,
          0,
          0,
          0,
          0,
          0,
          0,
          0,
          0,
          0,
          0,
          0,
          0,
          0,
          0,
          0,
          0,
          0,
          0,
          0,
          0,
          0,
          0,
          0,
          0,
          0,
          0,
          0,
          0,
          0,
          0,
          0,
          0,
          0,
          0,
          0,
          0,
          0,
          0,
          0,
          0,
          0,
          0,
          0,
          0,
          0,
          0,
          0,
          0,
          0,
          0,
          0,
          0,
          0,
          0,
          2.854297,
          15.11875,
          68.30937,
          127.7375,
          179.225,
          230.575,
          283.3,
          335.15,
          384.15,
          430.15,
          473.9,
          515.55,
          560.5,
          603.1,
          645.2,
          685.5,
          722.5,
          756.1,
          792.1,
          822.5,
          851.4,
          878.4,
          902.5,
          923.9,
          943.1,
          960.1,
          972.7,
          983.7,
          992.3,
          995.4,
          996.1,
          996.5,
          992.5,
          986.6,
          975.9,
          963.6,
          950.4,
          934.4,
          914.4,
          886.7,
          862.7,
          839.3,
          800.2,
          771,
          737.3,
          711.3,
          670.1,
          586.3,
          595.1,
          505.7,
          465.4,
          424.95,
          399.6,
          274.925,
          308.3,
          200.975,
          231.15,
          170.025,
          84.375,
          54.4625,
          29.84375,
          7.705859,
          0.32802734
         ],
         "yaxis": "y6"
        }
       ],
       "layout": {
        "height": 700,
        "showlegend": false,
        "template": {
         "data": {
          "bar": [
           {
            "error_x": {
             "color": "#2a3f5f"
            },
            "error_y": {
             "color": "#2a3f5f"
            },
            "marker": {
             "line": {
              "color": "#E5ECF6",
              "width": 0.5
             },
             "pattern": {
              "fillmode": "overlay",
              "size": 10,
              "solidity": 0.2
             }
            },
            "type": "bar"
           }
          ],
          "barpolar": [
           {
            "marker": {
             "line": {
              "color": "#E5ECF6",
              "width": 0.5
             },
             "pattern": {
              "fillmode": "overlay",
              "size": 10,
              "solidity": 0.2
             }
            },
            "type": "barpolar"
           }
          ],
          "carpet": [
           {
            "aaxis": {
             "endlinecolor": "#2a3f5f",
             "gridcolor": "white",
             "linecolor": "white",
             "minorgridcolor": "white",
             "startlinecolor": "#2a3f5f"
            },
            "baxis": {
             "endlinecolor": "#2a3f5f",
             "gridcolor": "white",
             "linecolor": "white",
             "minorgridcolor": "white",
             "startlinecolor": "#2a3f5f"
            },
            "type": "carpet"
           }
          ],
          "choropleth": [
           {
            "colorbar": {
             "outlinewidth": 0,
             "ticks": ""
            },
            "type": "choropleth"
           }
          ],
          "contour": [
           {
            "colorbar": {
             "outlinewidth": 0,
             "ticks": ""
            },
            "colorscale": [
             [
              0,
              "#0d0887"
             ],
             [
              0.1111111111111111,
              "#46039f"
             ],
             [
              0.2222222222222222,
              "#7201a8"
             ],
             [
              0.3333333333333333,
              "#9c179e"
             ],
             [
              0.4444444444444444,
              "#bd3786"
             ],
             [
              0.5555555555555556,
              "#d8576b"
             ],
             [
              0.6666666666666666,
              "#ed7953"
             ],
             [
              0.7777777777777778,
              "#fb9f3a"
             ],
             [
              0.8888888888888888,
              "#fdca26"
             ],
             [
              1,
              "#f0f921"
             ]
            ],
            "type": "contour"
           }
          ],
          "contourcarpet": [
           {
            "colorbar": {
             "outlinewidth": 0,
             "ticks": ""
            },
            "type": "contourcarpet"
           }
          ],
          "heatmap": [
           {
            "colorbar": {
             "outlinewidth": 0,
             "ticks": ""
            },
            "colorscale": [
             [
              0,
              "#0d0887"
             ],
             [
              0.1111111111111111,
              "#46039f"
             ],
             [
              0.2222222222222222,
              "#7201a8"
             ],
             [
              0.3333333333333333,
              "#9c179e"
             ],
             [
              0.4444444444444444,
              "#bd3786"
             ],
             [
              0.5555555555555556,
              "#d8576b"
             ],
             [
              0.6666666666666666,
              "#ed7953"
             ],
             [
              0.7777777777777778,
              "#fb9f3a"
             ],
             [
              0.8888888888888888,
              "#fdca26"
             ],
             [
              1,
              "#f0f921"
             ]
            ],
            "type": "heatmap"
           }
          ],
          "heatmapgl": [
           {
            "colorbar": {
             "outlinewidth": 0,
             "ticks": ""
            },
            "colorscale": [
             [
              0,
              "#0d0887"
             ],
             [
              0.1111111111111111,
              "#46039f"
             ],
             [
              0.2222222222222222,
              "#7201a8"
             ],
             [
              0.3333333333333333,
              "#9c179e"
             ],
             [
              0.4444444444444444,
              "#bd3786"
             ],
             [
              0.5555555555555556,
              "#d8576b"
             ],
             [
              0.6666666666666666,
              "#ed7953"
             ],
             [
              0.7777777777777778,
              "#fb9f3a"
             ],
             [
              0.8888888888888888,
              "#fdca26"
             ],
             [
              1,
              "#f0f921"
             ]
            ],
            "type": "heatmapgl"
           }
          ],
          "histogram": [
           {
            "marker": {
             "pattern": {
              "fillmode": "overlay",
              "size": 10,
              "solidity": 0.2
             }
            },
            "type": "histogram"
           }
          ],
          "histogram2d": [
           {
            "colorbar": {
             "outlinewidth": 0,
             "ticks": ""
            },
            "colorscale": [
             [
              0,
              "#0d0887"
             ],
             [
              0.1111111111111111,
              "#46039f"
             ],
             [
              0.2222222222222222,
              "#7201a8"
             ],
             [
              0.3333333333333333,
              "#9c179e"
             ],
             [
              0.4444444444444444,
              "#bd3786"
             ],
             [
              0.5555555555555556,
              "#d8576b"
             ],
             [
              0.6666666666666666,
              "#ed7953"
             ],
             [
              0.7777777777777778,
              "#fb9f3a"
             ],
             [
              0.8888888888888888,
              "#fdca26"
             ],
             [
              1,
              "#f0f921"
             ]
            ],
            "type": "histogram2d"
           }
          ],
          "histogram2dcontour": [
           {
            "colorbar": {
             "outlinewidth": 0,
             "ticks": ""
            },
            "colorscale": [
             [
              0,
              "#0d0887"
             ],
             [
              0.1111111111111111,
              "#46039f"
             ],
             [
              0.2222222222222222,
              "#7201a8"
             ],
             [
              0.3333333333333333,
              "#9c179e"
             ],
             [
              0.4444444444444444,
              "#bd3786"
             ],
             [
              0.5555555555555556,
              "#d8576b"
             ],
             [
              0.6666666666666666,
              "#ed7953"
             ],
             [
              0.7777777777777778,
              "#fb9f3a"
             ],
             [
              0.8888888888888888,
              "#fdca26"
             ],
             [
              1,
              "#f0f921"
             ]
            ],
            "type": "histogram2dcontour"
           }
          ],
          "mesh3d": [
           {
            "colorbar": {
             "outlinewidth": 0,
             "ticks": ""
            },
            "type": "mesh3d"
           }
          ],
          "parcoords": [
           {
            "line": {
             "colorbar": {
              "outlinewidth": 0,
              "ticks": ""
             }
            },
            "type": "parcoords"
           }
          ],
          "pie": [
           {
            "automargin": true,
            "type": "pie"
           }
          ],
          "scatter": [
           {
            "fillpattern": {
             "fillmode": "overlay",
             "size": 10,
             "solidity": 0.2
            },
            "type": "scatter"
           }
          ],
          "scatter3d": [
           {
            "line": {
             "colorbar": {
              "outlinewidth": 0,
              "ticks": ""
             }
            },
            "marker": {
             "colorbar": {
              "outlinewidth": 0,
              "ticks": ""
             }
            },
            "type": "scatter3d"
           }
          ],
          "scattercarpet": [
           {
            "marker": {
             "colorbar": {
              "outlinewidth": 0,
              "ticks": ""
             }
            },
            "type": "scattercarpet"
           }
          ],
          "scattergeo": [
           {
            "marker": {
             "colorbar": {
              "outlinewidth": 0,
              "ticks": ""
             }
            },
            "type": "scattergeo"
           }
          ],
          "scattergl": [
           {
            "marker": {
             "colorbar": {
              "outlinewidth": 0,
              "ticks": ""
             }
            },
            "type": "scattergl"
           }
          ],
          "scattermapbox": [
           {
            "marker": {
             "colorbar": {
              "outlinewidth": 0,
              "ticks": ""
             }
            },
            "type": "scattermapbox"
           }
          ],
          "scatterpolar": [
           {
            "marker": {
             "colorbar": {
              "outlinewidth": 0,
              "ticks": ""
             }
            },
            "type": "scatterpolar"
           }
          ],
          "scatterpolargl": [
           {
            "marker": {
             "colorbar": {
              "outlinewidth": 0,
              "ticks": ""
             }
            },
            "type": "scatterpolargl"
           }
          ],
          "scatterternary": [
           {
            "marker": {
             "colorbar": {
              "outlinewidth": 0,
              "ticks": ""
             }
            },
            "type": "scatterternary"
           }
          ],
          "surface": [
           {
            "colorbar": {
             "outlinewidth": 0,
             "ticks": ""
            },
            "colorscale": [
             [
              0,
              "#0d0887"
             ],
             [
              0.1111111111111111,
              "#46039f"
             ],
             [
              0.2222222222222222,
              "#7201a8"
             ],
             [
              0.3333333333333333,
              "#9c179e"
             ],
             [
              0.4444444444444444,
              "#bd3786"
             ],
             [
              0.5555555555555556,
              "#d8576b"
             ],
             [
              0.6666666666666666,
              "#ed7953"
             ],
             [
              0.7777777777777778,
              "#fb9f3a"
             ],
             [
              0.8888888888888888,
              "#fdca26"
             ],
             [
              1,
              "#f0f921"
             ]
            ],
            "type": "surface"
           }
          ],
          "table": [
           {
            "cells": {
             "fill": {
              "color": "#EBF0F8"
             },
             "line": {
              "color": "white"
             }
            },
            "header": {
             "fill": {
              "color": "#C8D4E3"
             },
             "line": {
              "color": "white"
             }
            },
            "type": "table"
           }
          ]
         },
         "layout": {
          "annotationdefaults": {
           "arrowcolor": "#2a3f5f",
           "arrowhead": 0,
           "arrowwidth": 1
          },
          "autotypenumbers": "strict",
          "coloraxis": {
           "colorbar": {
            "outlinewidth": 0,
            "ticks": ""
           }
          },
          "colorscale": {
           "diverging": [
            [
             0,
             "#8e0152"
            ],
            [
             0.1,
             "#c51b7d"
            ],
            [
             0.2,
             "#de77ae"
            ],
            [
             0.3,
             "#f1b6da"
            ],
            [
             0.4,
             "#fde0ef"
            ],
            [
             0.5,
             "#f7f7f7"
            ],
            [
             0.6,
             "#e6f5d0"
            ],
            [
             0.7,
             "#b8e186"
            ],
            [
             0.8,
             "#7fbc41"
            ],
            [
             0.9,
             "#4d9221"
            ],
            [
             1,
             "#276419"
            ]
           ],
           "sequential": [
            [
             0,
             "#0d0887"
            ],
            [
             0.1111111111111111,
             "#46039f"
            ],
            [
             0.2222222222222222,
             "#7201a8"
            ],
            [
             0.3333333333333333,
             "#9c179e"
            ],
            [
             0.4444444444444444,
             "#bd3786"
            ],
            [
             0.5555555555555556,
             "#d8576b"
            ],
            [
             0.6666666666666666,
             "#ed7953"
            ],
            [
             0.7777777777777778,
             "#fb9f3a"
            ],
            [
             0.8888888888888888,
             "#fdca26"
            ],
            [
             1,
             "#f0f921"
            ]
           ],
           "sequentialminus": [
            [
             0,
             "#0d0887"
            ],
            [
             0.1111111111111111,
             "#46039f"
            ],
            [
             0.2222222222222222,
             "#7201a8"
            ],
            [
             0.3333333333333333,
             "#9c179e"
            ],
            [
             0.4444444444444444,
             "#bd3786"
            ],
            [
             0.5555555555555556,
             "#d8576b"
            ],
            [
             0.6666666666666666,
             "#ed7953"
            ],
            [
             0.7777777777777778,
             "#fb9f3a"
            ],
            [
             0.8888888888888888,
             "#fdca26"
            ],
            [
             1,
             "#f0f921"
            ]
           ]
          },
          "colorway": [
           "#636efa",
           "#EF553B",
           "#00cc96",
           "#ab63fa",
           "#FFA15A",
           "#19d3f3",
           "#FF6692",
           "#B6E880",
           "#FF97FF",
           "#FECB52"
          ],
          "font": {
           "color": "#2a3f5f"
          },
          "geo": {
           "bgcolor": "white",
           "lakecolor": "white",
           "landcolor": "#E5ECF6",
           "showlakes": true,
           "showland": true,
           "subunitcolor": "white"
          },
          "hoverlabel": {
           "align": "left"
          },
          "hovermode": "closest",
          "mapbox": {
           "style": "light"
          },
          "paper_bgcolor": "white",
          "plot_bgcolor": "#E5ECF6",
          "polar": {
           "angularaxis": {
            "gridcolor": "white",
            "linecolor": "white",
            "ticks": ""
           },
           "bgcolor": "#E5ECF6",
           "radialaxis": {
            "gridcolor": "white",
            "linecolor": "white",
            "ticks": ""
           }
          },
          "scene": {
           "xaxis": {
            "backgroundcolor": "#E5ECF6",
            "gridcolor": "white",
            "gridwidth": 2,
            "linecolor": "white",
            "showbackground": true,
            "ticks": "",
            "zerolinecolor": "white"
           },
           "yaxis": {
            "backgroundcolor": "#E5ECF6",
            "gridcolor": "white",
            "gridwidth": 2,
            "linecolor": "white",
            "showbackground": true,
            "ticks": "",
            "zerolinecolor": "white"
           },
           "zaxis": {
            "backgroundcolor": "#E5ECF6",
            "gridcolor": "white",
            "gridwidth": 2,
            "linecolor": "white",
            "showbackground": true,
            "ticks": "",
            "zerolinecolor": "white"
           }
          },
          "shapedefaults": {
           "line": {
            "color": "#2a3f5f"
           }
          },
          "ternary": {
           "aaxis": {
            "gridcolor": "white",
            "linecolor": "white",
            "ticks": ""
           },
           "baxis": {
            "gridcolor": "white",
            "linecolor": "white",
            "ticks": ""
           },
           "bgcolor": "#E5ECF6",
           "caxis": {
            "gridcolor": "white",
            "linecolor": "white",
            "ticks": ""
           }
          },
          "title": {
           "x": 0.05
          },
          "xaxis": {
           "automargin": true,
           "gridcolor": "white",
           "linecolor": "white",
           "ticks": "",
           "title": {
            "standoff": 15
           },
           "zerolinecolor": "white",
           "zerolinewidth": 2
          },
          "yaxis": {
           "automargin": true,
           "gridcolor": "white",
           "linecolor": "white",
           "ticks": "",
           "title": {
            "standoff": 15
           },
           "zerolinecolor": "white",
           "zerolinewidth": 2
          }
         }
        },
        "title": {
         "text": "Frocasts on test samples"
        },
        "width": 1100,
        "xaxis": {
         "anchor": "y",
         "autorange": true,
         "domain": [
          0,
          0.45
         ],
         "range": [
          0,
          143
         ]
        },
        "xaxis2": {
         "anchor": "y2",
         "autorange": true,
         "domain": [
          0.55,
          1
         ],
         "range": [
          0,
          143
         ]
        },
        "xaxis3": {
         "anchor": "y3",
         "autorange": true,
         "domain": [
          0,
          0.45
         ],
         "range": [
          0,
          143
         ]
        },
        "xaxis4": {
         "anchor": "y4",
         "autorange": true,
         "domain": [
          0.55,
          1
         ],
         "range": [
          0,
          143
         ]
        },
        "xaxis5": {
         "anchor": "y5",
         "autorange": true,
         "domain": [
          0,
          0.45
         ],
         "range": [
          0,
          143
         ]
        },
        "xaxis6": {
         "anchor": "y6",
         "autorange": true,
         "domain": [
          0.55,
          1
         ],
         "range": [
          0,
          143
         ]
        },
        "yaxis": {
         "anchor": "x",
         "autorange": true,
         "domain": [
          0.7333333333333333,
          1
         ],
         "range": [
          -390.13747829861114,
          7412.612087673611
         ],
         "type": "linear"
        },
        "yaxis2": {
         "anchor": "x2",
         "autorange": true,
         "domain": [
          0.7333333333333333,
          1
         ],
         "matches": "y",
         "range": [
          -390.13747829861114,
          7412.612087673611
         ],
         "showticklabels": false,
         "type": "linear"
        },
        "yaxis3": {
         "anchor": "x3",
         "autorange": true,
         "domain": [
          0.36666666666666664,
          0.6333333333333333
         ],
         "range": [
          -397.7777777777779,
          7557.777777777778
         ],
         "type": "linear"
        },
        "yaxis4": {
         "anchor": "x4",
         "autorange": true,
         "domain": [
          0.36666666666666664,
          0.6333333333333333
         ],
         "matches": "y3",
         "range": [
          -397.7777777777779,
          7557.777777777778
         ],
         "showticklabels": false,
         "type": "linear"
        },
        "yaxis5": {
         "anchor": "x5",
         "autorange": true,
         "domain": [
          0,
          0.26666666666666666
         ],
         "range": [
          -423.4666666666667,
          8045.866666666667
         ],
         "type": "linear"
        },
        "yaxis6": {
         "anchor": "x6",
         "autorange": true,
         "domain": [
          0,
          0.26666666666666666
         ],
         "matches": "y5",
         "range": [
          -423.4666666666667,
          8045.866666666667
         ],
         "showticklabels": false,
         "type": "linear"
        }
       }
      },
      "text/html": [
       "<div>                            <div id=\"46d70c6d-58ee-46f8-beef-264ed6ef9a8c\" class=\"plotly-graph-div\" style=\"height:700px; width:1100px;\"></div>            <script type=\"text/javascript\">                require([\"plotly\"], function(Plotly) {                    window.PLOTLYENV=window.PLOTLYENV || {};                                    if (document.getElementById(\"46d70c6d-58ee-46f8-beef-264ed6ef9a8c\")) {                    Plotly.newPlot(                        \"46d70c6d-58ee-46f8-beef-264ed6ef9a8c\",                        [{\"line\":{\"color\":\"LightSkyBlue\",\"width\":2},\"mode\":\"lines\",\"name\":\"Real\",\"y\":[1188.1,960.9,839.7,1121.0,1087.6,637.0,202.3125,49.44375,0.0,0.0,0.0,0.0,0.0,0.0,0.0,0.0,0.0,0.0,0.0,0.0,0.0,0.0,0.0,0.0,0.0,0.0,0.0,0.0,0.0,0.0,0.0,0.0,0.0,0.0,0.0,0.0,0.0,0.0,0.0,0.0,0.0,0.0,0.0,0.0,0.0,0.0,0.0,0.0,0.0,0.0,0.0,0.0,0.0,0.0,0.0,0.0,0.0,0.0,0.0,0.0,0.0,0.0,0.0,0.0,0.0,0.0,0.0,0.0,0.0,0.0,0.0,0.0,0.0,0.0,0.0,0.0,0.0,0.0,0.0,0.0,0.0,0.0,0.0,0.0,0.0,0.0,0.0,0.0,0.0,0.9320313,104.475,332.025,377.85,483.4,607.4,808.9,933.5,1094.2,1249.0,1547.8,1602.2,1398.2,1389.2,1557.8,2300.6,2788.0,2679.6,3328.4,3852.4,3815.6,3971.6,4370.4,4875.2,5224.0,3405.0,5028.0,4077.2,3911.6,5789.6,4868.4,4120.0,3701.6,3567.6,3726.0,5646.4,6813.6,6622.4,6534.6665,6104.8,6257.6,6148.8,5720.0,5026.8,5008.8,4256.5,4508.4,5403.0,5000.0,4616.0,4322.4,3348.4,3453.2,3127.2,2990.0],\"type\":\"scatter\",\"xaxis\":\"x\",\"yaxis\":\"y\"},{\"line\":{\"color\":\"red\",\"width\":2},\"mode\":\"lines\",\"name\":\"Forecasts\",\"y\":[1188.1,960.9,839.7,1121.0,1087.6,637.0,202.3125,49.44375,0.0,0.0,0.0,0.0,0.0,0.0,0.0,0.0,0.0,0.0,0.0,0.0,0.0,0.0,0.0,0.0,0.0,0.0,0.0,0.0,0.0,0.0,0.0,0.0,0.0,0.0,0.0,0.0,0.0,0.0,0.0,0.0,0.0,0.0,0.0,0.0,0.0,0.0,0.0,0.0,0.0,0.0,0.0,0.0,0.0,0.0,0.0,0.0,0.0,0.0,0.0,0.0,0.0,0.0,0.0,0.0,0.0,0.0,0.0,0.0,0.0,0.0,0.0,0.0,1.1954988241195679,1.206799864768982,1.206799864768982,1.3053311109542847,1.3053311109542847,1.3053311109542847,1.3053311109542847,1.3053311109542847,1.3053311109542847,1.3053311109542847,1.3053311109542847,1.3053311109542847,1.3053311109542847,1.3053311109542847,1.3053311109542847,1.3053311109542847,1.3053311109542847,3.510821580886841,50.558448791503906,159.3080596923828,304.43231201171875,458.2989196777344,674.8021850585938,913.686767578125,1033.8001708984375,1268.554443359375,1369.9644775390625,1652.2718505859375,1776.2899169921875,1749.443115234375,1766.0657958984375,1877.9259033203125,2314.377685546875,2674.98193359375,2792.799072265625,3146.621337890625,3585.76318359375,3735.781982421875,3919.032470703125,4289.421875,4770.6962890625,5241.70166015625,5204.32568359375,5193.49462890625,4312.10498046875,4451.07080078125,5879.96875,4914.720703125,4828.33740234375,4104.3076171875,3793.8525390625,3671.9580078125,5639.38427734375,6768.6748046875,6664.7041015625,6580.4736328125,6541.8876953125,6488.7529296875,6326.19482421875,6219.7412109375,5330.9150390625,5119.31640625,5029.59765625,4576.3720703125,4676.54443359375,4581.9755859375,4343.30224609375,4199.70068359375,3871.968505859375,3640.2412109375,3273.984375,2935.2890625],\"type\":\"scatter\",\"xaxis\":\"x\",\"yaxis\":\"y\"},{\"line\":{\"width\":1},\"marker\":{\"color\":\"green\",\"size\":1},\"mode\":\"lines\",\"name\":\"GTI\",\"y\":[190.5,150.35,127.75,153.375,120.7875,62.89375,20.698437,1.5193726,0.0,0.0,0.0,0.0,0.0,0.0,0.0,0.0,0.0,0.0,0.0,0.0,0.0,0.0,0.0,0.0,0.0,0.0,0.0,0.0,0.0,0.0,0.0,0.0,0.0,0.0,0.0,0.0,0.0,0.0,0.0,0.0,0.0,0.0,0.0,0.0,0.0,0.0,0.0,0.0,0.0,0.0,0.0,0.0,0.0,0.0,0.0,0.0,0.0,0.0,0.0,0.0,0.0,0.0,0.0,0.0,0.0,0.0,0.0,0.0,0.0,0.0,0.0,0.0,0.0,0.0,0.0,0.0,0.0,0.0,0.0,0.0,0.0,0.0,0.0,0.0,0.0,0.0,0.0,0.0,0.0,2.2879395,19.359375,46.79375,71.9875,97.875,126.175,158.225,176.325,198.525,228.625,278.1,277.3,263.3,266.65,298.9,404.4,435.5,428.4,505.4,566.5,545.2,585.3,649.5,726.9,796.5,723.1,742.6,563.15,669.8,905.3,669.7,709.5,569.6,592.1,566.2,882.8,980.7,969.0,948.5,886.7,889.6,843.3,820.4,692.1,672.4,674.6,562.0,702.3,648.0,595.9,557.7,437.6,428.05,400.15,366.8],\"type\":\"scatter\",\"xaxis\":\"x\",\"yaxis\":\"y\"},{\"line\":{\"color\":\"LightSkyBlue\",\"width\":2},\"mode\":\"lines\",\"name\":\"Real\",\"y\":[3911.6,5789.6,4868.4,4120.0,3701.6,3567.6,3726.0,5646.4,6813.6,6622.4,6534.6665,6104.8,6257.6,6148.8,5720.0,5026.8,5008.8,4256.5,4508.4,5403.0,5000.0,4616.0,4322.4,3348.4,3453.2,3127.2,2990.0,2433.2,1832.6,1461.8,1225.8,809.5,476.3,256.4375,56.1875,0.0,0.0,0.0,0.0,0.0,0.0,0.0,0.0,0.0,0.0,0.0,0.0,0.0,0.0,0.0,0.0,0.0,0.0,0.0,0.0,0.0,0.0,0.0,0.0,0.0,0.0,0.0,0.0,0.0,0.0,0.0,0.0,0.0,0.0,0.0,0.0,0.0,0.0,0.0,0.0,0.0,0.0,0.0,0.0,0.0,0.0,0.0,0.0,0.0,0.0,0.0,0.0,0.0,0.0,0.0,0.0,0.0,0.0,0.0,0.0,0.0,0.0,0.0,0.0,0.0,0.0,0.0,0.0,0.0,0.0,0.0,0.0,0.0,0.0,0.0,0.0,0.0,0.0,0.0,0.0,0.0,0.0,65.7625,342.55,799.0,1319.2,1733.4,2164.0,2533.2,2887.2,1679.0,1032.1,1663.75,2289.5,3725.6,4996.0,4969.6,5245.6,5437.0,5632.0,5787.2,5958.4,6116.0,6287.2,6373.6,6530.4,6618.4,6702.0,6776.0],\"type\":\"scatter\",\"xaxis\":\"x2\",\"yaxis\":\"y2\"},{\"line\":{\"color\":\"red\",\"width\":2},\"mode\":\"lines\",\"name\":\"Forecasts\",\"y\":[3911.6,5789.6,4868.4,4120.0,3701.6,3567.6,3726.0,5646.4,6813.6,6622.4,6534.6665,6104.8,6257.6,6148.8,5720.0,5026.8,5008.8,4256.5,4508.4,5403.0,5000.0,4616.0,4322.4,3348.4,3453.2,3127.2,2990.0,2433.2,1832.6,1461.8,1225.8,809.5,476.3,256.4375,56.1875,0.0,0.0,0.0,0.0,0.0,0.0,0.0,0.0,0.0,0.0,0.0,0.0,0.0,0.0,0.0,0.0,0.0,0.0,0.0,0.0,0.0,0.0,0.0,0.0,0.0,0.0,0.0,0.0,0.0,0.0,0.0,0.0,0.0,0.0,0.0,0.0,0.0,1.194311261177063,1.194311261177063,1.194311261177063,1.194311261177063,1.194311261177063,1.194311261177063,1.194311261177063,1.194311261177063,1.194311261177063,1.194311261177063,1.194311261177063,1.194311261177063,1.194311261177063,1.194311261177063,1.194311261177063,1.194311261177063,1.194311261177063,1.194311261177063,1.194311261177063,1.194311261177063,1.194311261177063,1.194311261177063,1.194311261177063,1.194311261177063,1.194311261177063,1.194311261177063,1.194311261177063,1.1954988241195679,1.206799864768982,1.206799864768982,1.3053311109542847,1.3053311109542847,1.3053311109542847,1.3053311109542847,1.3053311109542847,1.3053311109542847,1.3053311109542847,1.3053311109542847,1.3053311109542847,1.3053311109542847,1.3053311109542847,1.3053311109542847,1.3053311109542847,1.3053311109542847,1.4623669385910034,25.543298721313477,130.10296630859375,305.1280517578125,561.0469360351562,856.1217041015625,1262.987060546875,1614.379638671875,2075.659423828125,1898.4195556640625,1735.67822265625,1949.3177490234375,2431.91015625,3159.490234375,3861.757080078125,4369.515625,4631.5,5115.85400390625,5505.18310546875,5737.69384765625,6036.24951171875,6315.74853515625,6515.39013671875,6639.1806640625,6774.546875,6869.76123046875,6938.671875,7022.474609375],\"type\":\"scatter\",\"xaxis\":\"x2\",\"yaxis\":\"y2\"},{\"line\":{\"width\":1},\"marker\":{\"color\":\"green\",\"size\":1},\"mode\":\"lines\",\"name\":\"GTI\",\"y\":[669.8,905.3,669.7,709.5,569.6,592.1,566.2,882.8,980.7,969.0,948.5,886.7,889.6,843.3,820.4,692.1,672.4,674.6,562.0,702.3,648.0,595.9,557.7,437.6,428.05,400.15,366.8,292.5,221.25,174.45,142.1375,93.4375,54.16875,27.084375,3.6225953,0.0,0.0,0.0,0.0,0.0,0.0,0.0,0.0,0.0,0.0,0.0,0.0,0.0,0.0,0.0,0.0,0.0,0.0,0.0,0.0,0.0,0.0,0.0,0.0,0.0,0.0,0.0,0.0,0.0,0.0,0.0,0.0,0.0,0.0,0.0,0.0,0.0,0.0,0.0,0.0,0.0,0.0,0.0,0.0,0.0,0.0,0.0,0.0,0.0,0.0,0.0,0.0,0.0,0.0,0.0,0.0,0.0,0.0,0.0,0.0,0.0,0.0,0.0,0.0,0.0,0.0,0.0,0.0,0.0,0.0,0.0,0.0,0.0,0.0,0.0,0.0,0.0,0.0,0.0,0.0,0.0,2.525952,15.373438,30.553125,82.675,128.0,170.0,222.0,272.575,331.65,226.175,222.35,325.5,421.1,545.05,624.0,633.4,676.7,718.3,748.8,778.8,809.4,839.3,865.0,891.2,916.0,929.8,948.7,963.8],\"type\":\"scatter\",\"xaxis\":\"x2\",\"yaxis\":\"y2\"},{\"line\":{\"color\":\"LightSkyBlue\",\"width\":2},\"mode\":\"lines\",\"name\":\"Real\",\"y\":[65.7625,342.55,799.0,1319.2,1733.4,2164.0,2533.2,2887.2,1679.0,1032.1,1663.75,2289.5,3725.6,4996.0,4969.6,5245.6,5437.0,5632.0,5787.2,5958.4,6116.0,6287.2,6373.6,6530.4,6618.4,6702.0,6776.0,6772.0,6904.0,6950.0,6938.4,6951.2,6960.8,6952.0,6883.2,6812.0,6692.8,6634.0,6517.6,6370.4,6262.0,6058.0,5934.4,5740.8,5532.0,5315.2,5093.3335,4836.0,4593.6,4313.6,4010.0,3712.0,3393.0,3072.0,2709.6,2320.0,1961.0,1612.25,1207.2,826.1,345.55,47.49375,0.0,0.0,0.0,0.0,0.0,0.0,0.0,0.0,0.0,0.0,0.0,0.0,0.0,0.0,0.0,0.0,0.0,0.0,0.0,0.0,0.0,0.0,0.0,0.0,0.0,0.0,0.0,0.0,0.0,0.0,0.0,0.0,0.0,0.0,0.0,0.0,0.0,0.0,0.0,0.0,0.0,0.0,0.0,0.0,0.0,0.0,0.0,0.0,0.0,0.0,0.0,0.0,0.0,0.0,0.0,0.0,0.0,0.0,0.0,0.0,0.0,0.0,0.0,0.0,0.0,0.0,0.0,0.0,0.0,0.0,0.0,0.0,0.0,0.0,0.0,0.0,0.0,0.0,0.0,0.0,0.0,0.0],\"type\":\"scatter\",\"xaxis\":\"x3\",\"yaxis\":\"y3\"},{\"line\":{\"color\":\"red\",\"width\":2},\"mode\":\"lines\",\"name\":\"Forecasts\",\"y\":[65.7625,342.55,799.0,1319.2,1733.4,2164.0,2533.2,2887.2,1679.0,1032.1,1663.75,2289.5,3725.6,4996.0,4969.6,5245.6,5437.0,5632.0,5787.2,5958.4,6116.0,6287.2,6373.6,6530.4,6618.4,6702.0,6776.0,6772.0,6904.0,6950.0,6938.4,6951.2,6960.8,6952.0,6883.2,6812.0,6692.8,6634.0,6517.6,6370.4,6262.0,6058.0,5934.4,5740.8,5532.0,5315.2,5093.3335,4836.0,4593.6,4313.6,4010.0,3712.0,3393.0,3072.0,2709.6,2320.0,1961.0,1612.25,1207.2,826.1,345.55,47.49375,0.0,0.0,0.0,0.0,0.0,0.0,0.0,0.0,0.0,0.0,1.194311261177063,1.194311261177063,1.194311261177063,1.194311261177063,1.194311261177063,1.194311261177063,1.194311261177063,1.194311261177063,1.194311261177063,1.194311261177063,1.194311261177063,1.194311261177063,1.194311261177063,1.194311261177063,1.194311261177063,1.194311261177063,1.194311261177063,1.194311261177063,1.194311261177063,1.194311261177063,1.194311261177063,1.194311261177063,1.194311261177063,1.194311261177063,1.194311261177063,1.194311261177063,1.194311261177063,1.194311261177063,1.194311261177063,1.194311261177063,1.194311261177063,1.194311261177063,1.194311261177063,1.194311261177063,1.194311261177063,1.194311261177063,1.194311261177063,1.194311261177063,1.194311261177063,1.194311261177063,1.194311261177063,1.194311261177063,1.194311261177063,1.194311261177063,1.194311261177063,1.194311261177063,1.194311261177063,1.194311261177063,1.194311261177063,1.194311261177063,1.194311261177063,1.194311261177063,1.194311261177063,1.194311261177063,1.1954988241195679,1.206799864768982,1.206799864768982,1.3053311109542847,1.3053311109542847,1.3053311109542847,1.3053311109542847,1.3053311109542847,1.3053311109542847,1.3053311109542847,1.3053311109542847,1.3053311109542847,1.3053311109542847,1.3053311109542847,1.3053311109542847,1.3053311109542847,1.3053311109542847,1.3053311109542847],\"type\":\"scatter\",\"xaxis\":\"x3\",\"yaxis\":\"y3\"},{\"line\":{\"width\":1},\"marker\":{\"color\":\"green\",\"size\":1},\"mode\":\"lines\",\"name\":\"GTI\",\"y\":[15.373438,30.553125,82.675,128.0,170.0,222.0,272.575,331.65,226.175,222.35,325.5,421.1,545.05,624.0,633.4,676.7,718.3,748.8,778.8,809.4,839.3,865.0,891.2,916.0,929.8,948.7,963.8,969.3,982.6,989.3,991.4,991.2,990.7,982.9,973.5,961.3,945.4,927.9,908.3,882.2,856.0,826.9,798.0,766.2,732.3,696.4,660.3,618.8,575.9,531.4,487.65,438.75,390.55,342.4,292.25,241.625,194.45,146.675,100.525,59.69375,25.065624,1.10625,0.0,0.0,0.0,0.0,0.0,0.0,0.0,0.0,0.0,0.0,0.0,0.0,0.0,0.0,0.0,0.0,0.0,0.0,0.0,0.0,0.0,0.0,0.0,0.0,0.0,0.0,0.0,0.0,0.0,0.0,0.0,0.0,0.0,0.0,0.0,0.0,0.0,0.0,0.0,0.0,0.0,0.0,0.0,0.0,0.0,0.0,0.0,0.0,0.0,0.0,0.0,0.0,0.0,0.0,0.0,0.0,0.0,0.0,0.0,0.0,0.0,0.0,0.0,0.0,0.0,0.0,0.0,0.0,0.0,0.0,0.0,0.0,0.0,0.0,0.0,0.0,0.0,0.0,0.0,0.0,0.0,0.0],\"type\":\"scatter\",\"xaxis\":\"x3\",\"yaxis\":\"y3\"},{\"line\":{\"color\":\"LightSkyBlue\",\"width\":2},\"mode\":\"lines\",\"name\":\"Real\",\"y\":[0.0,0.0,0.0,0.0,0.0,0.0,0.0,0.0,0.0,0.0,0.0,0.0,0.0,0.0,0.0,0.0,0.0,0.0,0.0,0.0,0.0,0.0,0.0,0.0,0.0,0.0,0.0,0.0,39.096874,137.6125,368.9,355.75,676.0,2012.2,1675.2,1081.0,895.375,670.4,547.05,617.7,841.8,920.6,710.8,671.5,843.4,1227.4,3418.8,4432.0,5407.2,6886.4,7077.6,7076.0,6933.6,7160.0,5947.0,6636.0,6214.8,6843.2,5360.0,4883.2,3775.6,2973.2,1543.2,2065.8,1868.2,1139.8,1282.5,879.7,547.55,646.5,417.8,396.59375,178.7875,405.2,666.3,718.2,704.0,589.3,517.15,377.6,230.75,193.575,212.325,340.35,379.95,145.025,171.7,72.45937,2.4484375,0.0,0.0,0.0,0.0,0.0,0.0,0.0,0.0,0.0,0.0,0.0,0.0,0.0,0.0,0.0,0.0,0.0,0.0,0.0,0.0,0.0,0.0,0.0,0.0,0.0,0.0,0.0,0.0,0.0,0.0,0.0,0.0,0.0,0.0,0.0,0.0,0.0,0.0,0.0,0.0,0.0,0.0,0.0,0.0,0.0,0.0,0.0,0.0,0.0,0.0,0.0,0.0,0.0,0.0,0.0],\"type\":\"scatter\",\"xaxis\":\"x4\",\"yaxis\":\"y4\"},{\"line\":{\"color\":\"red\",\"width\":2},\"mode\":\"lines\",\"name\":\"Forecasts\",\"y\":[0.0,0.0,0.0,0.0,0.0,0.0,0.0,0.0,0.0,0.0,0.0,0.0,0.0,0.0,0.0,0.0,0.0,0.0,0.0,0.0,0.0,0.0,0.0,0.0,0.0,0.0,0.0,0.0,39.096874,137.6125,368.9,355.75,676.0,2012.2,1675.2,1081.0,895.375,670.4,547.05,617.7,841.8,920.6,710.8,671.5,843.4,1227.4,3418.8,4432.0,5407.2,6886.4,7077.6,7076.0,6933.6,7160.0,5947.0,6636.0,6214.8,6843.2,5360.0,4883.2,3775.6,2973.2,1543.2,2065.8,1868.2,1139.8,1282.5,879.7,547.55,646.5,417.8,396.59375,347.9581604003906,502.3954162597656,676.1158447265625,890.3238525390625,779.2584228515625,801.3024291992188,706.5983276367188,460.2573547363281,336.4696350097656,312.7179870605469,339.74169921875,405.7859802246094,415.93182373046875,265.7496032714844,279.1660461425781,161.5142059326172,57.561649322509766,6.022937297821045,3.6562535762786865,1.3053311109542847,1.3041437864303589,1.2928427457809448,1.2928427457809448,1.194311261177063,1.194311261177063,1.194311261177063,1.194311261177063,1.194311261177063,1.194311261177063,1.194311261177063,1.194311261177063,1.194311261177063,1.194311261177063,1.194311261177063,1.194311261177063,1.194311261177063,1.194311261177063,1.194311261177063,1.194311261177063,1.194311261177063,1.194311261177063,1.194311261177063,1.194311261177063,1.194311261177063,1.194311261177063,1.194311261177063,1.194311261177063,1.194311261177063,1.194311261177063,1.194311261177063,1.194311261177063,1.194311261177063,1.194311261177063,1.194311261177063,1.194311261177063,1.194311261177063,1.194311261177063,1.194311261177063,1.194311261177063,1.194311261177063,1.194311261177063,1.194311261177063,1.194311261177063,1.194311261177063,1.194311261177063,1.194311261177063,1.194311261177063,1.194311261177063,1.194311261177063,1.194311261177063,1.194311261177063,1.194311261177063],\"type\":\"scatter\",\"xaxis\":\"x4\",\"yaxis\":\"y4\"},{\"line\":{\"width\":1},\"marker\":{\"color\":\"green\",\"size\":1},\"mode\":\"lines\",\"name\":\"GTI\",\"y\":[0.0,0.0,0.0,0.0,0.0,0.0,0.0,0.0,0.0,0.0,0.0,0.0,0.0,0.0,0.0,0.0,0.0,0.0,0.0,0.0,0.0,0.0,0.0,0.0,0.0,0.0,0.0,4.513379,17.260937,38.48125,73.1,89.475,158.1375,313.1,222.4,203.7,161.25,125.6,124.2625,116.9875,171.9,172.45,126.5,150.25,206.6,317.25,494.3,616.05,817.5,898.9,866.3,967.8,1002.6,1004.0,719.5,1003.6,889.8,986.0,794.4,688.2,654.8,455.85,316.25,425.75,302.125,223.725,243.15,169.525,121.2375,119.7625,90.6875,41.18125,51.184376,104.85,145.8375,184.3625,136.35,131.675,110.1875,70.675,53.775,48.075,62.1875,78.95,73.55,33.140625,38.346874,17.271875,4.1625,0.4629883,0.0,0.0,0.0,0.0,0.0,0.0,0.0,0.0,0.0,0.0,0.0,0.0,0.0,0.0,0.0,0.0,0.0,0.0,0.0,0.0,0.0,0.0,0.0,0.0,0.0,0.0,0.0,0.0,0.0,0.0,0.0,0.0,0.0,0.0,0.0,0.0,0.0,0.0,0.0,0.0,0.0,0.0,0.0,0.0,0.0,0.0,0.0,0.0,0.0,0.0,0.0,0.0,0.0,0.0],\"type\":\"scatter\",\"xaxis\":\"x4\",\"yaxis\":\"y4\"},{\"line\":{\"color\":\"LightSkyBlue\",\"width\":2},\"mode\":\"lines\",\"name\":\"Real\",\"y\":[0.0,0.0,0.0,0.0,0.0,0.0,0.0,0.0,0.0,0.0,0.0,0.0,0.0,0.0,0.0,0.0,0.0,0.0,0.0,0.0,0.0,0.0,0.0,0.0,0.0,0.0,0.0,0.0,0.0,0.0,0.0,0.0,0.0,0.0,0.0,0.0,0.0,0.0,0.0,0.0,0.0,0.0,0.0,0.0,0.0,0.0,0.0,0.0,0.0,0.0,0.0,0.0,0.0,0.0,42.896873,394.775,981.7,1516.8,2050.8,2502.5,2898.8,3272.0,3658.0,4025.5,4336.8,4663.2,4960.0,5267.2,5546.4,5811.2,6009.6,6208.0,6390.0,6568.0,6750.4,6892.0,7015.2,7139.2,7275.2,7342.4,7422.4,7452.0,7507.0,7582.4,7622.4,7612.0,7593.6,7560.0,7516.8,7460.8,7313.6,7215.2,7067.2,6925.0,6777.6,6669.6,6464.0,6218.0,6009.6,5760.8,5553.6,5285.6,4977.6,4701.6,4356.8,4003.6,3664.5,3292.0,2935.2,2544.0,2132.8,1691.25,1292.2,826.8,310.25,44.430077,0.78164065,0.0,0.0,0.0,0.0,0.0,0.0,0.0,0.0,0.0,0.0,0.0,0.0,0.0,0.0,0.0,0.0,0.0,0.0,0.0,0.0,0.0,0.0,0.0,0.0,0.0,0.0,0.0],\"type\":\"scatter\",\"xaxis\":\"x5\",\"yaxis\":\"y5\"},{\"line\":{\"color\":\"red\",\"width\":2},\"mode\":\"lines\",\"name\":\"Forecasts\",\"y\":[0.0,0.0,0.0,0.0,0.0,0.0,0.0,0.0,0.0,0.0,0.0,0.0,0.0,0.0,0.0,0.0,0.0,0.0,0.0,0.0,0.0,0.0,0.0,0.0,0.0,0.0,0.0,0.0,0.0,0.0,0.0,0.0,0.0,0.0,0.0,0.0,0.0,0.0,0.0,0.0,0.0,0.0,0.0,0.0,0.0,0.0,0.0,0.0,0.0,0.0,0.0,0.0,0.0,0.0,42.896873,394.775,981.7,1516.8,2050.8,2502.5,2898.8,3272.0,3658.0,4025.5,4336.8,4663.2,4960.0,5267.2,5546.4,5811.2,6009.6,6208.0,6327.51513671875,6478.2197265625,6620.23388671875,6756.61962890625,6905.1162109375,7009.294921875,7155.572265625,7269.826171875,7399.18408203125,7469.4755859375,7479.87841796875,7514.20703125,7527.74462890625,7527.21728515625,7513.7978515625,7513.7978515625,7512.6875,7485.35546875,7376.1376953125,7291.61474609375,7232.84814453125,7093.28076171875,6945.26953125,6764.7529296875,6577.2529296875,6230.78515625,6072.7216796875,5709.8251953125,5572.1455078125,5410.8388671875,5070.1669921875,4873.52587890625,4425.79150390625,4126.81982421875,3817.945068359375,3425.679443359375,2951.651123046875,2599.217041015625,2154.678955078125,1665.6502685546875,1269.5625,860.9390869140625,492.7956237792969,212.02357482910156,60.00588607788086,6.022937297821045,3.6550660133361816,1.2928427457809448,1.2928427457809448,1.194311261177063,1.194311261177063,1.194311261177063,1.194311261177063,1.194311261177063,1.194311261177063,1.194311261177063,1.194311261177063,1.194311261177063,1.194311261177063,1.194311261177063,1.194311261177063,1.194311261177063,1.194311261177063,1.194311261177063,1.194311261177063,1.194311261177063,1.194311261177063,1.194311261177063,1.194311261177063,1.194311261177063,1.194311261177063,1.194311261177063],\"type\":\"scatter\",\"xaxis\":\"x5\",\"yaxis\":\"y5\"},{\"line\":{\"width\":1},\"marker\":{\"color\":\"green\",\"size\":1},\"mode\":\"lines\",\"name\":\"GTI\",\"y\":[0.0,0.0,0.0,0.0,0.0,0.0,0.0,0.0,0.0,0.0,0.0,0.0,0.0,0.0,0.0,0.0,0.0,0.0,0.0,0.0,0.0,0.0,0.0,0.0,0.0,0.0,0.0,0.0,0.0,0.0,0.0,0.0,0.0,0.0,0.0,0.0,0.0,0.0,0.0,0.0,0.0,0.0,0.0,0.0,0.0,0.0,0.0,0.0,0.0,0.0,0.0,0.0,0.0,0.570166,8.739062,20.15,82.9125,135.175,185.05,235.575,286.1,334.15,384.15,432.65,479.7,525.95,571.5,616.6,660.1,699.4,736.6,772.3,805.5,837.7,868.4,893.6,914.5,937.3,956.9,975.2,988.2,998.4,1009.9,1013.5,1015.2,1016.4,1012.2,1008.6,999.3,987.0,961.5,950.9,922.9,903.3,874.6,854.9,820.1,785.0,747.3,707.7,673.1,629.6,585.3,539.8,492.95,442.8,393.25,346.65,298.7,248.975,199.55,151.075,104.35,62.18125,27.76875,6.1585937,0.20703125,0.0,0.0,0.0,0.0,0.0,0.0,0.0,0.0,0.0,0.0,0.0,0.0,0.0,0.0,0.0,0.0,0.0,0.0,0.0,0.0,0.0,0.0,0.0,0.0,0.0,0.0,0.0],\"type\":\"scatter\",\"xaxis\":\"x5\",\"yaxis\":\"y5\"},{\"line\":{\"color\":\"LightSkyBlue\",\"width\":2},\"mode\":\"lines\",\"name\":\"Real\",\"y\":[0.0,0.0,0.0,0.0,0.0,0.0,0.0,0.0,0.0,0.0,0.0,0.0,0.0,0.0,0.0,0.0,0.0,0.0,0.0,0.0,0.0,0.0,0.0,0.0,0.0,0.0,0.0,0.0,0.0,0.0,0.0,0.0,0.0,0.0,0.0,0.0,0.0,0.0,0.0,0.0,0.0,0.0,0.0,0.0,0.0,0.0,0.0,0.0,0.0,0.0,0.0,0.0,0.0,0.0,0.0,0.0,0.0,0.0,0.0,0.0,0.0,0.0,0.0,0.0,0.0,0.0,0.0,0.0,0.0,0.0,0.0,0.0,0.0,0.0,0.0,0.0,0.0,0.0,0.0,0.0,0.0,0.58125,288.725,911.7,1468.0,2026.4,2443.6,2873.6,3274.8,3651.6,3998.8,4323.2,4615.2,4910.0,5216.0,5468.0,5732.8,5939.2,6136.8,6369.6,6534.4,6677.6,6853.6,7000.8,7120.8,7248.0,7307.2,7333.6,7412.0,7434.4,7455.2,7434.4,7424.8,7394.4,7326.4,7264.8,7163.2,7113.6,7000.0,6873.0,6661.0,6568.0,6411.2,6323.0,5979.2,5820.8,5679.2,5392.0,4858.4,4758.4,4418.0,4118.6665,3400.0,3593.6,2470.2,2938.4,1765.0,2190.4,1838.25,820.0,513.25,312.3875,53.729687,0.0],\"type\":\"scatter\",\"xaxis\":\"x6\",\"yaxis\":\"y6\"},{\"line\":{\"color\":\"red\",\"width\":2},\"mode\":\"lines\",\"name\":\"Forecasts\",\"y\":[0.0,0.0,0.0,0.0,0.0,0.0,0.0,0.0,0.0,0.0,0.0,0.0,0.0,0.0,0.0,0.0,0.0,0.0,0.0,0.0,0.0,0.0,0.0,0.0,0.0,0.0,0.0,0.0,0.0,0.0,0.0,0.0,0.0,0.0,0.0,0.0,0.0,0.0,0.0,0.0,0.0,0.0,0.0,0.0,0.0,0.0,0.0,0.0,0.0,0.0,0.0,0.0,0.0,0.0,0.0,0.0,0.0,0.0,0.0,0.0,0.0,0.0,0.0,0.0,0.0,0.0,0.0,0.0,0.0,0.0,0.0,0.0,1.3053311109542847,1.3053311109542847,1.3053311109542847,1.3053311109542847,1.3053311109542847,1.3053311109542847,1.3053311109542847,1.3053311109542847,1.3053311109542847,8.012428283691406,79.3394775390625,217.54904174804688,439.3823547363281,837.1203002929688,1293.7083740234375,1666.01123046875,2088.0302734375,2589.54443359375,2978.517333984375,3431.320556640625,3890.537109375,4258.552734375,4583.4765625,4991.39794921875,5389.91259765625,5767.27001953125,6047.58349609375,6291.18603515625,6450.962890625,6587.84130859375,6728.9130859375,6853.53955078125,6988.740234375,7098.86376953125,7184.4873046875,7250.03564453125,7367.16015625,7417.13671875,7482.28515625,7516.61376953125,7508.07568359375,7475.28271484375,7466.5888671875,7390.88037109375,7339.46630859375,7271.0498046875,7247.1552734375,7168.7783203125,7004.451171875,6841.35986328125,6652.38525390625,6539.97900390625,6223.45654296875,6029.4921875,5810.81982421875,5526.03857421875,5001.60009765625,4828.9853515625,4521.1796875,4268.900390625,4035.546142578125,3732.48291015625,3325.705322265625,2996.712158203125,2439.962158203125,2031.3720703125,1679.1318359375,1302.8865966796875,838.8565063476562,492.9156494140625,220.4527587890625,76.45121002197266],\"type\":\"scatter\",\"xaxis\":\"x6\",\"yaxis\":\"y6\"},{\"line\":{\"width\":1},\"marker\":{\"color\":\"green\",\"size\":1},\"mode\":\"lines\",\"name\":\"GTI\",\"y\":[0.0,0.0,0.0,0.0,0.0,0.0,0.0,0.0,0.0,0.0,0.0,0.0,0.0,0.0,0.0,0.0,0.0,0.0,0.0,0.0,0.0,0.0,0.0,0.0,0.0,0.0,0.0,0.0,0.0,0.0,0.0,0.0,0.0,0.0,0.0,0.0,0.0,0.0,0.0,0.0,0.0,0.0,0.0,0.0,0.0,0.0,0.0,0.0,0.0,0.0,0.0,0.0,0.0,0.0,0.0,0.0,0.0,0.0,0.0,0.0,0.0,0.0,0.0,0.0,0.0,0.0,0.0,0.0,0.0,0.0,0.0,0.0,0.0,0.0,0.0,0.0,0.0,0.0,0.0,0.0,0.0,2.854297,15.11875,68.30937,127.7375,179.225,230.575,283.3,335.15,384.15,430.15,473.9,515.55,560.5,603.1,645.2,685.5,722.5,756.1,792.1,822.5,851.4,878.4,902.5,923.9,943.1,960.1,972.7,983.7,992.3,995.4,996.1,996.5,992.5,986.6,975.9,963.6,950.4,934.4,914.4,886.7,862.7,839.3,800.2,771.0,737.3,711.3,670.1,586.3,595.1,505.7,465.4,424.95,399.6,274.925,308.3,200.975,231.15,170.025,84.375,54.4625,29.84375,7.705859,0.32802734],\"type\":\"scatter\",\"xaxis\":\"x6\",\"yaxis\":\"y6\"}],                        {\"template\":{\"data\":{\"histogram2dcontour\":[{\"type\":\"histogram2dcontour\",\"colorbar\":{\"outlinewidth\":0,\"ticks\":\"\"},\"colorscale\":[[0.0,\"#0d0887\"],[0.1111111111111111,\"#46039f\"],[0.2222222222222222,\"#7201a8\"],[0.3333333333333333,\"#9c179e\"],[0.4444444444444444,\"#bd3786\"],[0.5555555555555556,\"#d8576b\"],[0.6666666666666666,\"#ed7953\"],[0.7777777777777778,\"#fb9f3a\"],[0.8888888888888888,\"#fdca26\"],[1.0,\"#f0f921\"]]}],\"choropleth\":[{\"type\":\"choropleth\",\"colorbar\":{\"outlinewidth\":0,\"ticks\":\"\"}}],\"histogram2d\":[{\"type\":\"histogram2d\",\"colorbar\":{\"outlinewidth\":0,\"ticks\":\"\"},\"colorscale\":[[0.0,\"#0d0887\"],[0.1111111111111111,\"#46039f\"],[0.2222222222222222,\"#7201a8\"],[0.3333333333333333,\"#9c179e\"],[0.4444444444444444,\"#bd3786\"],[0.5555555555555556,\"#d8576b\"],[0.6666666666666666,\"#ed7953\"],[0.7777777777777778,\"#fb9f3a\"],[0.8888888888888888,\"#fdca26\"],[1.0,\"#f0f921\"]]}],\"heatmap\":[{\"type\":\"heatmap\",\"colorbar\":{\"outlinewidth\":0,\"ticks\":\"\"},\"colorscale\":[[0.0,\"#0d0887\"],[0.1111111111111111,\"#46039f\"],[0.2222222222222222,\"#7201a8\"],[0.3333333333333333,\"#9c179e\"],[0.4444444444444444,\"#bd3786\"],[0.5555555555555556,\"#d8576b\"],[0.6666666666666666,\"#ed7953\"],[0.7777777777777778,\"#fb9f3a\"],[0.8888888888888888,\"#fdca26\"],[1.0,\"#f0f921\"]]}],\"heatmapgl\":[{\"type\":\"heatmapgl\",\"colorbar\":{\"outlinewidth\":0,\"ticks\":\"\"},\"colorscale\":[[0.0,\"#0d0887\"],[0.1111111111111111,\"#46039f\"],[0.2222222222222222,\"#7201a8\"],[0.3333333333333333,\"#9c179e\"],[0.4444444444444444,\"#bd3786\"],[0.5555555555555556,\"#d8576b\"],[0.6666666666666666,\"#ed7953\"],[0.7777777777777778,\"#fb9f3a\"],[0.8888888888888888,\"#fdca26\"],[1.0,\"#f0f921\"]]}],\"contourcarpet\":[{\"type\":\"contourcarpet\",\"colorbar\":{\"outlinewidth\":0,\"ticks\":\"\"}}],\"contour\":[{\"type\":\"contour\",\"colorbar\":{\"outlinewidth\":0,\"ticks\":\"\"},\"colorscale\":[[0.0,\"#0d0887\"],[0.1111111111111111,\"#46039f\"],[0.2222222222222222,\"#7201a8\"],[0.3333333333333333,\"#9c179e\"],[0.4444444444444444,\"#bd3786\"],[0.5555555555555556,\"#d8576b\"],[0.6666666666666666,\"#ed7953\"],[0.7777777777777778,\"#fb9f3a\"],[0.8888888888888888,\"#fdca26\"],[1.0,\"#f0f921\"]]}],\"surface\":[{\"type\":\"surface\",\"colorbar\":{\"outlinewidth\":0,\"ticks\":\"\"},\"colorscale\":[[0.0,\"#0d0887\"],[0.1111111111111111,\"#46039f\"],[0.2222222222222222,\"#7201a8\"],[0.3333333333333333,\"#9c179e\"],[0.4444444444444444,\"#bd3786\"],[0.5555555555555556,\"#d8576b\"],[0.6666666666666666,\"#ed7953\"],[0.7777777777777778,\"#fb9f3a\"],[0.8888888888888888,\"#fdca26\"],[1.0,\"#f0f921\"]]}],\"mesh3d\":[{\"type\":\"mesh3d\",\"colorbar\":{\"outlinewidth\":0,\"ticks\":\"\"}}],\"scatter\":[{\"fillpattern\":{\"fillmode\":\"overlay\",\"size\":10,\"solidity\":0.2},\"type\":\"scatter\"}],\"parcoords\":[{\"type\":\"parcoords\",\"line\":{\"colorbar\":{\"outlinewidth\":0,\"ticks\":\"\"}}}],\"scatterpolargl\":[{\"type\":\"scatterpolargl\",\"marker\":{\"colorbar\":{\"outlinewidth\":0,\"ticks\":\"\"}}}],\"bar\":[{\"error_x\":{\"color\":\"#2a3f5f\"},\"error_y\":{\"color\":\"#2a3f5f\"},\"marker\":{\"line\":{\"color\":\"#E5ECF6\",\"width\":0.5},\"pattern\":{\"fillmode\":\"overlay\",\"size\":10,\"solidity\":0.2}},\"type\":\"bar\"}],\"scattergeo\":[{\"type\":\"scattergeo\",\"marker\":{\"colorbar\":{\"outlinewidth\":0,\"ticks\":\"\"}}}],\"scatterpolar\":[{\"type\":\"scatterpolar\",\"marker\":{\"colorbar\":{\"outlinewidth\":0,\"ticks\":\"\"}}}],\"histogram\":[{\"marker\":{\"pattern\":{\"fillmode\":\"overlay\",\"size\":10,\"solidity\":0.2}},\"type\":\"histogram\"}],\"scattergl\":[{\"type\":\"scattergl\",\"marker\":{\"colorbar\":{\"outlinewidth\":0,\"ticks\":\"\"}}}],\"scatter3d\":[{\"type\":\"scatter3d\",\"line\":{\"colorbar\":{\"outlinewidth\":0,\"ticks\":\"\"}},\"marker\":{\"colorbar\":{\"outlinewidth\":0,\"ticks\":\"\"}}}],\"scattermapbox\":[{\"type\":\"scattermapbox\",\"marker\":{\"colorbar\":{\"outlinewidth\":0,\"ticks\":\"\"}}}],\"scatterternary\":[{\"type\":\"scatterternary\",\"marker\":{\"colorbar\":{\"outlinewidth\":0,\"ticks\":\"\"}}}],\"scattercarpet\":[{\"type\":\"scattercarpet\",\"marker\":{\"colorbar\":{\"outlinewidth\":0,\"ticks\":\"\"}}}],\"carpet\":[{\"aaxis\":{\"endlinecolor\":\"#2a3f5f\",\"gridcolor\":\"white\",\"linecolor\":\"white\",\"minorgridcolor\":\"white\",\"startlinecolor\":\"#2a3f5f\"},\"baxis\":{\"endlinecolor\":\"#2a3f5f\",\"gridcolor\":\"white\",\"linecolor\":\"white\",\"minorgridcolor\":\"white\",\"startlinecolor\":\"#2a3f5f\"},\"type\":\"carpet\"}],\"table\":[{\"cells\":{\"fill\":{\"color\":\"#EBF0F8\"},\"line\":{\"color\":\"white\"}},\"header\":{\"fill\":{\"color\":\"#C8D4E3\"},\"line\":{\"color\":\"white\"}},\"type\":\"table\"}],\"barpolar\":[{\"marker\":{\"line\":{\"color\":\"#E5ECF6\",\"width\":0.5},\"pattern\":{\"fillmode\":\"overlay\",\"size\":10,\"solidity\":0.2}},\"type\":\"barpolar\"}],\"pie\":[{\"automargin\":true,\"type\":\"pie\"}]},\"layout\":{\"autotypenumbers\":\"strict\",\"colorway\":[\"#636efa\",\"#EF553B\",\"#00cc96\",\"#ab63fa\",\"#FFA15A\",\"#19d3f3\",\"#FF6692\",\"#B6E880\",\"#FF97FF\",\"#FECB52\"],\"font\":{\"color\":\"#2a3f5f\"},\"hovermode\":\"closest\",\"hoverlabel\":{\"align\":\"left\"},\"paper_bgcolor\":\"white\",\"plot_bgcolor\":\"#E5ECF6\",\"polar\":{\"bgcolor\":\"#E5ECF6\",\"angularaxis\":{\"gridcolor\":\"white\",\"linecolor\":\"white\",\"ticks\":\"\"},\"radialaxis\":{\"gridcolor\":\"white\",\"linecolor\":\"white\",\"ticks\":\"\"}},\"ternary\":{\"bgcolor\":\"#E5ECF6\",\"aaxis\":{\"gridcolor\":\"white\",\"linecolor\":\"white\",\"ticks\":\"\"},\"baxis\":{\"gridcolor\":\"white\",\"linecolor\":\"white\",\"ticks\":\"\"},\"caxis\":{\"gridcolor\":\"white\",\"linecolor\":\"white\",\"ticks\":\"\"}},\"coloraxis\":{\"colorbar\":{\"outlinewidth\":0,\"ticks\":\"\"}},\"colorscale\":{\"sequential\":[[0.0,\"#0d0887\"],[0.1111111111111111,\"#46039f\"],[0.2222222222222222,\"#7201a8\"],[0.3333333333333333,\"#9c179e\"],[0.4444444444444444,\"#bd3786\"],[0.5555555555555556,\"#d8576b\"],[0.6666666666666666,\"#ed7953\"],[0.7777777777777778,\"#fb9f3a\"],[0.8888888888888888,\"#fdca26\"],[1.0,\"#f0f921\"]],\"sequentialminus\":[[0.0,\"#0d0887\"],[0.1111111111111111,\"#46039f\"],[0.2222222222222222,\"#7201a8\"],[0.3333333333333333,\"#9c179e\"],[0.4444444444444444,\"#bd3786\"],[0.5555555555555556,\"#d8576b\"],[0.6666666666666666,\"#ed7953\"],[0.7777777777777778,\"#fb9f3a\"],[0.8888888888888888,\"#fdca26\"],[1.0,\"#f0f921\"]],\"diverging\":[[0,\"#8e0152\"],[0.1,\"#c51b7d\"],[0.2,\"#de77ae\"],[0.3,\"#f1b6da\"],[0.4,\"#fde0ef\"],[0.5,\"#f7f7f7\"],[0.6,\"#e6f5d0\"],[0.7,\"#b8e186\"],[0.8,\"#7fbc41\"],[0.9,\"#4d9221\"],[1,\"#276419\"]]},\"xaxis\":{\"gridcolor\":\"white\",\"linecolor\":\"white\",\"ticks\":\"\",\"title\":{\"standoff\":15},\"zerolinecolor\":\"white\",\"automargin\":true,\"zerolinewidth\":2},\"yaxis\":{\"gridcolor\":\"white\",\"linecolor\":\"white\",\"ticks\":\"\",\"title\":{\"standoff\":15},\"zerolinecolor\":\"white\",\"automargin\":true,\"zerolinewidth\":2},\"scene\":{\"xaxis\":{\"backgroundcolor\":\"#E5ECF6\",\"gridcolor\":\"white\",\"linecolor\":\"white\",\"showbackground\":true,\"ticks\":\"\",\"zerolinecolor\":\"white\",\"gridwidth\":2},\"yaxis\":{\"backgroundcolor\":\"#E5ECF6\",\"gridcolor\":\"white\",\"linecolor\":\"white\",\"showbackground\":true,\"ticks\":\"\",\"zerolinecolor\":\"white\",\"gridwidth\":2},\"zaxis\":{\"backgroundcolor\":\"#E5ECF6\",\"gridcolor\":\"white\",\"linecolor\":\"white\",\"showbackground\":true,\"ticks\":\"\",\"zerolinecolor\":\"white\",\"gridwidth\":2}},\"shapedefaults\":{\"line\":{\"color\":\"#2a3f5f\"}},\"annotationdefaults\":{\"arrowcolor\":\"#2a3f5f\",\"arrowhead\":0,\"arrowwidth\":1},\"geo\":{\"bgcolor\":\"white\",\"landcolor\":\"#E5ECF6\",\"subunitcolor\":\"white\",\"showland\":true,\"showlakes\":true,\"lakecolor\":\"white\"},\"title\":{\"x\":0.05},\"mapbox\":{\"style\":\"light\"}}},\"xaxis\":{\"anchor\":\"y\",\"domain\":[0.0,0.45]},\"yaxis\":{\"anchor\":\"x\",\"domain\":[0.7333333333333333,1.0]},\"xaxis2\":{\"anchor\":\"y2\",\"domain\":[0.55,1.0]},\"yaxis2\":{\"anchor\":\"x2\",\"domain\":[0.7333333333333333,1.0],\"matches\":\"y\",\"showticklabels\":false},\"xaxis3\":{\"anchor\":\"y3\",\"domain\":[0.0,0.45]},\"yaxis3\":{\"anchor\":\"x3\",\"domain\":[0.36666666666666664,0.6333333333333333]},\"xaxis4\":{\"anchor\":\"y4\",\"domain\":[0.55,1.0]},\"yaxis4\":{\"anchor\":\"x4\",\"domain\":[0.36666666666666664,0.6333333333333333],\"matches\":\"y3\",\"showticklabels\":false},\"xaxis5\":{\"anchor\":\"y5\",\"domain\":[0.0,0.45]},\"yaxis5\":{\"anchor\":\"x5\",\"domain\":[0.0,0.26666666666666666]},\"xaxis6\":{\"anchor\":\"y6\",\"domain\":[0.55,1.0]},\"yaxis6\":{\"anchor\":\"x6\",\"domain\":[0.0,0.26666666666666666],\"matches\":\"y5\",\"showticklabels\":false},\"title\":{\"text\":\"Frocasts on test samples\"},\"height\":700,\"width\":1100,\"showlegend\":false},                        {\"responsive\": true}                    ).then(function(){\n",
       "                            \n",
       "var gd = document.getElementById('46d70c6d-58ee-46f8-beef-264ed6ef9a8c');\n",
       "var x = new MutationObserver(function (mutations, observer) {{\n",
       "        var display = window.getComputedStyle(gd).display;\n",
       "        if (!display || display === 'none') {{\n",
       "            console.log([gd, 'removed!']);\n",
       "            Plotly.purge(gd);\n",
       "            observer.disconnect();\n",
       "        }}\n",
       "}});\n",
       "\n",
       "// Listen for the removal of the full notebook cells\n",
       "var notebookContainer = gd.closest('#notebook-container');\n",
       "if (notebookContainer) {{\n",
       "    x.observe(notebookContainer, {childList: true});\n",
       "}}\n",
       "\n",
       "// Listen for the clearing of the current output cell\n",
       "var outputEl = gd.closest('.output');\n",
       "if (outputEl) {{\n",
       "    x.observe(outputEl, {childList: true});\n",
       "}}\n",
       "\n",
       "                        })                };                });            </script>        </div>"
      ]
     },
     "metadata": {},
     "output_type": "display_data"
    }
   ],
   "source": [
    "fig = make_subplots(rows=3, cols=2, shared_yaxes=True)\n",
    "k = 15  # change k for other samples\n",
    "\n",
    "for i in range(6):\n",
    "    X_meteo = X_test[(i+k)*lag_order+i*k*3:(i+1+k)*lag_order+i*k*3, :6]\n",
    "    X_p_dc = X_test[(i+k)*lag_order+i*k*3, 6:]\n",
    "    y_true = y_test[(i+k)*lag_order+i*k*3:(i+1+k)*lag_order+i*k*3]\n",
    "    \n",
    "    forecasts = multi_step_forecast(xgb_model, X_meteo, X_p_dc, lag_order)\n",
    "\n",
    "    X_p_dc = np.flip(X_p_dc)\n",
    "    \n",
    "    fig.add_trace(go.Scatter(y=np.hstack((X_p_dc, y_true)),\n",
    "                    mode='lines', line=dict(color='LightSkyBlue', width=2), name='Real'), row=1+i//2, col=1+i%2)\n",
    "    fig.add_trace(go.Scatter(y=np.hstack((X_p_dc, forecasts)),\n",
    "                    mode='lines', line=dict(color='red', width=2), name='Forecasts'), row=1+i//2, col=1+i%2)\n",
    "    fig.add_trace(go.Scatter(y=X_test[(i+k-1)*lag_order+i*k*3:(i+1+k)*lag_order+i*k*3, 0],\n",
    "                    mode='lines', marker=dict(color='green', size=1), line=dict(width=1), name='GTI'), row=1+i//2, col=1+i%2)\n",
    "\n",
    "fig.update_layout(height=700, width=1100, showlegend=False,\n",
    "                  title_text=\"Frocasts on test samples\")\n",
    "fig.show()"
   ]
  },
  {
   "cell_type": "code",
   "execution_count": 264,
   "id": "37d44168-0953-4e8c-97c2-2d24a994ed7c",
   "metadata": {},
   "outputs": [
    {
     "data": {
      "text/plain": [
       "GTI               0\n",
       "GHI               0\n",
       "DNI               0\n",
       "DHI               0\n",
       "Air_Temp          0\n",
       "RH                0\n",
       "Pressure          0\n",
       "Wind_speed        0\n",
       "Wind_dir          0\n",
       "Wind_gust         0\n",
       "Rain              0\n",
       "P_DC            665\n",
       "Imputation    48625\n",
       "dtype: int64"
      ]
     },
     "execution_count": 264,
     "metadata": {},
     "output_type": "execute_result"
    }
   ],
   "source": [
    "df.isna().sum()"
   ]
  },
  {
   "cell_type": "markdown",
   "id": "ee61b90d-bf48-4c32-b48e-a0725f8205bd",
   "metadata": {},
   "source": [
    "## Filling gaps in the original data\n",
    "![green-divider](https://user-images.githubusercontent.com/7065401/52071924-c003ad80-2562-11e9-8297-1c6595f8a7ff.png)"
   ]
  },
  {
   "cell_type": "code",
   "execution_count": 266,
   "id": "71216a47-94ab-4561-ae73-5956c834954c",
   "metadata": {},
   "outputs": [
    {
     "name": "stdout",
     "output_type": "stream",
     "text": [
      "18 remaining gaps\n",
      "Longest remaining gap 13h\n"
     ]
    }
   ],
   "source": [
    "# Extract existing gaps\n",
    "gaps = find_gaps(df.P_DC)\n",
    "print('%d remaining gaps' % len(gaps))\n",
    "gaps_len = [(gap[1] - gap[0]).seconds // 60 // 10 // 6 for gap in gaps]\n",
    "print('Longest remaining gap %dh' % max(gaps_len))"
   ]
  },
  {
   "cell_type": "code",
   "execution_count": 268,
   "id": "c801a353-3537-4b40-9121-6bfeb6c33a76",
   "metadata": {},
   "outputs": [],
   "source": [
    "df_imputed = df.copy(deep=True)\n",
    "df_imputed['P_DC_XGB'] = df_imputed['P_DC'].copy(deep=True)\n",
    "df_imputed['Imputation_XGB'] = df_imputed['Imputation'].copy(deep=True)"
   ]
  },
  {
   "cell_type": "code",
   "execution_count": 269,
   "id": "bb1862ae-0a73-4b26-9bbd-7e932693b35d",
   "metadata": {},
   "outputs": [],
   "source": [
    "# Impute remaining gaps\n",
    "for gap in gaps:\n",
    "    # Extract the meteo data that corresponds to the 'gap' time range\n",
    "    meteo_values = df_imputed[['GTI', 'GHI', 'DNI', 'DHI', 'Air_Temp', 'RH']][gap[0]:gap[1]].values\n",
    "    # Extract the power lagged values for the window before the start of the current 'gap'\n",
    "    lagged_values = df_imputed.loc[df_imputed.index < gap[0], 'P_DC_XGB'].tail(lag_order).values\n",
    "    forecast_step = meteo_values.shape[0]\n",
    "    # Perform a multi-step forecast\n",
    "    forecasts = multi_step_forecast(xgb_model, meteo_values, lagged_values, forecast_step)\n",
    "    df_imputed.loc[gap[0]:gap[1], 'P_DC_XGB'] = forecasts\n",
    "    df_imputed.loc[gap[0]:gap[1], 'Imputation_XGB'] = 2."
   ]
  },
  {
   "cell_type": "code",
   "execution_count": 270,
   "id": "66f583d5-0242-4c55-a743-d8d02e8fc8ec",
   "metadata": {},
   "outputs": [
    {
     "data": {
      "text/plain": [
       "GTI                   0\n",
       "GHI                   0\n",
       "DNI                   0\n",
       "DHI                   0\n",
       "Air_Temp              0\n",
       "RH                    0\n",
       "Pressure              0\n",
       "Wind_speed            0\n",
       "Wind_dir              0\n",
       "Wind_gust             0\n",
       "Rain                  0\n",
       "P_DC                665\n",
       "Imputation        48625\n",
       "P_DC_XGB              0\n",
       "Imputation_XGB    47960\n",
       "dtype: int64"
      ]
     },
     "execution_count": 270,
     "metadata": {},
     "output_type": "execute_result"
    }
   ],
   "source": [
    "df_imputed.isna().sum()"
   ]
  },
  {
   "cell_type": "code",
   "execution_count": 274,
   "id": "d4f84f16-f271-40b9-b28b-6a0e63f51ae3",
   "metadata": {},
   "outputs": [
    {
     "data": {
      "text/plain": [
       "Imputation_XGB\n",
       "0.0    3802\n",
       "1.0     133\n",
       "2.0     665\n",
       "Name: count, dtype: int64"
      ]
     },
     "execution_count": 274,
     "metadata": {},
     "output_type": "execute_result"
    }
   ],
   "source": [
    "# Number of imputed values by method:  0: Night values, 1: linear interpolation, 2: XGB Regressor\n",
    "df_imputed.Imputation_XGB.value_counts().sort_index()"
   ]
  },
  {
   "cell_type": "code",
   "execution_count": 101,
   "id": "485328ef-f7ab-477c-9671-9fab4f631d79",
   "metadata": {},
   "outputs": [],
   "source": [
    "# Save imputed data\n",
    "df_imputed.to_csv('../saves/df_meteo_p_dc_imputed_xgb.csv')"
   ]
  },
  {
   "cell_type": "markdown",
   "id": "1f672958-d1a9-426a-b98e-caeebf45926e",
   "metadata": {},
   "source": [
    "## Visualization of the results\n",
    "![green-divider](https://user-images.githubusercontent.com/7065401/52071924-c003ad80-2562-11e9-8297-1c6595f8a7ff.png)"
   ]
  },
  {
   "cell_type": "code",
   "execution_count": 275,
   "id": "813d971f-1631-4f6c-9b03-b42dfd518698",
   "metadata": {},
   "outputs": [
    {
     "data": {
      "text/html": [
       "<div>\n",
       "<style scoped>\n",
       "    .dataframe tbody tr th:only-of-type {\n",
       "        vertical-align: middle;\n",
       "    }\n",
       "\n",
       "    .dataframe tbody tr th {\n",
       "        vertical-align: top;\n",
       "    }\n",
       "\n",
       "    .dataframe thead th {\n",
       "        text-align: right;\n",
       "    }\n",
       "</style>\n",
       "<table border=\"1\" class=\"dataframe\">\n",
       "  <thead>\n",
       "    <tr style=\"text-align: right;\">\n",
       "      <th></th>\n",
       "      <th>GTI</th>\n",
       "      <th>GHI</th>\n",
       "      <th>DNI</th>\n",
       "      <th>DHI</th>\n",
       "      <th>Air_Temp</th>\n",
       "      <th>RH</th>\n",
       "      <th>Pressure</th>\n",
       "      <th>Wind_speed</th>\n",
       "      <th>Wind_dir</th>\n",
       "      <th>Wind_gust</th>\n",
       "      <th>Rain</th>\n",
       "      <th>P_DC</th>\n",
       "      <th>Imputation</th>\n",
       "      <th>P_DC_XGB</th>\n",
       "      <th>Imputation_XGB</th>\n",
       "    </tr>\n",
       "    <tr>\n",
       "      <th>Time</th>\n",
       "      <th></th>\n",
       "      <th></th>\n",
       "      <th></th>\n",
       "      <th></th>\n",
       "      <th></th>\n",
       "      <th></th>\n",
       "      <th></th>\n",
       "      <th></th>\n",
       "      <th></th>\n",
       "      <th></th>\n",
       "      <th></th>\n",
       "      <th></th>\n",
       "      <th></th>\n",
       "      <th></th>\n",
       "      <th></th>\n",
       "    </tr>\n",
       "  </thead>\n",
       "  <tbody>\n",
       "    <tr>\n",
       "      <th>2022-01-01 00:00:00</th>\n",
       "      <td>0.0</td>\n",
       "      <td>0.0</td>\n",
       "      <td>0.0</td>\n",
       "      <td>0.0</td>\n",
       "      <td>10.170313</td>\n",
       "      <td>77.0750</td>\n",
       "      <td>969.5</td>\n",
       "      <td>0.0</td>\n",
       "      <td>0.0</td>\n",
       "      <td>0.0</td>\n",
       "      <td>0.0</td>\n",
       "      <td>0.0</td>\n",
       "      <td>NaN</td>\n",
       "      <td>0.0</td>\n",
       "      <td>NaN</td>\n",
       "    </tr>\n",
       "    <tr>\n",
       "      <th>2022-01-01 00:10:00</th>\n",
       "      <td>0.0</td>\n",
       "      <td>0.0</td>\n",
       "      <td>0.0</td>\n",
       "      <td>0.0</td>\n",
       "      <td>10.050000</td>\n",
       "      <td>78.3500</td>\n",
       "      <td>969.5</td>\n",
       "      <td>0.0</td>\n",
       "      <td>0.0</td>\n",
       "      <td>0.0</td>\n",
       "      <td>0.0</td>\n",
       "      <td>0.0</td>\n",
       "      <td>NaN</td>\n",
       "      <td>0.0</td>\n",
       "      <td>NaN</td>\n",
       "    </tr>\n",
       "    <tr>\n",
       "      <th>2022-01-01 00:20:00</th>\n",
       "      <td>0.0</td>\n",
       "      <td>0.0</td>\n",
       "      <td>0.0</td>\n",
       "      <td>0.0</td>\n",
       "      <td>9.731250</td>\n",
       "      <td>79.0375</td>\n",
       "      <td>969.5</td>\n",
       "      <td>0.0</td>\n",
       "      <td>0.0</td>\n",
       "      <td>0.0</td>\n",
       "      <td>0.0</td>\n",
       "      <td>0.0</td>\n",
       "      <td>NaN</td>\n",
       "      <td>0.0</td>\n",
       "      <td>NaN</td>\n",
       "    </tr>\n",
       "    <tr>\n",
       "      <th>2022-01-01 00:30:00</th>\n",
       "      <td>0.0</td>\n",
       "      <td>0.0</td>\n",
       "      <td>0.0</td>\n",
       "      <td>0.0</td>\n",
       "      <td>9.560938</td>\n",
       "      <td>80.2750</td>\n",
       "      <td>969.5</td>\n",
       "      <td>0.0</td>\n",
       "      <td>0.0</td>\n",
       "      <td>0.0</td>\n",
       "      <td>0.0</td>\n",
       "      <td>0.0</td>\n",
       "      <td>NaN</td>\n",
       "      <td>0.0</td>\n",
       "      <td>NaN</td>\n",
       "    </tr>\n",
       "    <tr>\n",
       "      <th>2022-01-01 00:40:00</th>\n",
       "      <td>0.0</td>\n",
       "      <td>0.0</td>\n",
       "      <td>0.0</td>\n",
       "      <td>0.0</td>\n",
       "      <td>9.790625</td>\n",
       "      <td>79.6625</td>\n",
       "      <td>969.5</td>\n",
       "      <td>0.0</td>\n",
       "      <td>0.0</td>\n",
       "      <td>0.0</td>\n",
       "      <td>0.0</td>\n",
       "      <td>0.0</td>\n",
       "      <td>NaN</td>\n",
       "      <td>0.0</td>\n",
       "      <td>NaN</td>\n",
       "    </tr>\n",
       "  </tbody>\n",
       "</table>\n",
       "</div>"
      ],
      "text/plain": [
       "                     GTI  GHI  DNI  DHI   Air_Temp       RH  Pressure  \\\n",
       "Time                                                                    \n",
       "2022-01-01 00:00:00  0.0  0.0  0.0  0.0  10.170313  77.0750     969.5   \n",
       "2022-01-01 00:10:00  0.0  0.0  0.0  0.0  10.050000  78.3500     969.5   \n",
       "2022-01-01 00:20:00  0.0  0.0  0.0  0.0   9.731250  79.0375     969.5   \n",
       "2022-01-01 00:30:00  0.0  0.0  0.0  0.0   9.560938  80.2750     969.5   \n",
       "2022-01-01 00:40:00  0.0  0.0  0.0  0.0   9.790625  79.6625     969.5   \n",
       "\n",
       "                     Wind_speed  Wind_dir  Wind_gust  Rain  P_DC  Imputation  \\\n",
       "Time                                                                           \n",
       "2022-01-01 00:00:00         0.0       0.0        0.0   0.0   0.0         NaN   \n",
       "2022-01-01 00:10:00         0.0       0.0        0.0   0.0   0.0         NaN   \n",
       "2022-01-01 00:20:00         0.0       0.0        0.0   0.0   0.0         NaN   \n",
       "2022-01-01 00:30:00         0.0       0.0        0.0   0.0   0.0         NaN   \n",
       "2022-01-01 00:40:00         0.0       0.0        0.0   0.0   0.0         NaN   \n",
       "\n",
       "                     P_DC_XGB  Imputation_XGB  \n",
       "Time                                           \n",
       "2022-01-01 00:00:00       0.0             NaN  \n",
       "2022-01-01 00:10:00       0.0             NaN  \n",
       "2022-01-01 00:20:00       0.0             NaN  \n",
       "2022-01-01 00:30:00       0.0             NaN  \n",
       "2022-01-01 00:40:00       0.0             NaN  "
      ]
     },
     "execution_count": 275,
     "metadata": {},
     "output_type": "execute_result"
    }
   ],
   "source": [
    "df_imputed_xgb = pd.read_csv('../saves/df_meteo_p_dc_imputed_xgb.csv')\n",
    "df_imputed_xgb['Time'] = pd.to_datetime(df_imputed_xgb['Time'], format='%Y-%m-%d %H:%M:%S')\n",
    "df_imputed_xgb.set_index('Time', inplace=True)\n",
    "df_imputed_xgb.head()"
   ]
  },
  {
   "cell_type": "code",
   "execution_count": 285,
   "id": "0281a9a6-d564-4bb3-a33f-6f0598d46d84",
   "metadata": {},
   "outputs": [
    {
     "data": {
      "application/vnd.plotly.v1+json": {
       "config": {
        "plotlyServerURL": "https://plot.ly"
       },
       "data": [
        {
         "line": {
          "width": 1
         },
         "marker": {
          "color": "green",
          "size": 2
         },
         "mode": "lines",
         "type": "scatter",
         "xaxis": "x",
         "y": [
          414.5,
          284.825,
          370.55,
          546.1,
          556.3,
          594.7,
          615.4,
          654.9,
          711.7,
          730.8,
          751.8,
          775.5,
          782,
          807.6,
          960.2,
          941.8,
          383.35,
          844.1,
          1023.4,
          843,
          803.9,
          1077.6,
          1075.6,
          1120.6,
          438.85,
          509.25,
          491.7,
          777.9,
          920.9,
          1048.4,
          997.9,
          411.625,
          302.325,
          959.3,
          936.8,
          929.5,
          918.7,
          898,
          877.6,
          857.9,
          846.3,
          828.7,
          806.1,
          782.2,
          753.8,
          734.4,
          707.5,
          688.2,
          657,
          521,
          606,
          542.6,
          139.2625,
          348.225,
          454.85,
          428.15,
          380.15,
          342.65,
          310.85,
          277.25,
          234.05,
          203.95,
          167.35,
          133.7625,
          108.1625,
          81.625,
          57.64375,
          36.86875,
          19.765625,
          7.6132812,
          0.9750183,
          0,
          0,
          0,
          0,
          0,
          0,
          0,
          0,
          0,
          0,
          0,
          0,
          0,
          0,
          0,
          0,
          0,
          0,
          0,
          0,
          0,
          0,
          0,
          0,
          0,
          0,
          0,
          0,
          0,
          0,
          0,
          0,
          0,
          0,
          0,
          0,
          0,
          0,
          0,
          0,
          0,
          0,
          0,
          0,
          0,
          0,
          0,
          0,
          0,
          0,
          0,
          0,
          0,
          0,
          0,
          0,
          0,
          0,
          0,
          0.3840576,
          3.9169922,
          12.879687
         ],
         "yaxis": "y"
        },
        {
         "marker": {
          "color": "red"
         },
         "mode": "lines",
         "type": "scatter",
         "xaxis": "x",
         "y": [
          2428.8,
          2876.4,
          2085,
          2144,
          3393.6,
          3769.6,
          4088,
          4324.8,
          4671.2,
          5103.2,
          5296.8,
          5363.2,
          5601.6,
          5312,
          6111.2,
          7087.2,
          7268.8,
          3380.4,
          4223.2,
          7496.8,
          5806.8,
          6593.6,
          7790.4,
          7064,
          7742.4,
          3351.2,
          6568.8,
          6983.2,
          5336.4,
          6901.2,
          7735.2,
          6709.6,
          2703.4,
          2776.2,
          7269.6,
          6849.6,
          6798.4,
          6642.4,
          6496.8,
          6372,
          6156,
          6003.2,
          5848.8,
          5660,
          5489.6,
          5236,
          5088,
          4880.8,
          4684.8,
          4331.2,
          3909.2,
          3859.6,
          3442,
          790,
          750.5,
          711,
          671.5,
          632,
          592.5,
          553,
          95.71306610107422,
          101.19702911376953,
          105.3694076538086,
          107.23943328857422,
          112.40807342529297,
          117.05022430419922,
          116.18595123291016,
          117.90569305419922,
          91.56153106689453,
          39.241756439208984,
          3.70226788520813,
          1.194311261177063,
          1.194311261177063,
          0,
          0,
          0,
          0,
          0,
          0,
          0,
          0,
          0,
          0,
          0,
          0,
          0,
          0,
          0,
          0,
          0,
          0,
          0,
          0,
          0,
          0,
          0,
          0,
          0,
          0,
          0,
          0,
          0,
          0,
          0,
          0,
          0,
          0,
          0,
          0,
          0,
          0,
          0,
          0,
          0,
          0,
          0,
          0,
          0,
          0,
          0,
          0,
          0,
          0,
          0,
          0,
          0,
          0,
          0,
          0,
          0,
          0,
          0,
          0
         ],
         "yaxis": "y"
        },
        {
         "marker": {
          "color": "LightSkyBlue"
         },
         "mode": "lines",
         "type": "scatter",
         "xaxis": "x",
         "y": [
          2428.8,
          2876.4,
          2085,
          2144,
          3393.6,
          3769.6,
          4088,
          4324.8,
          4671.2,
          5103.2,
          5296.8,
          5363.2,
          5601.6,
          5312,
          6111.2,
          7087.2,
          7268.8,
          3380.4,
          4223.2,
          7496.8,
          5806.8,
          6593.6,
          7790.4,
          7064,
          7742.4,
          3351.2,
          6568.8,
          6983.2,
          5336.4,
          6901.2,
          7735.2,
          6709.6,
          2703.4,
          2776.2,
          7269.6,
          6849.6,
          6798.4,
          6642.4,
          6496.8,
          6372,
          6156,
          6003.2,
          5848.8,
          5660,
          5489.6,
          5236,
          5088,
          4880.8,
          4684.8,
          4331.2,
          3909.2,
          3859.6,
          3442,
          790,
          750.5,
          711,
          671.5,
          632,
          592.5,
          553,
          null,
          null,
          null,
          null,
          null,
          null,
          null,
          null,
          null,
          null,
          null,
          null,
          null,
          0,
          0,
          0,
          0,
          0,
          0,
          0,
          0,
          0,
          0,
          0,
          0,
          0,
          0,
          0,
          0,
          0,
          0,
          0,
          0,
          0,
          0,
          0,
          0,
          0,
          0,
          0,
          0,
          0,
          0,
          0,
          0,
          0,
          0,
          0,
          0,
          0,
          0,
          0,
          0,
          0,
          0,
          0,
          0,
          0,
          0,
          0,
          0,
          0,
          0,
          0,
          0,
          0,
          0,
          0,
          0,
          0,
          0,
          0,
          0
         ],
         "yaxis": "y"
        },
        {
         "line": {
          "width": 1
         },
         "marker": {
          "color": "green",
          "size": 2
         },
         "mode": "lines",
         "type": "scatter",
         "xaxis": "x2",
         "y": [
          0,
          0,
          0,
          0,
          0,
          0,
          0,
          0,
          0,
          0,
          0,
          0,
          0,
          0,
          0,
          0,
          0,
          0,
          0,
          0,
          0,
          0,
          0,
          0,
          0,
          0,
          0,
          0,
          0,
          0,
          0,
          0,
          0.84584963,
          8.188281,
          16.06875,
          25.728125,
          35.3875,
          45.89375,
          62.79375,
          87.95,
          123.0375,
          154.375,
          176.95,
          184.9,
          218.425,
          230.65,
          250.275,
          292.9,
          270.075,
          339.75,
          400.15,
          367.7,
          443.7,
          504.4,
          452.15,
          432.9,
          410.95,
          364,
          421.75,
          387.45,
          419.2,
          475,
          459.65,
          365.1,
          396.55,
          377.9,
          248.85,
          214.675,
          220.875,
          239.55,
          244.575,
          235.225,
          210.425,
          188.175,
          170.325,
          157.5,
          145,
          142.425,
          134.3875,
          111.65,
          116.1625,
          131.5625,
          146.7,
          176.875,
          180.15,
          175.15,
          180.5,
          175.45,
          138.15,
          142.5,
          155.975,
          156.475,
          160.3,
          169.4,
          184.375,
          268.5,
          260.8,
          359.85,
          204.9,
          216.5,
          355.55,
          296.05,
          242.85,
          221.175,
          125.625,
          185.475,
          216.675,
          199.6,
          106.4375,
          60.73125,
          40.28125,
          49.3125,
          42.21875,
          30.084375,
          5.7041016,
          0,
          0,
          0,
          0,
          0,
          0.8539063,
          1.5986328,
          3.6152344,
          1.4488281,
          0.20395508,
          0.32407227,
          0,
          0,
          0,
          0,
          0,
          0,
          0,
          0,
          0,
          0,
          0,
          0,
          0,
          0,
          0,
          0,
          0,
          0,
          0,
          0,
          0,
          0,
          0,
          0,
          0,
          0,
          0,
          0,
          0,
          0,
          0,
          0,
          0,
          0,
          0,
          0,
          0,
          0,
          0,
          0,
          0,
          0,
          0,
          0,
          0,
          0,
          0,
          0,
          0,
          0,
          0,
          1.410791,
          3.2871094
         ],
         "yaxis": "y2"
        },
        {
         "marker": {
          "color": "red"
         },
         "mode": "lines",
         "type": "scatter",
         "xaxis": "x2",
         "y": [
          0,
          0,
          0,
          0,
          0,
          0,
          0,
          0,
          0,
          0,
          0,
          0,
          0,
          0,
          0,
          0,
          0,
          0,
          0,
          0,
          0,
          0,
          0,
          0,
          0,
          0,
          0,
          0,
          0,
          0,
          0,
          0,
          0,
          0.41914064,
          10.11875,
          110.25,
          161.475,
          205.45,
          270.1,
          383.1,
          548.65,
          778.4,
          988.5,
          1124.2,
          1200,
          1428,
          1517.6,
          1686.2,
          2034.6,
          1922.6,
          2082.8,
          2749.6,
          2534.4,
          3040.8,
          2994.7273,
          2948.6545,
          2902.5818,
          2856.509,
          2810.4365,
          2764.3638,
          299.0261535644531,
          737.928955078125,
          1273.2314453125,
          1655.560546875,
          1903.963134765625,
          1991.4547119140625,
          1848.4384765625,
          1567.2001953125,
          1426.36865234375,
          1358.8480224609375,
          1307.5816650390625,
          1288.81982421875,
          1245.3807373046875,
          1170.595458984375,
          1083.6507568359375,
          941.2086791992188,
          881.33203125,
          847.6959838867188,
          779.8824462890625,
          652.9899291992188,
          634.4915161132812,
          677.5911254882812,
          794.02734375,
          922.4334106445312,
          1082.65966796875,
          1025.444580078125,
          1139.0792236328125,
          1062.3079833984375,
          886.8748779296875,
          884.8485717773438,
          940.8297119140625,
          950.460205078125,
          968.1732788085938,
          1020.3870239257812,
          1142.5142822265625,
          1508.248046875,
          1632.093994140625,
          2009.001708984375,
          1564.7557373046875,
          1389.6392822265625,
          1874.699951171875,
          1978.004638671875,
          1761.1505126953125,
          1522.1575927734375,
          1020.111083984375,
          1154.4998779296875,
          1265.106201171875,
          1284.263916015625,
          915.9802856445312,
          598.2301635742188,
          388.1810607910156,
          332.56365966796875,
          294.0690612792969,
          212.2696075439453,
          116.39273834228516,
          45.78395080566406,
          6.022937297821045,
          3.6562535762786865,
          1.3053311109542847,
          0,
          0,
          0,
          0,
          0,
          0,
          0,
          0,
          0,
          0,
          0,
          0,
          0,
          0,
          0,
          0,
          0,
          0,
          0,
          0,
          0,
          0,
          0,
          0,
          0,
          0,
          0,
          0,
          0,
          0,
          0,
          0,
          0,
          0,
          0,
          0,
          0,
          0,
          0,
          0,
          0,
          0,
          0,
          0,
          0,
          0,
          0,
          0,
          0,
          0,
          0,
          0,
          0,
          0,
          0,
          0,
          0,
          0,
          0,
          0
         ],
         "yaxis": "y2"
        },
        {
         "marker": {
          "color": "LightSkyBlue"
         },
         "mode": "lines",
         "type": "scatter",
         "xaxis": "x2",
         "y": [
          0,
          0,
          0,
          0,
          0,
          0,
          0,
          0,
          0,
          0,
          0,
          0,
          0,
          0,
          0,
          0,
          0,
          0,
          0,
          0,
          0,
          0,
          0,
          0,
          0,
          0,
          0,
          0,
          0,
          0,
          0,
          0,
          0,
          0.41914064,
          10.11875,
          110.25,
          161.475,
          205.45,
          270.1,
          383.1,
          548.65,
          778.4,
          988.5,
          1124.2,
          1200,
          1428,
          1517.6,
          1686.2,
          2034.6,
          1922.6,
          2082.8,
          2749.6,
          2534.4,
          3040.8,
          2994.7273,
          2948.6545,
          2902.5818,
          2856.509,
          2810.4365,
          2764.3638,
          null,
          null,
          null,
          null,
          null,
          null,
          null,
          null,
          null,
          null,
          null,
          null,
          null,
          null,
          null,
          null,
          null,
          null,
          null,
          null,
          null,
          null,
          null,
          null,
          null,
          null,
          null,
          null,
          null,
          null,
          null,
          null,
          null,
          null,
          null,
          null,
          null,
          null,
          null,
          null,
          null,
          null,
          null,
          null,
          null,
          null,
          null,
          null,
          null,
          null,
          null,
          null,
          null,
          null,
          null,
          null,
          null,
          null,
          null,
          0,
          0,
          0,
          0,
          0,
          0,
          0,
          0,
          0,
          0,
          0,
          0,
          0,
          0,
          0,
          0,
          0,
          0,
          0,
          0,
          0,
          0,
          0,
          0,
          0,
          0,
          0,
          0,
          0,
          0,
          0,
          0,
          0,
          0,
          0,
          0,
          0,
          0,
          0,
          0,
          0,
          0,
          0,
          0,
          0,
          0,
          0,
          0,
          0,
          0,
          0,
          0,
          0,
          0,
          0,
          0,
          0,
          0,
          0,
          0
         ],
         "yaxis": "y2"
        },
        {
         "line": {
          "width": 1
         },
         "marker": {
          "color": "green",
          "size": 2
         },
         "mode": "lines",
         "type": "scatter",
         "xaxis": "x3",
         "y": [
          367.9,
          449.75,
          469.85,
          571.8,
          531.5,
          619.2,
          607.3,
          677,
          700.5,
          723.1,
          748.9,
          770.5,
          789.1,
          805.6,
          819.7,
          836.6,
          847.5,
          862.4,
          873.7,
          883.7,
          892.9,
          902.9,
          910.4,
          913.3,
          915.7,
          919.5,
          920.7,
          922.3,
          911.5,
          907.1,
          898.4,
          891.8,
          882.8,
          871.6,
          859.9,
          846.1,
          831.4,
          814.3,
          798.4,
          773.5,
          741.9,
          728.2,
          704.7,
          675,
          650.1,
          622.9,
          596,
          564.7,
          535.1,
          503.25,
          470.15,
          438.55,
          404,
          371.55,
          338.6,
          305.4,
          273.85,
          243.675,
          236.025,
          246.075,
          215.55,
          138.4375,
          92.1375,
          60.7375,
          35.190624,
          16.560938,
          5.7347655,
          0.5480469,
          0,
          0,
          0,
          0,
          0,
          0,
          0,
          0,
          0,
          0,
          0,
          0,
          0,
          0,
          0,
          0,
          0,
          0,
          0,
          0,
          0,
          0,
          0,
          0,
          0,
          0,
          0,
          0,
          0,
          0,
          0,
          0,
          0,
          0,
          0,
          0,
          0,
          0,
          0,
          0,
          0,
          0,
          0,
          0,
          0,
          0,
          0,
          0,
          0,
          0,
          0,
          0,
          0,
          0,
          0,
          0,
          0,
          0,
          0,
          0,
          3.0749512,
          17.153126
         ],
         "yaxis": "y3"
        },
        {
         "marker": {
          "color": "red"
         },
         "mode": "lines",
         "type": "scatter",
         "xaxis": "x3",
         "y": [
          2393.8,
          3128,
          2816,
          3367.2,
          3557.2,
          4297.6,
          4384,
          4691.2,
          4910.4,
          5089.6,
          5294.4,
          5447.2,
          5590.4,
          5740.8,
          5839.2,
          5924.8,
          6027.2,
          6138.4,
          6218.4,
          6288,
          6361.6,
          6435.2,
          6481.6,
          6503.2,
          6488,
          6508.8,
          6464.8,
          6547.2,
          6478.4,
          6416.8,
          6376,
          6302.4,
          6236.8,
          6134.4,
          6027.2,
          5881.6,
          5798.4,
          5651.2,
          5537.6,
          5376.8,
          5086.4,
          5004.8,
          4818.4,
          4587.2,
          4360.8,
          4137.2,
          3894.4,
          3641.6,
          3388,
          3111.6,
          2831.2,
          2557.2,
          2279.6,
          2106,
          1982.1177,
          1858.2354,
          1734.3529,
          1610.4706,
          1486.5883,
          1362.7059,
          378.50970458984375,
          381.00946044921875,
          308.5565185546875,
          247.32862854003906,
          208.59437561035156,
          118.59166717529297,
          42.94906997680664,
          6.068953514099121,
          3.545232057571411,
          1.194311261177063,
          0,
          0,
          0,
          0,
          0,
          0,
          0,
          0,
          0,
          0,
          0,
          0,
          0,
          0,
          0,
          0,
          0,
          0,
          0,
          0,
          0,
          0,
          0,
          0,
          0,
          0,
          0,
          0,
          0,
          0,
          0,
          0,
          0,
          0,
          0,
          0,
          0,
          0,
          0,
          0,
          0,
          0,
          0,
          0,
          0,
          0,
          0,
          0,
          0,
          0,
          0,
          0,
          0,
          0,
          0,
          0,
          0,
          0,
          0,
          73.4125
         ],
         "yaxis": "y3"
        },
        {
         "marker": {
          "color": "LightSkyBlue"
         },
         "mode": "lines",
         "type": "scatter",
         "xaxis": "x3",
         "y": [
          2393.8,
          3128,
          2816,
          3367.2,
          3557.2,
          4297.6,
          4384,
          4691.2,
          4910.4,
          5089.6,
          5294.4,
          5447.2,
          5590.4,
          5740.8,
          5839.2,
          5924.8,
          6027.2,
          6138.4,
          6218.4,
          6288,
          6361.6,
          6435.2,
          6481.6,
          6503.2,
          6488,
          6508.8,
          6464.8,
          6547.2,
          6478.4,
          6416.8,
          6376,
          6302.4,
          6236.8,
          6134.4,
          6027.2,
          5881.6,
          5798.4,
          5651.2,
          5537.6,
          5376.8,
          5086.4,
          5004.8,
          4818.4,
          4587.2,
          4360.8,
          4137.2,
          3894.4,
          3641.6,
          3388,
          3111.6,
          2831.2,
          2557.2,
          2279.6,
          2106,
          1982.1177,
          1858.2354,
          1734.3529,
          1610.4706,
          1486.5883,
          1362.7059,
          null,
          null,
          null,
          null,
          null,
          null,
          null,
          null,
          null,
          null,
          0,
          0,
          0,
          0,
          0,
          0,
          0,
          0,
          0,
          0,
          0,
          0,
          0,
          0,
          0,
          0,
          0,
          0,
          0,
          0,
          0,
          0,
          0,
          0,
          0,
          0,
          0,
          0,
          0,
          0,
          0,
          0,
          0,
          0,
          0,
          0,
          0,
          0,
          0,
          0,
          0,
          0,
          0,
          0,
          0,
          0,
          0,
          0,
          0,
          0,
          0,
          0,
          0,
          0,
          0,
          0,
          0,
          0,
          0,
          73.4125
         ],
         "yaxis": "y3"
        },
        {
         "line": {
          "width": 1
         },
         "marker": {
          "color": "green",
          "size": 2
         },
         "mode": "lines",
         "type": "scatter",
         "xaxis": "x4",
         "y": [
          0,
          0,
          0,
          0,
          0,
          0,
          0,
          0,
          0,
          0,
          0.7199219,
          8.031641,
          27.896875,
          56.5,
          90.775,
          127.8625,
          169.45,
          208.3,
          189.175,
          226.125,
          306.5,
          242.75,
          287.95,
          475.8,
          551.8,
          311.275,
          408.5,
          299.725,
          566.75,
          689.6,
          436.725,
          562.075,
          785.9,
          736.8,
          717,
          710.4,
          763.5,
          655.15,
          772.2,
          853.3,
          851.05,
          880.7,
          928.1,
          659.8,
          816.3,
          1088.6,
          1053,
          1005.2,
          970.5,
          583.55,
          344.5,
          506.6,
          679.7,
          893.6,
          819.5,
          668,
          466.15,
          483.5,
          511.2,
          479.8,
          578.55,
          626.3,
          446.6,
          579.05,
          444.9,
          298.7,
          436.75,
          493.85,
          383.75,
          310.1,
          362.5,
          351.6,
          219.4,
          191.95,
          212.825,
          154.05,
          99.45,
          72.475,
          45.41875,
          48.575,
          37.296875,
          30.56875,
          28.703125,
          12.117969,
          3.204492,
          0.42509764,
          0,
          0,
          0,
          0,
          0,
          0,
          0,
          0,
          0,
          0,
          0,
          0,
          0,
          0,
          0,
          0,
          0,
          0,
          0,
          0,
          0,
          0,
          0,
          0,
          0,
          0,
          0,
          0,
          0,
          0,
          0,
          0,
          0,
          0,
          0,
          0,
          0,
          0,
          0,
          0,
          0,
          0,
          0,
          0,
          0,
          0,
          0,
          0,
          0,
          0,
          0,
          0,
          0,
          0,
          0,
          0,
          0,
          0,
          0,
          0,
          0,
          0,
          0,
          0,
          0,
          0,
          0
         ],
         "yaxis": "y4"
        },
        {
         "marker": {
          "color": "red"
         },
         "mode": "lines",
         "type": "scatter",
         "xaxis": "x4",
         "y": [
          0,
          0,
          0,
          0,
          0,
          0,
          0,
          0,
          0,
          0,
          0,
          11.75625,
          163.1125,
          314.95,
          507.1,
          716.7,
          979.6,
          1247.8,
          1161,
          1425.8,
          2015.6,
          1767.4,
          1842.4,
          3254.4,
          4005.2,
          1973.2,
          3160,
          1766.8,
          4055.6,
          5087.2,
          3320,
          3434.4,
          5756.8,
          4941.2,
          5162.8,
          5264,
          4878.8,
          5047.2,
          5158.4,
          6007.2,
          6545.6,
          5396.4,
          6381.6,
          4903.6,
          5781.2,
          7758.4,
          7586.4,
          7111.2,
          7264,
          4848,
          2415.2,
          3525.2,
          4735.2,
          3850,
          3753.75,
          3657.5,
          3561.25,
          3465,
          3368.75,
          3272.5,
          172.4368438720703,
          234.9973602294922,
          387.4167785644531,
          553.3111572265625,
          689.8134765625,
          828.4832763671875,
          1119.470458984375,
          1691.379638671875,
          1824.2940673828125,
          1597.78515625,
          1575.7919921875,
          1537.5130615234375,
          1379.0430908203125,
          1177.8551025390625,
          1149.150146484375,
          1012.8783569335938,
          795.772705078125,
          543.2667846679688,
          359.60791015625,
          287.74542236328125,
          256.7493591308594,
          209.69781494140625,
          187.6061553955078,
          113.34026336669922,
          36.593727111816406,
          3.545232057571411,
          1.194311261177063,
          1.194311261177063,
          1.194311261177063,
          1.194311261177063,
          1.194311261177063,
          1.194311261177063,
          1.194311261177063,
          0,
          0,
          0,
          0,
          0,
          0,
          0,
          0,
          0,
          0,
          0,
          0,
          0,
          0,
          0,
          0,
          0,
          0,
          0,
          0,
          0,
          0,
          0,
          0,
          0,
          0,
          0,
          0,
          0,
          0,
          0,
          0,
          0,
          0,
          0,
          0,
          0,
          0,
          0,
          0,
          0,
          0,
          0,
          0,
          0,
          0,
          0,
          0,
          0,
          0,
          0,
          0,
          0,
          0,
          0,
          0,
          0,
          0,
          0,
          0
         ],
         "yaxis": "y4"
        },
        {
         "marker": {
          "color": "LightSkyBlue"
         },
         "mode": "lines",
         "type": "scatter",
         "xaxis": "x4",
         "y": [
          0,
          0,
          0,
          0,
          0,
          0,
          0,
          0,
          0,
          0,
          0,
          11.75625,
          163.1125,
          314.95,
          507.1,
          716.7,
          979.6,
          1247.8,
          1161,
          1425.8,
          2015.6,
          1767.4,
          1842.4,
          3254.4,
          4005.2,
          1973.2,
          3160,
          1766.8,
          4055.6,
          5087.2,
          3320,
          3434.4,
          5756.8,
          4941.2,
          5162.8,
          5264,
          4878.8,
          5047.2,
          5158.4,
          6007.2,
          6545.6,
          5396.4,
          6381.6,
          4903.6,
          5781.2,
          7758.4,
          7586.4,
          7111.2,
          7264,
          4848,
          2415.2,
          3525.2,
          4735.2,
          3850,
          3753.75,
          3657.5,
          3561.25,
          3465,
          3368.75,
          3272.5,
          null,
          null,
          null,
          null,
          null,
          null,
          null,
          null,
          null,
          null,
          null,
          null,
          null,
          null,
          null,
          null,
          null,
          null,
          null,
          null,
          null,
          null,
          null,
          null,
          null,
          null,
          null,
          null,
          null,
          null,
          null,
          null,
          null,
          0,
          0,
          0,
          0,
          0,
          0,
          0,
          0,
          0,
          0,
          0,
          0,
          0,
          0,
          0,
          0,
          0,
          0,
          0,
          0,
          0,
          0,
          0,
          0,
          0,
          0,
          0,
          0,
          0,
          0,
          0,
          0,
          0,
          0,
          0,
          0,
          0,
          0,
          0,
          0,
          0,
          0,
          0,
          0,
          0,
          0,
          0,
          0,
          0,
          0,
          0,
          0,
          0,
          0,
          0,
          0,
          0,
          0,
          0,
          0
         ],
         "yaxis": "y4"
        },
        {
         "line": {
          "width": 1
         },
         "marker": {
          "color": "green",
          "size": 2
         },
         "mode": "lines",
         "type": "scatter",
         "xaxis": "x5",
         "y": [
          0,
          1.706836,
          11.767969,
          32.796875,
          62.51875,
          98.525,
          138.4,
          178.65,
          221.125,
          263.175,
          304.55,
          345.9,
          388.4,
          430.4,
          471.95,
          514.05,
          553.8,
          593.3,
          630.3,
          666.4,
          701,
          733.7,
          765.7,
          796.9,
          827.1,
          855.3,
          882.3,
          906.1,
          928.4,
          949.4,
          967.4,
          984.3,
          999.4,
          1013.1,
          1021.7,
          1027.1,
          1034.4,
          1039.2,
          1040.6,
          1040.8,
          1035.8,
          1031.8,
          1025.9,
          1015.4,
          1004.6,
          992.4,
          976.8,
          959.4,
          939.7,
          919.8,
          897.5,
          876.4,
          835.6,
          808.7,
          794.4,
          762.9,
          731.4,
          683.9,
          665.6,
          637.6,
          583.3,
          518.25,
          364.15,
          482.65,
          446.8,
          365.5,
          330.4,
          224.875,
          184.225,
          203.4,
          160.025,
          139.3875,
          98.725,
          67.5375,
          49.80625,
          29.9,
          12.363281,
          1.5844727,
          0,
          0,
          0,
          0,
          0,
          0,
          0,
          0,
          0,
          0,
          0,
          0,
          0,
          0,
          0,
          0,
          0,
          0,
          0,
          0,
          0,
          0,
          0,
          0,
          0,
          0,
          0,
          0,
          0,
          0,
          0,
          0,
          0,
          0,
          0,
          0,
          0,
          0,
          0,
          0,
          0,
          0,
          0,
          0,
          0,
          0,
          0,
          0,
          0,
          0,
          0,
          0,
          0,
          0,
          0,
          0,
          0,
          0,
          0,
          0,
          0,
          0,
          0,
          0,
          0,
          0
         ],
         "yaxis": "y5"
        },
        {
         "marker": {
          "color": "red"
         },
         "mode": "lines",
         "type": "scatter",
         "xaxis": "x5",
         "y": [
          0,
          0,
          10.829297,
          136.1375,
          277.175,
          479.1,
          713.2,
          965,
          1263,
          1585.6,
          1920.8,
          2258.8,
          2632.8,
          2981.6,
          3329.6,
          3658.8,
          3994.8,
          4296,
          4583.2,
          4848,
          5106.4,
          5320.8,
          5548,
          5772.8,
          5996,
          6193.6,
          6393.6,
          6567.2,
          6716.8,
          6833.6,
          6938.4,
          7056.8,
          7158.4,
          7228,
          7269.6,
          7268.8,
          7344.8,
          7368.8,
          7369.6,
          7356.8,
          7322.4,
          7280.8,
          7278.4,
          7204.8,
          7120,
          7042,
          6952.8,
          6819.2,
          6678.4,
          6544.8,
          6389.6,
          6201.6,
          6022.4,
          5420,
          5245.161,
          5070.3228,
          4895.484,
          4720.645,
          4545.8066,
          4370.968,
          31.837055206298828,
          191.6420135498047,
          396.8157653808594,
          603.1702270507812,
          750.5287475585938,
          860.900146484375,
          1078.9056396484375,
          968.7529296875,
          861.8320922851562,
          787.4674072265625,
          660.0409545898438,
          561.757568359375,
          443.4605407714844,
          336.88568115234375,
          229.3126220703125,
          180.66055297851562,
          112.20426177978516,
          36.462276458740234,
          3.545232057571411,
          1.194311261177063,
          1.194311261177063,
          1.194311261177063,
          1.194311261177063,
          1.194311261177063,
          0,
          0,
          0,
          0,
          0,
          0,
          0,
          0,
          0,
          0,
          0,
          0,
          0,
          0,
          0,
          0,
          0,
          0,
          0,
          0,
          0,
          0,
          0,
          0,
          0,
          0,
          0,
          0,
          0,
          0,
          0,
          0,
          0,
          0,
          0,
          0,
          0,
          0,
          0,
          0,
          0,
          0,
          0,
          0,
          0,
          0,
          0,
          0,
          0,
          0,
          0,
          0,
          0,
          0,
          0,
          0,
          0,
          0,
          0,
          0
         ],
         "yaxis": "y5"
        },
        {
         "marker": {
          "color": "LightSkyBlue"
         },
         "mode": "lines",
         "type": "scatter",
         "xaxis": "x5",
         "y": [
          0,
          0,
          10.829297,
          136.1375,
          277.175,
          479.1,
          713.2,
          965,
          1263,
          1585.6,
          1920.8,
          2258.8,
          2632.8,
          2981.6,
          3329.6,
          3658.8,
          3994.8,
          4296,
          4583.2,
          4848,
          5106.4,
          5320.8,
          5548,
          5772.8,
          5996,
          6193.6,
          6393.6,
          6567.2,
          6716.8,
          6833.6,
          6938.4,
          7056.8,
          7158.4,
          7228,
          7269.6,
          7268.8,
          7344.8,
          7368.8,
          7369.6,
          7356.8,
          7322.4,
          7280.8,
          7278.4,
          7204.8,
          7120,
          7042,
          6952.8,
          6819.2,
          6678.4,
          6544.8,
          6389.6,
          6201.6,
          6022.4,
          5420,
          5245.161,
          5070.3228,
          4895.484,
          4720.645,
          4545.8066,
          4370.968,
          null,
          null,
          null,
          null,
          null,
          null,
          null,
          null,
          null,
          null,
          null,
          null,
          null,
          null,
          null,
          null,
          null,
          null,
          null,
          null,
          null,
          null,
          null,
          null,
          0,
          0,
          0,
          0,
          0,
          0,
          0,
          0,
          0,
          0,
          0,
          0,
          0,
          0,
          0,
          0,
          0,
          0,
          0,
          0,
          0,
          0,
          0,
          0,
          0,
          0,
          0,
          0,
          0,
          0,
          0,
          0,
          0,
          0,
          0,
          0,
          0,
          0,
          0,
          0,
          0,
          0,
          0,
          0,
          0,
          0,
          0,
          0,
          0,
          0,
          0,
          0,
          0,
          0,
          0,
          0,
          0,
          0,
          0,
          0
         ],
         "yaxis": "y5"
        },
        {
         "line": {
          "width": 1
         },
         "marker": {
          "color": "green",
          "size": 2
         },
         "mode": "lines",
         "type": "scatter",
         "xaxis": "x6",
         "y": [
          0,
          0,
          0,
          0,
          0,
          0,
          0,
          0,
          0,
          0,
          0,
          0,
          0,
          0,
          0,
          0,
          0,
          0,
          0,
          0,
          0,
          0,
          0,
          0,
          0,
          0,
          0,
          0,
          0,
          0,
          0,
          0,
          0,
          0,
          0,
          0,
          0,
          0,
          0,
          0,
          0,
          0,
          0,
          0,
          0,
          0,
          0,
          0,
          0,
          0,
          0,
          0,
          0,
          0,
          0,
          0,
          0,
          0,
          0,
          0,
          0,
          0.3149414,
          6.7726564,
          24.448437,
          50.34375,
          81.425,
          116.4875,
          152.05,
          189.3,
          227.7,
          268.1,
          310.1,
          353,
          407,
          492.4,
          534.3,
          561.5,
          617,
          617.7,
          620.3,
          655.4,
          690.6,
          718.3,
          750.6,
          780.2,
          810.1,
          830.3,
          855.9,
          874.5,
          894.3,
          914.3,
          932.2,
          952.4,
          964.2,
          973.8,
          977.8,
          982.5,
          986.9,
          990.4,
          992.3,
          992.7,
          988.6,
          981.8,
          972.2,
          963.9,
          951.4,
          935.5,
          919.4,
          929.6,
          924.8,
          908.2,
          843.9,
          910.7,
          803.8,
          406.4,
          295.7,
          205.05,
          215.475,
          259.625,
          326.45,
          289.45,
          273.65,
          237.925,
          235.425,
          210.35,
          158.975,
          174.925,
          171.225,
          129.6375,
          124.9,
          126.95,
          119.0375,
          97.9,
          74.075,
          47.94375,
          27.7875,
          6.7915525,
          0,
          0,
          0,
          0,
          0,
          0,
          0,
          0,
          0,
          0,
          0,
          0,
          0,
          0,
          0,
          0,
          0,
          0,
          0,
          0,
          0,
          0,
          0,
          0,
          0,
          0,
          0,
          0,
          0,
          0,
          0,
          0,
          0,
          0,
          0,
          0,
          0,
          0,
          0,
          0,
          0,
          0,
          0,
          0,
          0,
          0,
          0,
          0,
          0,
          0,
          0,
          0,
          0,
          0,
          0,
          0,
          0,
          0,
          0,
          0,
          0,
          0,
          0,
          0,
          0,
          0,
          0
         ],
         "yaxis": "y6"
        },
        {
         "marker": {
          "color": "red"
         },
         "mode": "lines",
         "type": "scatter",
         "xaxis": "x6",
         "y": [
          0,
          0,
          0,
          0,
          0,
          0,
          0,
          0,
          0,
          0,
          0,
          0,
          0,
          0,
          0,
          0,
          0,
          0,
          0,
          0,
          0,
          0,
          0,
          0,
          0,
          0,
          0,
          0,
          0,
          0,
          0,
          0,
          0,
          0,
          0,
          0,
          0,
          0,
          0,
          0,
          0,
          0,
          0,
          0,
          0,
          0,
          0,
          0,
          0,
          0,
          0,
          0,
          0,
          0,
          0,
          0,
          0,
          0,
          0,
          0,
          348.5209045410156,
          291.7257995605469,
          235.69187927246094,
          240.0946502685547,
          361.3675537109375,
          498.03594970703125,
          643.0621948242188,
          844.0733642578125,
          1044.8275146484375,
          1237.733642578125,
          1497.9981689453125,
          1746.7880859375,
          2030.72900390625,
          2367.911865234375,
          2900.167236328125,
          3364.868896484375,
          3627.086669921875,
          4012.254638671875,
          4143.6220703125,
          4329.9775390625,
          4552.40283203125,
          4776.08447265625,
          5101.0322265625,
          5316.39404296875,
          5483.20263671875,
          5585.8505859375,
          5752.46142578125,
          5931.24365234375,
          6076.98828125,
          6234.5927734375,
          6326.96240234375,
          6418.6484375,
          6477.626953125,
          6552.77099609375,
          6641.22509765625,
          6745.70263671875,
          6830.96044921875,
          6857.40087890625,
          6884.14501953125,
          6896.283203125,
          6895.279296875,
          6886.3974609375,
          6869.52197265625,
          6780.8349609375,
          6676.05810546875,
          6613.486328125,
          6522.26171875,
          6396.6875,
          6341.9453125,
          6311.87744140625,
          6232.8330078125,
          5930.89404296875,
          5834.15478515625,
          5592.2421875,
          3453.319580078125,
          2601.163818359375,
          1923.53173828125,
          1547.9210205078125,
          1566.0238037109375,
          1805.5106201171875,
          1698.466552734375,
          1573.6927490234375,
          1406.246337890625,
          1294.7679443359375,
          1148.0113525390625,
          970.6119995117188,
          861.633544921875,
          770.1069946289062,
          625.9978637695312,
          557.279296875,
          517.0360107421875,
          495.2610778808594,
          429.3802185058594,
          354.8132019042969,
          250.50106811523438,
          161.95652770996094,
          68.08475494384766,
          7.0761590003967285,
          3.545232057571411,
          1.194311261177063,
          1.194311261177063,
          1.194311261177063,
          1.194311261177063,
          1.194311261177063,
          0,
          0,
          0,
          0,
          0,
          0,
          0,
          0,
          0,
          0,
          0,
          0,
          0,
          0,
          0,
          0,
          0,
          0,
          0,
          0,
          0,
          0,
          0,
          0,
          0,
          0,
          0,
          0,
          0,
          0,
          0,
          0,
          0,
          0,
          0,
          0,
          0,
          0,
          0,
          0,
          0,
          0,
          0,
          0,
          0,
          0,
          0,
          0,
          0,
          0,
          0,
          0,
          0,
          0,
          0,
          0,
          0,
          0,
          0,
          0
         ],
         "yaxis": "y6"
        },
        {
         "marker": {
          "color": "LightSkyBlue"
         },
         "mode": "lines",
         "type": "scatter",
         "xaxis": "x6",
         "y": [
          0,
          0,
          0,
          0,
          0,
          0,
          0,
          0,
          0,
          0,
          0,
          0,
          0,
          0,
          0,
          0,
          0,
          0,
          0,
          0,
          0,
          0,
          0,
          0,
          0,
          0,
          0,
          0,
          0,
          0,
          0,
          0,
          0,
          0,
          0,
          0,
          0,
          0,
          0,
          0,
          0,
          0,
          0,
          0,
          0,
          0,
          0,
          0,
          0,
          0,
          0,
          0,
          0,
          0,
          0,
          0,
          0,
          0,
          0,
          0,
          null,
          null,
          null,
          null,
          null,
          null,
          null,
          null,
          null,
          null,
          null,
          null,
          null,
          null,
          null,
          null,
          null,
          null,
          null,
          null,
          null,
          null,
          null,
          null,
          null,
          null,
          null,
          null,
          null,
          null,
          null,
          null,
          null,
          null,
          null,
          null,
          null,
          null,
          null,
          null,
          null,
          null,
          null,
          null,
          null,
          null,
          null,
          null,
          null,
          null,
          null,
          null,
          null,
          null,
          null,
          null,
          null,
          null,
          null,
          null,
          null,
          null,
          null,
          null,
          null,
          null,
          null,
          null,
          null,
          null,
          null,
          null,
          null,
          null,
          null,
          null,
          null,
          null,
          null,
          null,
          null,
          null,
          null,
          null,
          0,
          0,
          0,
          0,
          0,
          0,
          0,
          0,
          0,
          0,
          0,
          0,
          0,
          0,
          0,
          0,
          0,
          0,
          0,
          0,
          0,
          0,
          0,
          0,
          0,
          0,
          0,
          0,
          0,
          0,
          0,
          0,
          0,
          0,
          0,
          0,
          0,
          0,
          0,
          0,
          0,
          0,
          0,
          0,
          0,
          0,
          0,
          0,
          0,
          0,
          0,
          0,
          0,
          0,
          0,
          0,
          0,
          0,
          0,
          0
         ],
         "yaxis": "y6"
        }
       ],
       "layout": {
        "height": 700,
        "showlegend": false,
        "template": {
         "data": {
          "bar": [
           {
            "error_x": {
             "color": "#2a3f5f"
            },
            "error_y": {
             "color": "#2a3f5f"
            },
            "marker": {
             "line": {
              "color": "#E5ECF6",
              "width": 0.5
             },
             "pattern": {
              "fillmode": "overlay",
              "size": 10,
              "solidity": 0.2
             }
            },
            "type": "bar"
           }
          ],
          "barpolar": [
           {
            "marker": {
             "line": {
              "color": "#E5ECF6",
              "width": 0.5
             },
             "pattern": {
              "fillmode": "overlay",
              "size": 10,
              "solidity": 0.2
             }
            },
            "type": "barpolar"
           }
          ],
          "carpet": [
           {
            "aaxis": {
             "endlinecolor": "#2a3f5f",
             "gridcolor": "white",
             "linecolor": "white",
             "minorgridcolor": "white",
             "startlinecolor": "#2a3f5f"
            },
            "baxis": {
             "endlinecolor": "#2a3f5f",
             "gridcolor": "white",
             "linecolor": "white",
             "minorgridcolor": "white",
             "startlinecolor": "#2a3f5f"
            },
            "type": "carpet"
           }
          ],
          "choropleth": [
           {
            "colorbar": {
             "outlinewidth": 0,
             "ticks": ""
            },
            "type": "choropleth"
           }
          ],
          "contour": [
           {
            "colorbar": {
             "outlinewidth": 0,
             "ticks": ""
            },
            "colorscale": [
             [
              0,
              "#0d0887"
             ],
             [
              0.1111111111111111,
              "#46039f"
             ],
             [
              0.2222222222222222,
              "#7201a8"
             ],
             [
              0.3333333333333333,
              "#9c179e"
             ],
             [
              0.4444444444444444,
              "#bd3786"
             ],
             [
              0.5555555555555556,
              "#d8576b"
             ],
             [
              0.6666666666666666,
              "#ed7953"
             ],
             [
              0.7777777777777778,
              "#fb9f3a"
             ],
             [
              0.8888888888888888,
              "#fdca26"
             ],
             [
              1,
              "#f0f921"
             ]
            ],
            "type": "contour"
           }
          ],
          "contourcarpet": [
           {
            "colorbar": {
             "outlinewidth": 0,
             "ticks": ""
            },
            "type": "contourcarpet"
           }
          ],
          "heatmap": [
           {
            "colorbar": {
             "outlinewidth": 0,
             "ticks": ""
            },
            "colorscale": [
             [
              0,
              "#0d0887"
             ],
             [
              0.1111111111111111,
              "#46039f"
             ],
             [
              0.2222222222222222,
              "#7201a8"
             ],
             [
              0.3333333333333333,
              "#9c179e"
             ],
             [
              0.4444444444444444,
              "#bd3786"
             ],
             [
              0.5555555555555556,
              "#d8576b"
             ],
             [
              0.6666666666666666,
              "#ed7953"
             ],
             [
              0.7777777777777778,
              "#fb9f3a"
             ],
             [
              0.8888888888888888,
              "#fdca26"
             ],
             [
              1,
              "#f0f921"
             ]
            ],
            "type": "heatmap"
           }
          ],
          "heatmapgl": [
           {
            "colorbar": {
             "outlinewidth": 0,
             "ticks": ""
            },
            "colorscale": [
             [
              0,
              "#0d0887"
             ],
             [
              0.1111111111111111,
              "#46039f"
             ],
             [
              0.2222222222222222,
              "#7201a8"
             ],
             [
              0.3333333333333333,
              "#9c179e"
             ],
             [
              0.4444444444444444,
              "#bd3786"
             ],
             [
              0.5555555555555556,
              "#d8576b"
             ],
             [
              0.6666666666666666,
              "#ed7953"
             ],
             [
              0.7777777777777778,
              "#fb9f3a"
             ],
             [
              0.8888888888888888,
              "#fdca26"
             ],
             [
              1,
              "#f0f921"
             ]
            ],
            "type": "heatmapgl"
           }
          ],
          "histogram": [
           {
            "marker": {
             "pattern": {
              "fillmode": "overlay",
              "size": 10,
              "solidity": 0.2
             }
            },
            "type": "histogram"
           }
          ],
          "histogram2d": [
           {
            "colorbar": {
             "outlinewidth": 0,
             "ticks": ""
            },
            "colorscale": [
             [
              0,
              "#0d0887"
             ],
             [
              0.1111111111111111,
              "#46039f"
             ],
             [
              0.2222222222222222,
              "#7201a8"
             ],
             [
              0.3333333333333333,
              "#9c179e"
             ],
             [
              0.4444444444444444,
              "#bd3786"
             ],
             [
              0.5555555555555556,
              "#d8576b"
             ],
             [
              0.6666666666666666,
              "#ed7953"
             ],
             [
              0.7777777777777778,
              "#fb9f3a"
             ],
             [
              0.8888888888888888,
              "#fdca26"
             ],
             [
              1,
              "#f0f921"
             ]
            ],
            "type": "histogram2d"
           }
          ],
          "histogram2dcontour": [
           {
            "colorbar": {
             "outlinewidth": 0,
             "ticks": ""
            },
            "colorscale": [
             [
              0,
              "#0d0887"
             ],
             [
              0.1111111111111111,
              "#46039f"
             ],
             [
              0.2222222222222222,
              "#7201a8"
             ],
             [
              0.3333333333333333,
              "#9c179e"
             ],
             [
              0.4444444444444444,
              "#bd3786"
             ],
             [
              0.5555555555555556,
              "#d8576b"
             ],
             [
              0.6666666666666666,
              "#ed7953"
             ],
             [
              0.7777777777777778,
              "#fb9f3a"
             ],
             [
              0.8888888888888888,
              "#fdca26"
             ],
             [
              1,
              "#f0f921"
             ]
            ],
            "type": "histogram2dcontour"
           }
          ],
          "mesh3d": [
           {
            "colorbar": {
             "outlinewidth": 0,
             "ticks": ""
            },
            "type": "mesh3d"
           }
          ],
          "parcoords": [
           {
            "line": {
             "colorbar": {
              "outlinewidth": 0,
              "ticks": ""
             }
            },
            "type": "parcoords"
           }
          ],
          "pie": [
           {
            "automargin": true,
            "type": "pie"
           }
          ],
          "scatter": [
           {
            "fillpattern": {
             "fillmode": "overlay",
             "size": 10,
             "solidity": 0.2
            },
            "type": "scatter"
           }
          ],
          "scatter3d": [
           {
            "line": {
             "colorbar": {
              "outlinewidth": 0,
              "ticks": ""
             }
            },
            "marker": {
             "colorbar": {
              "outlinewidth": 0,
              "ticks": ""
             }
            },
            "type": "scatter3d"
           }
          ],
          "scattercarpet": [
           {
            "marker": {
             "colorbar": {
              "outlinewidth": 0,
              "ticks": ""
             }
            },
            "type": "scattercarpet"
           }
          ],
          "scattergeo": [
           {
            "marker": {
             "colorbar": {
              "outlinewidth": 0,
              "ticks": ""
             }
            },
            "type": "scattergeo"
           }
          ],
          "scattergl": [
           {
            "marker": {
             "colorbar": {
              "outlinewidth": 0,
              "ticks": ""
             }
            },
            "type": "scattergl"
           }
          ],
          "scattermapbox": [
           {
            "marker": {
             "colorbar": {
              "outlinewidth": 0,
              "ticks": ""
             }
            },
            "type": "scattermapbox"
           }
          ],
          "scatterpolar": [
           {
            "marker": {
             "colorbar": {
              "outlinewidth": 0,
              "ticks": ""
             }
            },
            "type": "scatterpolar"
           }
          ],
          "scatterpolargl": [
           {
            "marker": {
             "colorbar": {
              "outlinewidth": 0,
              "ticks": ""
             }
            },
            "type": "scatterpolargl"
           }
          ],
          "scatterternary": [
           {
            "marker": {
             "colorbar": {
              "outlinewidth": 0,
              "ticks": ""
             }
            },
            "type": "scatterternary"
           }
          ],
          "surface": [
           {
            "colorbar": {
             "outlinewidth": 0,
             "ticks": ""
            },
            "colorscale": [
             [
              0,
              "#0d0887"
             ],
             [
              0.1111111111111111,
              "#46039f"
             ],
             [
              0.2222222222222222,
              "#7201a8"
             ],
             [
              0.3333333333333333,
              "#9c179e"
             ],
             [
              0.4444444444444444,
              "#bd3786"
             ],
             [
              0.5555555555555556,
              "#d8576b"
             ],
             [
              0.6666666666666666,
              "#ed7953"
             ],
             [
              0.7777777777777778,
              "#fb9f3a"
             ],
             [
              0.8888888888888888,
              "#fdca26"
             ],
             [
              1,
              "#f0f921"
             ]
            ],
            "type": "surface"
           }
          ],
          "table": [
           {
            "cells": {
             "fill": {
              "color": "#EBF0F8"
             },
             "line": {
              "color": "white"
             }
            },
            "header": {
             "fill": {
              "color": "#C8D4E3"
             },
             "line": {
              "color": "white"
             }
            },
            "type": "table"
           }
          ]
         },
         "layout": {
          "annotationdefaults": {
           "arrowcolor": "#2a3f5f",
           "arrowhead": 0,
           "arrowwidth": 1
          },
          "autotypenumbers": "strict",
          "coloraxis": {
           "colorbar": {
            "outlinewidth": 0,
            "ticks": ""
           }
          },
          "colorscale": {
           "diverging": [
            [
             0,
             "#8e0152"
            ],
            [
             0.1,
             "#c51b7d"
            ],
            [
             0.2,
             "#de77ae"
            ],
            [
             0.3,
             "#f1b6da"
            ],
            [
             0.4,
             "#fde0ef"
            ],
            [
             0.5,
             "#f7f7f7"
            ],
            [
             0.6,
             "#e6f5d0"
            ],
            [
             0.7,
             "#b8e186"
            ],
            [
             0.8,
             "#7fbc41"
            ],
            [
             0.9,
             "#4d9221"
            ],
            [
             1,
             "#276419"
            ]
           ],
           "sequential": [
            [
             0,
             "#0d0887"
            ],
            [
             0.1111111111111111,
             "#46039f"
            ],
            [
             0.2222222222222222,
             "#7201a8"
            ],
            [
             0.3333333333333333,
             "#9c179e"
            ],
            [
             0.4444444444444444,
             "#bd3786"
            ],
            [
             0.5555555555555556,
             "#d8576b"
            ],
            [
             0.6666666666666666,
             "#ed7953"
            ],
            [
             0.7777777777777778,
             "#fb9f3a"
            ],
            [
             0.8888888888888888,
             "#fdca26"
            ],
            [
             1,
             "#f0f921"
            ]
           ],
           "sequentialminus": [
            [
             0,
             "#0d0887"
            ],
            [
             0.1111111111111111,
             "#46039f"
            ],
            [
             0.2222222222222222,
             "#7201a8"
            ],
            [
             0.3333333333333333,
             "#9c179e"
            ],
            [
             0.4444444444444444,
             "#bd3786"
            ],
            [
             0.5555555555555556,
             "#d8576b"
            ],
            [
             0.6666666666666666,
             "#ed7953"
            ],
            [
             0.7777777777777778,
             "#fb9f3a"
            ],
            [
             0.8888888888888888,
             "#fdca26"
            ],
            [
             1,
             "#f0f921"
            ]
           ]
          },
          "colorway": [
           "#636efa",
           "#EF553B",
           "#00cc96",
           "#ab63fa",
           "#FFA15A",
           "#19d3f3",
           "#FF6692",
           "#B6E880",
           "#FF97FF",
           "#FECB52"
          ],
          "font": {
           "color": "#2a3f5f"
          },
          "geo": {
           "bgcolor": "white",
           "lakecolor": "white",
           "landcolor": "#E5ECF6",
           "showlakes": true,
           "showland": true,
           "subunitcolor": "white"
          },
          "hoverlabel": {
           "align": "left"
          },
          "hovermode": "closest",
          "mapbox": {
           "style": "light"
          },
          "paper_bgcolor": "white",
          "plot_bgcolor": "#E5ECF6",
          "polar": {
           "angularaxis": {
            "gridcolor": "white",
            "linecolor": "white",
            "ticks": ""
           },
           "bgcolor": "#E5ECF6",
           "radialaxis": {
            "gridcolor": "white",
            "linecolor": "white",
            "ticks": ""
           }
          },
          "scene": {
           "xaxis": {
            "backgroundcolor": "#E5ECF6",
            "gridcolor": "white",
            "gridwidth": 2,
            "linecolor": "white",
            "showbackground": true,
            "ticks": "",
            "zerolinecolor": "white"
           },
           "yaxis": {
            "backgroundcolor": "#E5ECF6",
            "gridcolor": "white",
            "gridwidth": 2,
            "linecolor": "white",
            "showbackground": true,
            "ticks": "",
            "zerolinecolor": "white"
           },
           "zaxis": {
            "backgroundcolor": "#E5ECF6",
            "gridcolor": "white",
            "gridwidth": 2,
            "linecolor": "white",
            "showbackground": true,
            "ticks": "",
            "zerolinecolor": "white"
           }
          },
          "shapedefaults": {
           "line": {
            "color": "#2a3f5f"
           }
          },
          "ternary": {
           "aaxis": {
            "gridcolor": "white",
            "linecolor": "white",
            "ticks": ""
           },
           "baxis": {
            "gridcolor": "white",
            "linecolor": "white",
            "ticks": ""
           },
           "bgcolor": "#E5ECF6",
           "caxis": {
            "gridcolor": "white",
            "linecolor": "white",
            "ticks": ""
           }
          },
          "title": {
           "x": 0.05
          },
          "xaxis": {
           "automargin": true,
           "gridcolor": "white",
           "linecolor": "white",
           "ticks": "",
           "title": {
            "standoff": 15
           },
           "zerolinecolor": "white",
           "zerolinewidth": 2
          },
          "yaxis": {
           "automargin": true,
           "gridcolor": "white",
           "linecolor": "white",
           "ticks": "",
           "title": {
            "standoff": 15
           },
           "zerolinecolor": "white",
           "zerolinewidth": 2
          }
         }
        },
        "title": {
         "text": "Imputation on test samples"
        },
        "width": 1100,
        "xaxis": {
         "anchor": "y",
         "autorange": true,
         "domain": [
          0,
          0.45
         ],
         "range": [
          0,
          132
         ]
        },
        "xaxis2": {
         "anchor": "y2",
         "autorange": true,
         "domain": [
          0.55,
          1
         ],
         "range": [
          0,
          178
         ]
        },
        "xaxis3": {
         "anchor": "y3",
         "autorange": true,
         "domain": [
          0,
          0.45
         ],
         "range": [
          0,
          129
         ]
        },
        "xaxis4": {
         "anchor": "y4",
         "autorange": true,
         "domain": [
          0.55,
          1
         ],
         "range": [
          0,
          152
         ]
        },
        "xaxis5": {
         "anchor": "y5",
         "autorange": true,
         "domain": [
          0,
          0.45
         ],
         "range": [
          0,
          143
         ]
        },
        "xaxis6": {
         "anchor": "y6",
         "autorange": true,
         "domain": [
          0.55,
          1
         ],
         "range": [
          0,
          203
         ]
        },
        "yaxis": {
         "anchor": "x",
         "autorange": true,
         "domain": [
          0.7333333333333333,
          1
         ],
         "range": [
          -432.8,
          8223.199999999999
         ],
         "type": "linear"
        },
        "yaxis2": {
         "anchor": "x2",
         "autorange": true,
         "domain": [
          0.7333333333333333,
          1
         ],
         "matches": "y",
         "range": [
          -432.8,
          8223.199999999999
         ],
         "showticklabels": false,
         "type": "linear"
        },
        "yaxis3": {
         "anchor": "x3",
         "autorange": true,
         "domain": [
          0.36666666666666664,
          0.6333333333333333
         ],
         "range": [
          -431.0222222222223,
          8189.4222222222215
         ],
         "type": "linear"
        },
        "yaxis4": {
         "anchor": "x4",
         "autorange": true,
         "domain": [
          0.36666666666666664,
          0.6333333333333333
         ],
         "matches": "y3",
         "range": [
          -431.0222222222223,
          8189.4222222222215
         ],
         "showticklabels": false,
         "type": "linear"
        },
        "yaxis5": {
         "anchor": "x5",
         "autorange": true,
         "domain": [
          0,
          0.26666666666666666
         ],
         "range": [
          -409.42222222222233,
          7779.022222222223
         ],
         "type": "linear"
        },
        "yaxis6": {
         "anchor": "x6",
         "autorange": true,
         "domain": [
          0,
          0.26666666666666666
         ],
         "matches": "y5",
         "range": [
          -409.42222222222233,
          7779.022222222223
         ],
         "showticklabels": false,
         "type": "linear"
        }
       }
      },
      "text/html": [
       "<div>                            <div id=\"3b36fac9-083c-46f7-aa77-3799aa557767\" class=\"plotly-graph-div\" style=\"height:700px; width:1100px;\"></div>            <script type=\"text/javascript\">                require([\"plotly\"], function(Plotly) {                    window.PLOTLYENV=window.PLOTLYENV || {};                                    if (document.getElementById(\"3b36fac9-083c-46f7-aa77-3799aa557767\")) {                    Plotly.newPlot(                        \"3b36fac9-083c-46f7-aa77-3799aa557767\",                        [{\"line\":{\"width\":1},\"marker\":{\"color\":\"green\",\"size\":2},\"mode\":\"lines\",\"y\":[414.5,284.825,370.55,546.1,556.3,594.7,615.4,654.9,711.7,730.8,751.8,775.5,782.0,807.6,960.2,941.8,383.35,844.1,1023.4,843.0,803.9,1077.6,1075.6,1120.6,438.85,509.25,491.7,777.9,920.9,1048.4,997.9,411.625,302.325,959.3,936.8,929.5,918.7,898.0,877.6,857.9,846.3,828.7,806.1,782.2,753.8,734.4,707.5,688.2,657.0,521.0,606.0,542.6,139.2625,348.225,454.85,428.15,380.15,342.65,310.85,277.25,234.05,203.95,167.35,133.7625,108.1625,81.625,57.64375,36.86875,19.765625,7.6132812,0.9750183,0.0,0.0,0.0,0.0,0.0,0.0,0.0,0.0,0.0,0.0,0.0,0.0,0.0,0.0,0.0,0.0,0.0,0.0,0.0,0.0,0.0,0.0,0.0,0.0,0.0,0.0,0.0,0.0,0.0,0.0,0.0,0.0,0.0,0.0,0.0,0.0,0.0,0.0,0.0,0.0,0.0,0.0,0.0,0.0,0.0,0.0,0.0,0.0,0.0,0.0,0.0,0.0,0.0,0.0,0.0,0.0,0.0,0.0,0.0,0.3840576,3.9169922,12.879687],\"type\":\"scatter\",\"xaxis\":\"x\",\"yaxis\":\"y\"},{\"marker\":{\"color\":\"red\"},\"mode\":\"lines\",\"y\":[2428.8,2876.4,2085.0,2144.0,3393.6,3769.6,4088.0,4324.8,4671.2,5103.2,5296.8,5363.2,5601.6,5312.0,6111.2,7087.2,7268.8,3380.4,4223.2,7496.8,5806.8,6593.6,7790.4,7064.0,7742.4,3351.2,6568.8,6983.2,5336.4,6901.2,7735.2,6709.6,2703.4,2776.2,7269.6,6849.6,6798.4,6642.4,6496.8,6372.0,6156.0,6003.2,5848.8,5660.0,5489.6,5236.0,5088.0,4880.8,4684.8,4331.2,3909.2,3859.6,3442.0,790.0,750.5,711.0,671.5,632.0,592.5,553.0,95.71306610107422,101.19702911376953,105.3694076538086,107.23943328857422,112.40807342529297,117.05022430419922,116.18595123291016,117.90569305419922,91.56153106689453,39.241756439208984,3.70226788520813,1.194311261177063,1.194311261177063,0.0,0.0,0.0,0.0,0.0,0.0,0.0,0.0,0.0,0.0,0.0,0.0,0.0,0.0,0.0,0.0,0.0,0.0,0.0,0.0,0.0,0.0,0.0,0.0,0.0,0.0,0.0,0.0,0.0,0.0,0.0,0.0,0.0,0.0,0.0,0.0,0.0,0.0,0.0,0.0,0.0,0.0,0.0,0.0,0.0,0.0,0.0,0.0,0.0,0.0,0.0,0.0,0.0,0.0,0.0,0.0,0.0,0.0,0.0,0.0],\"type\":\"scatter\",\"xaxis\":\"x\",\"yaxis\":\"y\"},{\"marker\":{\"color\":\"LightSkyBlue\"},\"mode\":\"lines\",\"y\":[2428.8,2876.4,2085.0,2144.0,3393.6,3769.6,4088.0,4324.8,4671.2,5103.2,5296.8,5363.2,5601.6,5312.0,6111.2,7087.2,7268.8,3380.4,4223.2,7496.8,5806.8,6593.6,7790.4,7064.0,7742.4,3351.2,6568.8,6983.2,5336.4,6901.2,7735.2,6709.6,2703.4,2776.2,7269.6,6849.6,6798.4,6642.4,6496.8,6372.0,6156.0,6003.2,5848.8,5660.0,5489.6,5236.0,5088.0,4880.8,4684.8,4331.2,3909.2,3859.6,3442.0,790.0,750.5,711.0,671.5,632.0,592.5,553.0,null,null,null,null,null,null,null,null,null,null,null,null,null,0.0,0.0,0.0,0.0,0.0,0.0,0.0,0.0,0.0,0.0,0.0,0.0,0.0,0.0,0.0,0.0,0.0,0.0,0.0,0.0,0.0,0.0,0.0,0.0,0.0,0.0,0.0,0.0,0.0,0.0,0.0,0.0,0.0,0.0,0.0,0.0,0.0,0.0,0.0,0.0,0.0,0.0,0.0,0.0,0.0,0.0,0.0,0.0,0.0,0.0,0.0,0.0,0.0,0.0,0.0,0.0,0.0,0.0,0.0,0.0],\"type\":\"scatter\",\"xaxis\":\"x\",\"yaxis\":\"y\"},{\"line\":{\"width\":1},\"marker\":{\"color\":\"green\",\"size\":2},\"mode\":\"lines\",\"y\":[0.0,0.0,0.0,0.0,0.0,0.0,0.0,0.0,0.0,0.0,0.0,0.0,0.0,0.0,0.0,0.0,0.0,0.0,0.0,0.0,0.0,0.0,0.0,0.0,0.0,0.0,0.0,0.0,0.0,0.0,0.0,0.0,0.84584963,8.188281,16.06875,25.728125,35.3875,45.89375,62.79375,87.95,123.0375,154.375,176.95,184.9,218.425,230.65,250.275,292.9,270.075,339.75,400.15,367.7,443.7,504.4,452.15,432.9,410.95,364.0,421.75,387.45,419.2,475.0,459.65,365.1,396.55,377.9,248.85,214.675,220.875,239.55,244.575,235.225,210.425,188.175,170.325,157.5,145.0,142.425,134.3875,111.65,116.1625,131.5625,146.7,176.875,180.15,175.15,180.5,175.45,138.15,142.5,155.975,156.475,160.3,169.4,184.375,268.5,260.8,359.85,204.9,216.5,355.55,296.05,242.85,221.175,125.625,185.475,216.675,199.6,106.4375,60.73125,40.28125,49.3125,42.21875,30.084375,5.7041016,0.0,0.0,0.0,0.0,0.0,0.8539063,1.5986328,3.6152344,1.4488281,0.20395508,0.32407227,0.0,0.0,0.0,0.0,0.0,0.0,0.0,0.0,0.0,0.0,0.0,0.0,0.0,0.0,0.0,0.0,0.0,0.0,0.0,0.0,0.0,0.0,0.0,0.0,0.0,0.0,0.0,0.0,0.0,0.0,0.0,0.0,0.0,0.0,0.0,0.0,0.0,0.0,0.0,0.0,0.0,0.0,0.0,0.0,0.0,0.0,0.0,0.0,0.0,0.0,0.0,1.410791,3.2871094],\"type\":\"scatter\",\"xaxis\":\"x2\",\"yaxis\":\"y2\"},{\"marker\":{\"color\":\"red\"},\"mode\":\"lines\",\"y\":[0.0,0.0,0.0,0.0,0.0,0.0,0.0,0.0,0.0,0.0,0.0,0.0,0.0,0.0,0.0,0.0,0.0,0.0,0.0,0.0,0.0,0.0,0.0,0.0,0.0,0.0,0.0,0.0,0.0,0.0,0.0,0.0,0.0,0.41914064,10.11875,110.25,161.475,205.45,270.1,383.1,548.65,778.4,988.5,1124.2,1200.0,1428.0,1517.6,1686.2,2034.6,1922.6,2082.8,2749.6,2534.4,3040.8,2994.7273,2948.6545,2902.5818,2856.509,2810.4365,2764.3638,299.0261535644531,737.928955078125,1273.2314453125,1655.560546875,1903.963134765625,1991.4547119140625,1848.4384765625,1567.2001953125,1426.36865234375,1358.8480224609375,1307.5816650390625,1288.81982421875,1245.3807373046875,1170.595458984375,1083.6507568359375,941.2086791992188,881.33203125,847.6959838867188,779.8824462890625,652.9899291992188,634.4915161132812,677.5911254882812,794.02734375,922.4334106445312,1082.65966796875,1025.444580078125,1139.0792236328125,1062.3079833984375,886.8748779296875,884.8485717773438,940.8297119140625,950.460205078125,968.1732788085938,1020.3870239257812,1142.5142822265625,1508.248046875,1632.093994140625,2009.001708984375,1564.7557373046875,1389.6392822265625,1874.699951171875,1978.004638671875,1761.1505126953125,1522.1575927734375,1020.111083984375,1154.4998779296875,1265.106201171875,1284.263916015625,915.9802856445312,598.2301635742188,388.1810607910156,332.56365966796875,294.0690612792969,212.2696075439453,116.39273834228516,45.78395080566406,6.022937297821045,3.6562535762786865,1.3053311109542847,0.0,0.0,0.0,0.0,0.0,0.0,0.0,0.0,0.0,0.0,0.0,0.0,0.0,0.0,0.0,0.0,0.0,0.0,0.0,0.0,0.0,0.0,0.0,0.0,0.0,0.0,0.0,0.0,0.0,0.0,0.0,0.0,0.0,0.0,0.0,0.0,0.0,0.0,0.0,0.0,0.0,0.0,0.0,0.0,0.0,0.0,0.0,0.0,0.0,0.0,0.0,0.0,0.0,0.0,0.0,0.0,0.0,0.0,0.0,0.0],\"type\":\"scatter\",\"xaxis\":\"x2\",\"yaxis\":\"y2\"},{\"marker\":{\"color\":\"LightSkyBlue\"},\"mode\":\"lines\",\"y\":[0.0,0.0,0.0,0.0,0.0,0.0,0.0,0.0,0.0,0.0,0.0,0.0,0.0,0.0,0.0,0.0,0.0,0.0,0.0,0.0,0.0,0.0,0.0,0.0,0.0,0.0,0.0,0.0,0.0,0.0,0.0,0.0,0.0,0.41914064,10.11875,110.25,161.475,205.45,270.1,383.1,548.65,778.4,988.5,1124.2,1200.0,1428.0,1517.6,1686.2,2034.6,1922.6,2082.8,2749.6,2534.4,3040.8,2994.7273,2948.6545,2902.5818,2856.509,2810.4365,2764.3638,null,null,null,null,null,null,null,null,null,null,null,null,null,null,null,null,null,null,null,null,null,null,null,null,null,null,null,null,null,null,null,null,null,null,null,null,null,null,null,null,null,null,null,null,null,null,null,null,null,null,null,null,null,null,null,null,null,null,null,0.0,0.0,0.0,0.0,0.0,0.0,0.0,0.0,0.0,0.0,0.0,0.0,0.0,0.0,0.0,0.0,0.0,0.0,0.0,0.0,0.0,0.0,0.0,0.0,0.0,0.0,0.0,0.0,0.0,0.0,0.0,0.0,0.0,0.0,0.0,0.0,0.0,0.0,0.0,0.0,0.0,0.0,0.0,0.0,0.0,0.0,0.0,0.0,0.0,0.0,0.0,0.0,0.0,0.0,0.0,0.0,0.0,0.0,0.0,0.0],\"type\":\"scatter\",\"xaxis\":\"x2\",\"yaxis\":\"y2\"},{\"line\":{\"width\":1},\"marker\":{\"color\":\"green\",\"size\":2},\"mode\":\"lines\",\"y\":[367.9,449.75,469.85,571.8,531.5,619.2,607.3,677.0,700.5,723.1,748.9,770.5,789.1,805.6,819.7,836.6,847.5,862.4,873.7,883.7,892.9,902.9,910.4,913.3,915.7,919.5,920.7,922.3,911.5,907.1,898.4,891.8,882.8,871.6,859.9,846.1,831.4,814.3,798.4,773.5,741.9,728.2,704.7,675.0,650.1,622.9,596.0,564.7,535.1,503.25,470.15,438.55,404.0,371.55,338.6,305.4,273.85,243.675,236.025,246.075,215.55,138.4375,92.1375,60.7375,35.190624,16.560938,5.7347655,0.5480469,0.0,0.0,0.0,0.0,0.0,0.0,0.0,0.0,0.0,0.0,0.0,0.0,0.0,0.0,0.0,0.0,0.0,0.0,0.0,0.0,0.0,0.0,0.0,0.0,0.0,0.0,0.0,0.0,0.0,0.0,0.0,0.0,0.0,0.0,0.0,0.0,0.0,0.0,0.0,0.0,0.0,0.0,0.0,0.0,0.0,0.0,0.0,0.0,0.0,0.0,0.0,0.0,0.0,0.0,0.0,0.0,0.0,0.0,0.0,0.0,3.0749512,17.153126],\"type\":\"scatter\",\"xaxis\":\"x3\",\"yaxis\":\"y3\"},{\"marker\":{\"color\":\"red\"},\"mode\":\"lines\",\"y\":[2393.8,3128.0,2816.0,3367.2,3557.2,4297.6,4384.0,4691.2,4910.4,5089.6,5294.4,5447.2,5590.4,5740.8,5839.2,5924.8,6027.2,6138.4,6218.4,6288.0,6361.6,6435.2,6481.6,6503.2,6488.0,6508.8,6464.8,6547.2,6478.4,6416.8,6376.0,6302.4,6236.8,6134.4,6027.2,5881.6,5798.4,5651.2,5537.6,5376.8,5086.4,5004.8,4818.4,4587.2,4360.8,4137.2,3894.4,3641.6,3388.0,3111.6,2831.2,2557.2,2279.6,2106.0,1982.1177,1858.2354,1734.3529,1610.4706,1486.5883,1362.7059,378.50970458984375,381.00946044921875,308.5565185546875,247.32862854003906,208.59437561035156,118.59166717529297,42.94906997680664,6.068953514099121,3.545232057571411,1.194311261177063,0.0,0.0,0.0,0.0,0.0,0.0,0.0,0.0,0.0,0.0,0.0,0.0,0.0,0.0,0.0,0.0,0.0,0.0,0.0,0.0,0.0,0.0,0.0,0.0,0.0,0.0,0.0,0.0,0.0,0.0,0.0,0.0,0.0,0.0,0.0,0.0,0.0,0.0,0.0,0.0,0.0,0.0,0.0,0.0,0.0,0.0,0.0,0.0,0.0,0.0,0.0,0.0,0.0,0.0,0.0,0.0,0.0,0.0,0.0,73.4125],\"type\":\"scatter\",\"xaxis\":\"x3\",\"yaxis\":\"y3\"},{\"marker\":{\"color\":\"LightSkyBlue\"},\"mode\":\"lines\",\"y\":[2393.8,3128.0,2816.0,3367.2,3557.2,4297.6,4384.0,4691.2,4910.4,5089.6,5294.4,5447.2,5590.4,5740.8,5839.2,5924.8,6027.2,6138.4,6218.4,6288.0,6361.6,6435.2,6481.6,6503.2,6488.0,6508.8,6464.8,6547.2,6478.4,6416.8,6376.0,6302.4,6236.8,6134.4,6027.2,5881.6,5798.4,5651.2,5537.6,5376.8,5086.4,5004.8,4818.4,4587.2,4360.8,4137.2,3894.4,3641.6,3388.0,3111.6,2831.2,2557.2,2279.6,2106.0,1982.1177,1858.2354,1734.3529,1610.4706,1486.5883,1362.7059,null,null,null,null,null,null,null,null,null,null,0.0,0.0,0.0,0.0,0.0,0.0,0.0,0.0,0.0,0.0,0.0,0.0,0.0,0.0,0.0,0.0,0.0,0.0,0.0,0.0,0.0,0.0,0.0,0.0,0.0,0.0,0.0,0.0,0.0,0.0,0.0,0.0,0.0,0.0,0.0,0.0,0.0,0.0,0.0,0.0,0.0,0.0,0.0,0.0,0.0,0.0,0.0,0.0,0.0,0.0,0.0,0.0,0.0,0.0,0.0,0.0,0.0,0.0,0.0,73.4125],\"type\":\"scatter\",\"xaxis\":\"x3\",\"yaxis\":\"y3\"},{\"line\":{\"width\":1},\"marker\":{\"color\":\"green\",\"size\":2},\"mode\":\"lines\",\"y\":[0.0,0.0,0.0,0.0,0.0,0.0,0.0,0.0,0.0,0.0,0.7199219,8.031641,27.896875,56.5,90.775,127.8625,169.45,208.3,189.175,226.125,306.5,242.75,287.95,475.8,551.8,311.275,408.5,299.725,566.75,689.6,436.725,562.075,785.9,736.8,717.0,710.4,763.5,655.15,772.2,853.3,851.05,880.7,928.1,659.8,816.3,1088.6,1053.0,1005.2,970.5,583.55,344.5,506.6,679.7,893.6,819.5,668.0,466.15,483.5,511.2,479.8,578.55,626.3,446.6,579.05,444.9,298.7,436.75,493.85,383.75,310.1,362.5,351.6,219.4,191.95,212.825,154.05,99.45,72.475,45.41875,48.575,37.296875,30.56875,28.703125,12.117969,3.204492,0.42509764,0.0,0.0,0.0,0.0,0.0,0.0,0.0,0.0,0.0,0.0,0.0,0.0,0.0,0.0,0.0,0.0,0.0,0.0,0.0,0.0,0.0,0.0,0.0,0.0,0.0,0.0,0.0,0.0,0.0,0.0,0.0,0.0,0.0,0.0,0.0,0.0,0.0,0.0,0.0,0.0,0.0,0.0,0.0,0.0,0.0,0.0,0.0,0.0,0.0,0.0,0.0,0.0,0.0,0.0,0.0,0.0,0.0,0.0,0.0,0.0,0.0,0.0,0.0,0.0,0.0,0.0,0.0],\"type\":\"scatter\",\"xaxis\":\"x4\",\"yaxis\":\"y4\"},{\"marker\":{\"color\":\"red\"},\"mode\":\"lines\",\"y\":[0.0,0.0,0.0,0.0,0.0,0.0,0.0,0.0,0.0,0.0,0.0,11.75625,163.1125,314.95,507.1,716.7,979.6,1247.8,1161.0,1425.8,2015.6,1767.4,1842.4,3254.4,4005.2,1973.2,3160.0,1766.8,4055.6,5087.2,3320.0,3434.4,5756.8,4941.2,5162.8,5264.0,4878.8,5047.2,5158.4,6007.2,6545.6,5396.4,6381.6,4903.6,5781.2,7758.4,7586.4,7111.2,7264.0,4848.0,2415.2,3525.2,4735.2,3850.0,3753.75,3657.5,3561.25,3465.0,3368.75,3272.5,172.4368438720703,234.9973602294922,387.4167785644531,553.3111572265625,689.8134765625,828.4832763671875,1119.470458984375,1691.379638671875,1824.2940673828125,1597.78515625,1575.7919921875,1537.5130615234375,1379.0430908203125,1177.8551025390625,1149.150146484375,1012.8783569335938,795.772705078125,543.2667846679688,359.60791015625,287.74542236328125,256.7493591308594,209.69781494140625,187.6061553955078,113.34026336669922,36.593727111816406,3.545232057571411,1.194311261177063,1.194311261177063,1.194311261177063,1.194311261177063,1.194311261177063,1.194311261177063,1.194311261177063,0.0,0.0,0.0,0.0,0.0,0.0,0.0,0.0,0.0,0.0,0.0,0.0,0.0,0.0,0.0,0.0,0.0,0.0,0.0,0.0,0.0,0.0,0.0,0.0,0.0,0.0,0.0,0.0,0.0,0.0,0.0,0.0,0.0,0.0,0.0,0.0,0.0,0.0,0.0,0.0,0.0,0.0,0.0,0.0,0.0,0.0,0.0,0.0,0.0,0.0,0.0,0.0,0.0,0.0,0.0,0.0,0.0,0.0,0.0,0.0],\"type\":\"scatter\",\"xaxis\":\"x4\",\"yaxis\":\"y4\"},{\"marker\":{\"color\":\"LightSkyBlue\"},\"mode\":\"lines\",\"y\":[0.0,0.0,0.0,0.0,0.0,0.0,0.0,0.0,0.0,0.0,0.0,11.75625,163.1125,314.95,507.1,716.7,979.6,1247.8,1161.0,1425.8,2015.6,1767.4,1842.4,3254.4,4005.2,1973.2,3160.0,1766.8,4055.6,5087.2,3320.0,3434.4,5756.8,4941.2,5162.8,5264.0,4878.8,5047.2,5158.4,6007.2,6545.6,5396.4,6381.6,4903.6,5781.2,7758.4,7586.4,7111.2,7264.0,4848.0,2415.2,3525.2,4735.2,3850.0,3753.75,3657.5,3561.25,3465.0,3368.75,3272.5,null,null,null,null,null,null,null,null,null,null,null,null,null,null,null,null,null,null,null,null,null,null,null,null,null,null,null,null,null,null,null,null,null,0.0,0.0,0.0,0.0,0.0,0.0,0.0,0.0,0.0,0.0,0.0,0.0,0.0,0.0,0.0,0.0,0.0,0.0,0.0,0.0,0.0,0.0,0.0,0.0,0.0,0.0,0.0,0.0,0.0,0.0,0.0,0.0,0.0,0.0,0.0,0.0,0.0,0.0,0.0,0.0,0.0,0.0,0.0,0.0,0.0,0.0,0.0,0.0,0.0,0.0,0.0,0.0,0.0,0.0,0.0,0.0,0.0,0.0,0.0,0.0],\"type\":\"scatter\",\"xaxis\":\"x4\",\"yaxis\":\"y4\"},{\"line\":{\"width\":1},\"marker\":{\"color\":\"green\",\"size\":2},\"mode\":\"lines\",\"y\":[0.0,1.706836,11.767969,32.796875,62.51875,98.525,138.4,178.65,221.125,263.175,304.55,345.9,388.4,430.4,471.95,514.05,553.8,593.3,630.3,666.4,701.0,733.7,765.7,796.9,827.1,855.3,882.3,906.1,928.4,949.4,967.4,984.3,999.4,1013.1,1021.7,1027.1,1034.4,1039.2,1040.6,1040.8,1035.8,1031.8,1025.9,1015.4,1004.6,992.4,976.8,959.4,939.7,919.8,897.5,876.4,835.6,808.7,794.4,762.9,731.4,683.9,665.6,637.6,583.3,518.25,364.15,482.65,446.8,365.5,330.4,224.875,184.225,203.4,160.025,139.3875,98.725,67.5375,49.80625,29.9,12.363281,1.5844727,0.0,0.0,0.0,0.0,0.0,0.0,0.0,0.0,0.0,0.0,0.0,0.0,0.0,0.0,0.0,0.0,0.0,0.0,0.0,0.0,0.0,0.0,0.0,0.0,0.0,0.0,0.0,0.0,0.0,0.0,0.0,0.0,0.0,0.0,0.0,0.0,0.0,0.0,0.0,0.0,0.0,0.0,0.0,0.0,0.0,0.0,0.0,0.0,0.0,0.0,0.0,0.0,0.0,0.0,0.0,0.0,0.0,0.0,0.0,0.0,0.0,0.0,0.0,0.0,0.0,0.0],\"type\":\"scatter\",\"xaxis\":\"x5\",\"yaxis\":\"y5\"},{\"marker\":{\"color\":\"red\"},\"mode\":\"lines\",\"y\":[0.0,0.0,10.829297,136.1375,277.175,479.1,713.2,965.0,1263.0,1585.6,1920.8,2258.8,2632.8,2981.6,3329.6,3658.8,3994.8,4296.0,4583.2,4848.0,5106.4,5320.8,5548.0,5772.8,5996.0,6193.6,6393.6,6567.2,6716.8,6833.6,6938.4,7056.8,7158.4,7228.0,7269.6,7268.8,7344.8,7368.8,7369.6,7356.8,7322.4,7280.8,7278.4,7204.8,7120.0,7042.0,6952.8,6819.2,6678.4,6544.8,6389.6,6201.6,6022.4,5420.0,5245.161,5070.3228,4895.484,4720.645,4545.8066,4370.968,31.837055206298828,191.6420135498047,396.8157653808594,603.1702270507812,750.5287475585938,860.900146484375,1078.9056396484375,968.7529296875,861.8320922851562,787.4674072265625,660.0409545898438,561.757568359375,443.4605407714844,336.88568115234375,229.3126220703125,180.66055297851562,112.20426177978516,36.462276458740234,3.545232057571411,1.194311261177063,1.194311261177063,1.194311261177063,1.194311261177063,1.194311261177063,0.0,0.0,0.0,0.0,0.0,0.0,0.0,0.0,0.0,0.0,0.0,0.0,0.0,0.0,0.0,0.0,0.0,0.0,0.0,0.0,0.0,0.0,0.0,0.0,0.0,0.0,0.0,0.0,0.0,0.0,0.0,0.0,0.0,0.0,0.0,0.0,0.0,0.0,0.0,0.0,0.0,0.0,0.0,0.0,0.0,0.0,0.0,0.0,0.0,0.0,0.0,0.0,0.0,0.0,0.0,0.0,0.0,0.0,0.0,0.0],\"type\":\"scatter\",\"xaxis\":\"x5\",\"yaxis\":\"y5\"},{\"marker\":{\"color\":\"LightSkyBlue\"},\"mode\":\"lines\",\"y\":[0.0,0.0,10.829297,136.1375,277.175,479.1,713.2,965.0,1263.0,1585.6,1920.8,2258.8,2632.8,2981.6,3329.6,3658.8,3994.8,4296.0,4583.2,4848.0,5106.4,5320.8,5548.0,5772.8,5996.0,6193.6,6393.6,6567.2,6716.8,6833.6,6938.4,7056.8,7158.4,7228.0,7269.6,7268.8,7344.8,7368.8,7369.6,7356.8,7322.4,7280.8,7278.4,7204.8,7120.0,7042.0,6952.8,6819.2,6678.4,6544.8,6389.6,6201.6,6022.4,5420.0,5245.161,5070.3228,4895.484,4720.645,4545.8066,4370.968,null,null,null,null,null,null,null,null,null,null,null,null,null,null,null,null,null,null,null,null,null,null,null,null,0.0,0.0,0.0,0.0,0.0,0.0,0.0,0.0,0.0,0.0,0.0,0.0,0.0,0.0,0.0,0.0,0.0,0.0,0.0,0.0,0.0,0.0,0.0,0.0,0.0,0.0,0.0,0.0,0.0,0.0,0.0,0.0,0.0,0.0,0.0,0.0,0.0,0.0,0.0,0.0,0.0,0.0,0.0,0.0,0.0,0.0,0.0,0.0,0.0,0.0,0.0,0.0,0.0,0.0,0.0,0.0,0.0,0.0,0.0,0.0],\"type\":\"scatter\",\"xaxis\":\"x5\",\"yaxis\":\"y5\"},{\"line\":{\"width\":1},\"marker\":{\"color\":\"green\",\"size\":2},\"mode\":\"lines\",\"y\":[0.0,0.0,0.0,0.0,0.0,0.0,0.0,0.0,0.0,0.0,0.0,0.0,0.0,0.0,0.0,0.0,0.0,0.0,0.0,0.0,0.0,0.0,0.0,0.0,0.0,0.0,0.0,0.0,0.0,0.0,0.0,0.0,0.0,0.0,0.0,0.0,0.0,0.0,0.0,0.0,0.0,0.0,0.0,0.0,0.0,0.0,0.0,0.0,0.0,0.0,0.0,0.0,0.0,0.0,0.0,0.0,0.0,0.0,0.0,0.0,0.0,0.3149414,6.7726564,24.448437,50.34375,81.425,116.4875,152.05,189.3,227.7,268.1,310.1,353.0,407.0,492.4,534.3,561.5,617.0,617.7,620.3,655.4,690.6,718.3,750.6,780.2,810.1,830.3,855.9,874.5,894.3,914.3,932.2,952.4,964.2,973.8,977.8,982.5,986.9,990.4,992.3,992.7,988.6,981.8,972.2,963.9,951.4,935.5,919.4,929.6,924.8,908.2,843.9,910.7,803.8,406.4,295.7,205.05,215.475,259.625,326.45,289.45,273.65,237.925,235.425,210.35,158.975,174.925,171.225,129.6375,124.9,126.95,119.0375,97.9,74.075,47.94375,27.7875,6.7915525,0.0,0.0,0.0,0.0,0.0,0.0,0.0,0.0,0.0,0.0,0.0,0.0,0.0,0.0,0.0,0.0,0.0,0.0,0.0,0.0,0.0,0.0,0.0,0.0,0.0,0.0,0.0,0.0,0.0,0.0,0.0,0.0,0.0,0.0,0.0,0.0,0.0,0.0,0.0,0.0,0.0,0.0,0.0,0.0,0.0,0.0,0.0,0.0,0.0,0.0,0.0,0.0,0.0,0.0,0.0,0.0,0.0,0.0,0.0,0.0,0.0,0.0,0.0,0.0,0.0,0.0,0.0],\"type\":\"scatter\",\"xaxis\":\"x6\",\"yaxis\":\"y6\"},{\"marker\":{\"color\":\"red\"},\"mode\":\"lines\",\"y\":[0.0,0.0,0.0,0.0,0.0,0.0,0.0,0.0,0.0,0.0,0.0,0.0,0.0,0.0,0.0,0.0,0.0,0.0,0.0,0.0,0.0,0.0,0.0,0.0,0.0,0.0,0.0,0.0,0.0,0.0,0.0,0.0,0.0,0.0,0.0,0.0,0.0,0.0,0.0,0.0,0.0,0.0,0.0,0.0,0.0,0.0,0.0,0.0,0.0,0.0,0.0,0.0,0.0,0.0,0.0,0.0,0.0,0.0,0.0,0.0,348.5209045410156,291.7257995605469,235.69187927246094,240.0946502685547,361.3675537109375,498.03594970703125,643.0621948242188,844.0733642578125,1044.8275146484375,1237.733642578125,1497.9981689453125,1746.7880859375,2030.72900390625,2367.911865234375,2900.167236328125,3364.868896484375,3627.086669921875,4012.254638671875,4143.6220703125,4329.9775390625,4552.40283203125,4776.08447265625,5101.0322265625,5316.39404296875,5483.20263671875,5585.8505859375,5752.46142578125,5931.24365234375,6076.98828125,6234.5927734375,6326.96240234375,6418.6484375,6477.626953125,6552.77099609375,6641.22509765625,6745.70263671875,6830.96044921875,6857.40087890625,6884.14501953125,6896.283203125,6895.279296875,6886.3974609375,6869.52197265625,6780.8349609375,6676.05810546875,6613.486328125,6522.26171875,6396.6875,6341.9453125,6311.87744140625,6232.8330078125,5930.89404296875,5834.15478515625,5592.2421875,3453.319580078125,2601.163818359375,1923.53173828125,1547.9210205078125,1566.0238037109375,1805.5106201171875,1698.466552734375,1573.6927490234375,1406.246337890625,1294.7679443359375,1148.0113525390625,970.6119995117188,861.633544921875,770.1069946289062,625.9978637695312,557.279296875,517.0360107421875,495.2610778808594,429.3802185058594,354.8132019042969,250.50106811523438,161.95652770996094,68.08475494384766,7.0761590003967285,3.545232057571411,1.194311261177063,1.194311261177063,1.194311261177063,1.194311261177063,1.194311261177063,0.0,0.0,0.0,0.0,0.0,0.0,0.0,0.0,0.0,0.0,0.0,0.0,0.0,0.0,0.0,0.0,0.0,0.0,0.0,0.0,0.0,0.0,0.0,0.0,0.0,0.0,0.0,0.0,0.0,0.0,0.0,0.0,0.0,0.0,0.0,0.0,0.0,0.0,0.0,0.0,0.0,0.0,0.0,0.0,0.0,0.0,0.0,0.0,0.0,0.0,0.0,0.0,0.0,0.0,0.0,0.0,0.0,0.0,0.0,0.0],\"type\":\"scatter\",\"xaxis\":\"x6\",\"yaxis\":\"y6\"},{\"marker\":{\"color\":\"LightSkyBlue\"},\"mode\":\"lines\",\"y\":[0.0,0.0,0.0,0.0,0.0,0.0,0.0,0.0,0.0,0.0,0.0,0.0,0.0,0.0,0.0,0.0,0.0,0.0,0.0,0.0,0.0,0.0,0.0,0.0,0.0,0.0,0.0,0.0,0.0,0.0,0.0,0.0,0.0,0.0,0.0,0.0,0.0,0.0,0.0,0.0,0.0,0.0,0.0,0.0,0.0,0.0,0.0,0.0,0.0,0.0,0.0,0.0,0.0,0.0,0.0,0.0,0.0,0.0,0.0,0.0,null,null,null,null,null,null,null,null,null,null,null,null,null,null,null,null,null,null,null,null,null,null,null,null,null,null,null,null,null,null,null,null,null,null,null,null,null,null,null,null,null,null,null,null,null,null,null,null,null,null,null,null,null,null,null,null,null,null,null,null,null,null,null,null,null,null,null,null,null,null,null,null,null,null,null,null,null,null,null,null,null,null,null,null,0.0,0.0,0.0,0.0,0.0,0.0,0.0,0.0,0.0,0.0,0.0,0.0,0.0,0.0,0.0,0.0,0.0,0.0,0.0,0.0,0.0,0.0,0.0,0.0,0.0,0.0,0.0,0.0,0.0,0.0,0.0,0.0,0.0,0.0,0.0,0.0,0.0,0.0,0.0,0.0,0.0,0.0,0.0,0.0,0.0,0.0,0.0,0.0,0.0,0.0,0.0,0.0,0.0,0.0,0.0,0.0,0.0,0.0,0.0,0.0],\"type\":\"scatter\",\"xaxis\":\"x6\",\"yaxis\":\"y6\"}],                        {\"template\":{\"data\":{\"histogram2dcontour\":[{\"type\":\"histogram2dcontour\",\"colorbar\":{\"outlinewidth\":0,\"ticks\":\"\"},\"colorscale\":[[0.0,\"#0d0887\"],[0.1111111111111111,\"#46039f\"],[0.2222222222222222,\"#7201a8\"],[0.3333333333333333,\"#9c179e\"],[0.4444444444444444,\"#bd3786\"],[0.5555555555555556,\"#d8576b\"],[0.6666666666666666,\"#ed7953\"],[0.7777777777777778,\"#fb9f3a\"],[0.8888888888888888,\"#fdca26\"],[1.0,\"#f0f921\"]]}],\"choropleth\":[{\"type\":\"choropleth\",\"colorbar\":{\"outlinewidth\":0,\"ticks\":\"\"}}],\"histogram2d\":[{\"type\":\"histogram2d\",\"colorbar\":{\"outlinewidth\":0,\"ticks\":\"\"},\"colorscale\":[[0.0,\"#0d0887\"],[0.1111111111111111,\"#46039f\"],[0.2222222222222222,\"#7201a8\"],[0.3333333333333333,\"#9c179e\"],[0.4444444444444444,\"#bd3786\"],[0.5555555555555556,\"#d8576b\"],[0.6666666666666666,\"#ed7953\"],[0.7777777777777778,\"#fb9f3a\"],[0.8888888888888888,\"#fdca26\"],[1.0,\"#f0f921\"]]}],\"heatmap\":[{\"type\":\"heatmap\",\"colorbar\":{\"outlinewidth\":0,\"ticks\":\"\"},\"colorscale\":[[0.0,\"#0d0887\"],[0.1111111111111111,\"#46039f\"],[0.2222222222222222,\"#7201a8\"],[0.3333333333333333,\"#9c179e\"],[0.4444444444444444,\"#bd3786\"],[0.5555555555555556,\"#d8576b\"],[0.6666666666666666,\"#ed7953\"],[0.7777777777777778,\"#fb9f3a\"],[0.8888888888888888,\"#fdca26\"],[1.0,\"#f0f921\"]]}],\"heatmapgl\":[{\"type\":\"heatmapgl\",\"colorbar\":{\"outlinewidth\":0,\"ticks\":\"\"},\"colorscale\":[[0.0,\"#0d0887\"],[0.1111111111111111,\"#46039f\"],[0.2222222222222222,\"#7201a8\"],[0.3333333333333333,\"#9c179e\"],[0.4444444444444444,\"#bd3786\"],[0.5555555555555556,\"#d8576b\"],[0.6666666666666666,\"#ed7953\"],[0.7777777777777778,\"#fb9f3a\"],[0.8888888888888888,\"#fdca26\"],[1.0,\"#f0f921\"]]}],\"contourcarpet\":[{\"type\":\"contourcarpet\",\"colorbar\":{\"outlinewidth\":0,\"ticks\":\"\"}}],\"contour\":[{\"type\":\"contour\",\"colorbar\":{\"outlinewidth\":0,\"ticks\":\"\"},\"colorscale\":[[0.0,\"#0d0887\"],[0.1111111111111111,\"#46039f\"],[0.2222222222222222,\"#7201a8\"],[0.3333333333333333,\"#9c179e\"],[0.4444444444444444,\"#bd3786\"],[0.5555555555555556,\"#d8576b\"],[0.6666666666666666,\"#ed7953\"],[0.7777777777777778,\"#fb9f3a\"],[0.8888888888888888,\"#fdca26\"],[1.0,\"#f0f921\"]]}],\"surface\":[{\"type\":\"surface\",\"colorbar\":{\"outlinewidth\":0,\"ticks\":\"\"},\"colorscale\":[[0.0,\"#0d0887\"],[0.1111111111111111,\"#46039f\"],[0.2222222222222222,\"#7201a8\"],[0.3333333333333333,\"#9c179e\"],[0.4444444444444444,\"#bd3786\"],[0.5555555555555556,\"#d8576b\"],[0.6666666666666666,\"#ed7953\"],[0.7777777777777778,\"#fb9f3a\"],[0.8888888888888888,\"#fdca26\"],[1.0,\"#f0f921\"]]}],\"mesh3d\":[{\"type\":\"mesh3d\",\"colorbar\":{\"outlinewidth\":0,\"ticks\":\"\"}}],\"scatter\":[{\"fillpattern\":{\"fillmode\":\"overlay\",\"size\":10,\"solidity\":0.2},\"type\":\"scatter\"}],\"parcoords\":[{\"type\":\"parcoords\",\"line\":{\"colorbar\":{\"outlinewidth\":0,\"ticks\":\"\"}}}],\"scatterpolargl\":[{\"type\":\"scatterpolargl\",\"marker\":{\"colorbar\":{\"outlinewidth\":0,\"ticks\":\"\"}}}],\"bar\":[{\"error_x\":{\"color\":\"#2a3f5f\"},\"error_y\":{\"color\":\"#2a3f5f\"},\"marker\":{\"line\":{\"color\":\"#E5ECF6\",\"width\":0.5},\"pattern\":{\"fillmode\":\"overlay\",\"size\":10,\"solidity\":0.2}},\"type\":\"bar\"}],\"scattergeo\":[{\"type\":\"scattergeo\",\"marker\":{\"colorbar\":{\"outlinewidth\":0,\"ticks\":\"\"}}}],\"scatterpolar\":[{\"type\":\"scatterpolar\",\"marker\":{\"colorbar\":{\"outlinewidth\":0,\"ticks\":\"\"}}}],\"histogram\":[{\"marker\":{\"pattern\":{\"fillmode\":\"overlay\",\"size\":10,\"solidity\":0.2}},\"type\":\"histogram\"}],\"scattergl\":[{\"type\":\"scattergl\",\"marker\":{\"colorbar\":{\"outlinewidth\":0,\"ticks\":\"\"}}}],\"scatter3d\":[{\"type\":\"scatter3d\",\"line\":{\"colorbar\":{\"outlinewidth\":0,\"ticks\":\"\"}},\"marker\":{\"colorbar\":{\"outlinewidth\":0,\"ticks\":\"\"}}}],\"scattermapbox\":[{\"type\":\"scattermapbox\",\"marker\":{\"colorbar\":{\"outlinewidth\":0,\"ticks\":\"\"}}}],\"scatterternary\":[{\"type\":\"scatterternary\",\"marker\":{\"colorbar\":{\"outlinewidth\":0,\"ticks\":\"\"}}}],\"scattercarpet\":[{\"type\":\"scattercarpet\",\"marker\":{\"colorbar\":{\"outlinewidth\":0,\"ticks\":\"\"}}}],\"carpet\":[{\"aaxis\":{\"endlinecolor\":\"#2a3f5f\",\"gridcolor\":\"white\",\"linecolor\":\"white\",\"minorgridcolor\":\"white\",\"startlinecolor\":\"#2a3f5f\"},\"baxis\":{\"endlinecolor\":\"#2a3f5f\",\"gridcolor\":\"white\",\"linecolor\":\"white\",\"minorgridcolor\":\"white\",\"startlinecolor\":\"#2a3f5f\"},\"type\":\"carpet\"}],\"table\":[{\"cells\":{\"fill\":{\"color\":\"#EBF0F8\"},\"line\":{\"color\":\"white\"}},\"header\":{\"fill\":{\"color\":\"#C8D4E3\"},\"line\":{\"color\":\"white\"}},\"type\":\"table\"}],\"barpolar\":[{\"marker\":{\"line\":{\"color\":\"#E5ECF6\",\"width\":0.5},\"pattern\":{\"fillmode\":\"overlay\",\"size\":10,\"solidity\":0.2}},\"type\":\"barpolar\"}],\"pie\":[{\"automargin\":true,\"type\":\"pie\"}]},\"layout\":{\"autotypenumbers\":\"strict\",\"colorway\":[\"#636efa\",\"#EF553B\",\"#00cc96\",\"#ab63fa\",\"#FFA15A\",\"#19d3f3\",\"#FF6692\",\"#B6E880\",\"#FF97FF\",\"#FECB52\"],\"font\":{\"color\":\"#2a3f5f\"},\"hovermode\":\"closest\",\"hoverlabel\":{\"align\":\"left\"},\"paper_bgcolor\":\"white\",\"plot_bgcolor\":\"#E5ECF6\",\"polar\":{\"bgcolor\":\"#E5ECF6\",\"angularaxis\":{\"gridcolor\":\"white\",\"linecolor\":\"white\",\"ticks\":\"\"},\"radialaxis\":{\"gridcolor\":\"white\",\"linecolor\":\"white\",\"ticks\":\"\"}},\"ternary\":{\"bgcolor\":\"#E5ECF6\",\"aaxis\":{\"gridcolor\":\"white\",\"linecolor\":\"white\",\"ticks\":\"\"},\"baxis\":{\"gridcolor\":\"white\",\"linecolor\":\"white\",\"ticks\":\"\"},\"caxis\":{\"gridcolor\":\"white\",\"linecolor\":\"white\",\"ticks\":\"\"}},\"coloraxis\":{\"colorbar\":{\"outlinewidth\":0,\"ticks\":\"\"}},\"colorscale\":{\"sequential\":[[0.0,\"#0d0887\"],[0.1111111111111111,\"#46039f\"],[0.2222222222222222,\"#7201a8\"],[0.3333333333333333,\"#9c179e\"],[0.4444444444444444,\"#bd3786\"],[0.5555555555555556,\"#d8576b\"],[0.6666666666666666,\"#ed7953\"],[0.7777777777777778,\"#fb9f3a\"],[0.8888888888888888,\"#fdca26\"],[1.0,\"#f0f921\"]],\"sequentialminus\":[[0.0,\"#0d0887\"],[0.1111111111111111,\"#46039f\"],[0.2222222222222222,\"#7201a8\"],[0.3333333333333333,\"#9c179e\"],[0.4444444444444444,\"#bd3786\"],[0.5555555555555556,\"#d8576b\"],[0.6666666666666666,\"#ed7953\"],[0.7777777777777778,\"#fb9f3a\"],[0.8888888888888888,\"#fdca26\"],[1.0,\"#f0f921\"]],\"diverging\":[[0,\"#8e0152\"],[0.1,\"#c51b7d\"],[0.2,\"#de77ae\"],[0.3,\"#f1b6da\"],[0.4,\"#fde0ef\"],[0.5,\"#f7f7f7\"],[0.6,\"#e6f5d0\"],[0.7,\"#b8e186\"],[0.8,\"#7fbc41\"],[0.9,\"#4d9221\"],[1,\"#276419\"]]},\"xaxis\":{\"gridcolor\":\"white\",\"linecolor\":\"white\",\"ticks\":\"\",\"title\":{\"standoff\":15},\"zerolinecolor\":\"white\",\"automargin\":true,\"zerolinewidth\":2},\"yaxis\":{\"gridcolor\":\"white\",\"linecolor\":\"white\",\"ticks\":\"\",\"title\":{\"standoff\":15},\"zerolinecolor\":\"white\",\"automargin\":true,\"zerolinewidth\":2},\"scene\":{\"xaxis\":{\"backgroundcolor\":\"#E5ECF6\",\"gridcolor\":\"white\",\"linecolor\":\"white\",\"showbackground\":true,\"ticks\":\"\",\"zerolinecolor\":\"white\",\"gridwidth\":2},\"yaxis\":{\"backgroundcolor\":\"#E5ECF6\",\"gridcolor\":\"white\",\"linecolor\":\"white\",\"showbackground\":true,\"ticks\":\"\",\"zerolinecolor\":\"white\",\"gridwidth\":2},\"zaxis\":{\"backgroundcolor\":\"#E5ECF6\",\"gridcolor\":\"white\",\"linecolor\":\"white\",\"showbackground\":true,\"ticks\":\"\",\"zerolinecolor\":\"white\",\"gridwidth\":2}},\"shapedefaults\":{\"line\":{\"color\":\"#2a3f5f\"}},\"annotationdefaults\":{\"arrowcolor\":\"#2a3f5f\",\"arrowhead\":0,\"arrowwidth\":1},\"geo\":{\"bgcolor\":\"white\",\"landcolor\":\"#E5ECF6\",\"subunitcolor\":\"white\",\"showland\":true,\"showlakes\":true,\"lakecolor\":\"white\"},\"title\":{\"x\":0.05},\"mapbox\":{\"style\":\"light\"}}},\"xaxis\":{\"anchor\":\"y\",\"domain\":[0.0,0.45]},\"yaxis\":{\"anchor\":\"x\",\"domain\":[0.7333333333333333,1.0]},\"xaxis2\":{\"anchor\":\"y2\",\"domain\":[0.55,1.0]},\"yaxis2\":{\"anchor\":\"x2\",\"domain\":[0.7333333333333333,1.0],\"matches\":\"y\",\"showticklabels\":false},\"xaxis3\":{\"anchor\":\"y3\",\"domain\":[0.0,0.45]},\"yaxis3\":{\"anchor\":\"x3\",\"domain\":[0.36666666666666664,0.6333333333333333]},\"xaxis4\":{\"anchor\":\"y4\",\"domain\":[0.55,1.0]},\"yaxis4\":{\"anchor\":\"x4\",\"domain\":[0.36666666666666664,0.6333333333333333],\"matches\":\"y3\",\"showticklabels\":false},\"xaxis5\":{\"anchor\":\"y5\",\"domain\":[0.0,0.45]},\"yaxis5\":{\"anchor\":\"x5\",\"domain\":[0.0,0.26666666666666666]},\"xaxis6\":{\"anchor\":\"y6\",\"domain\":[0.55,1.0]},\"yaxis6\":{\"anchor\":\"x6\",\"domain\":[0.0,0.26666666666666666],\"matches\":\"y5\",\"showticklabels\":false},\"title\":{\"text\":\"Imputation on test samples\"},\"height\":700,\"width\":1100,\"showlegend\":false},                        {\"responsive\": true}                    ).then(function(){\n",
       "                            \n",
       "var gd = document.getElementById('3b36fac9-083c-46f7-aa77-3799aa557767');\n",
       "var x = new MutationObserver(function (mutations, observer) {{\n",
       "        var display = window.getComputedStyle(gd).display;\n",
       "        if (!display || display === 'none') {{\n",
       "            console.log([gd, 'removed!']);\n",
       "            Plotly.purge(gd);\n",
       "            observer.disconnect();\n",
       "        }}\n",
       "}});\n",
       "\n",
       "// Listen for the removal of the full notebook cells\n",
       "var notebookContainer = gd.closest('#notebook-container');\n",
       "if (notebookContainer) {{\n",
       "    x.observe(notebookContainer, {childList: true});\n",
       "}}\n",
       "\n",
       "// Listen for the clearing of the current output cell\n",
       "var outputEl = gd.closest('.output');\n",
       "if (outputEl) {{\n",
       "    x.observe(outputEl, {childList: true});\n",
       "}}\n",
       "\n",
       "                        })                };                });            </script>        </div>"
      ]
     },
     "metadata": {},
     "output_type": "display_data"
    }
   ],
   "source": [
    "# Visualize Gap Filling Results\n",
    "\n",
    "fig = make_subplots(rows=3, cols=2, shared_yaxes=True)\n",
    "\n",
    "k = 6\n",
    "for i in range(6):    \n",
    "    start = gaps[i+k][0] - pd.Timedelta(hours=10)\n",
    "    end = gaps[i+k][1] + pd.Timedelta(hours=10)\n",
    "    fig.add_trace(go.Scatter(y=df_imputed.loc[start:end, 'GTI'],\n",
    "                    mode='lines', line=dict(width=1), marker=dict(color='green', size=2)), row=1+i//2, col=1+i%2)\n",
    "    fig.add_trace(go.Scatter(y=df_imputed.loc[start:end, 'P_DC_XGB'],\n",
    "                    mode='lines', marker=dict(color='red')), row=1+i//2, col=1+i%2)\n",
    "    fig.add_trace(go.Scatter(y=df_imputed.loc[start:end, 'P_DC'],\n",
    "                    mode='lines', marker=dict(color='LightSkyBlue')), row=1+i//2, col=1+i%2)\n",
    "\n",
    "fig.update_layout(height=700, width=1100, showlegend=False,\n",
    "                  title_text=\"Imputation on test samples\")\n",
    "fig.show()"
   ]
  }
 ],
 "metadata": {
  "kernelspec": {
   "display_name": "Python 3 (ipykernel)",
   "language": "python",
   "name": "python3"
  },
  "language_info": {
   "codemirror_mode": {
    "name": "ipython",
    "version": 3
   },
   "file_extension": ".py",
   "mimetype": "text/x-python",
   "name": "python",
   "nbconvert_exporter": "python",
   "pygments_lexer": "ipython3",
   "version": "3.11.4"
  }
 },
 "nbformat": 4,
 "nbformat_minor": 5
}
